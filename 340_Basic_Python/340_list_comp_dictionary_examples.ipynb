{
 "cells": [
  {
   "cell_type": "code",
   "execution_count": 6,
   "metadata": {},
   "outputs": [
    {
     "name": "stdout",
     "output_type": "stream",
     "text": [
      "['Mariya', 'Relax Batman', 'Spongebob']\n"
     ]
    }
   ],
   "source": [
    "names = [\"mariya\", \"BATMAN\", \"spongebob\"]\n",
    "new_names = []\n",
    "\n",
    "for n in names:\n",
    "    if n.islower():\n",
    "        n = n.capitalize()\n",
    "    else:\n",
    "        n = \"Relax \" + n.capitalize()\n",
    "    new_names.append(n)\n",
    "\n",
    "names = new_names\n",
    "print(names)"
   ]
  },
  {
   "cell_type": "code",
   "execution_count": 11,
   "metadata": {},
   "outputs": [
    {
     "name": "stdout",
     "output_type": "stream",
     "text": [
      "h i d d e n m e s s a g e\n"
     ]
    }
   ],
   "source": [
    "my_string = \"hi442nm233ag2\"\n",
    "new_string = \" \".join(\n",
    "    [ \"d\" if i==\"4\"\n",
    "     else \"e\" if i==\"2\"\n",
    "     else \"s\" if i==\"3\"\n",
    "     else i\n",
    "     for i in my_string]\n",
    ")\n",
    "\n",
    "print(new_string)"
   ]
  },
  {
   "cell_type": "code",
   "execution_count": 20,
   "metadata": {},
   "outputs": [
    {
     "name": "stdout",
     "output_type": "stream",
     "text": [
      "['APPLES', 'BANANAS', 'STRAWBERRIES']\n"
     ]
    }
   ],
   "source": [
    "fruits = [\"apples\", \"bananas\", \"strawberries\"]\n",
    "new_fruits = []\n",
    "\n",
    "fruits = [fruit.upper() for fruit in fruits]\n",
    "print(fruits)"
   ]
  },
  {
   "cell_type": "code",
   "execution_count": 21,
   "metadata": {},
   "outputs": [
    {
     "name": "stdout",
     "output_type": "stream",
     "text": [
      "Output List using for loop: [1, 9, 25, 49, 81]\n"
     ]
    }
   ],
   "source": [
    "my_list = []\n",
    "for e in range(1, 10, 2):\n",
    "  my_list.append(e**2)\n",
    "print(\"Output List using for loop:\", my_list)"
   ]
  },
  {
   "cell_type": "code",
   "execution_count": 22,
   "metadata": {},
   "outputs": [
    {
     "name": "stdout",
     "output_type": "stream",
     "text": [
      "Output List using Comprehension : [1, 9, 25, 49, 81]\n"
     ]
    }
   ],
   "source": [
    "my_list = [e**2 for e in range(1, 10, 2)]\n",
    "print(\"Output List using Comprehension :\", my_list)\n"
   ]
  },
  {
   "cell_type": "markdown",
   "metadata": {},
   "source": [
    "Example 4: List comprehension"
   ]
  },
  {
   "cell_type": "code",
   "execution_count": 23,
   "metadata": {},
   "outputs": [
    {
     "name": "stdout",
     "output_type": "stream",
     "text": [
      "['A', 'C', 'B', 'B', 'A']\n"
     ]
    }
   ],
   "source": [
    "grades = [95, 55, 83, 75, 91]\n",
    "grades_result = []\n",
    "for g in grades:\n",
    "  if g >= 90:\n",
    "    grades_result.append('A')\n",
    "  elif g >= 75:\n",
    "    grades_result.append('B')\n",
    "  else: grades_result.append('C')\n",
    "print(grades_result)\n"
   ]
  },
  {
   "cell_type": "code",
   "execution_count": 26,
   "metadata": {},
   "outputs": [
    {
     "name": "stdout",
     "output_type": "stream",
     "text": [
      "['A', 'C', 'B', 'B', 'A']\n",
      "['A', 'C', 'B', 'B', 'A']\n"
     ]
    }
   ],
   "source": [
    "grades = [95, 55, 83, 75, 91]\n",
    "grades_result = [('A' if g>=90 else ('B' if g>=75 else 'C')) for g in grades]\n",
    "print(grades_result)\n",
    "\n",
    "grades_result2 = ['A' if g>=90 else 'B' if g>=75 else 'C' for g in grades]\n",
    "\n",
    "print(grades_result2)"
   ]
  },
  {
   "cell_type": "code",
   "execution_count": null,
   "metadata": {},
   "outputs": [],
   "source": []
  },
  {
   "cell_type": "code",
   "execution_count": null,
   "metadata": {},
   "outputs": [],
   "source": [
    "pairs = []\n",
    "for i in range(3):\n",
    "  for j in range(2):\n",
    "    pairs.append((i, j))\n",
    "print(pairs)\n",
    "\n",
    "pairs = [(i, j) for i in range(3) for j in range(2)]\n",
    "print(pairs)"
   ]
  },
  {
   "cell_type": "code",
   "execution_count": 7,
   "metadata": {},
   "outputs": [
    {
     "name": "stdout",
     "output_type": "stream",
     "text": [
      "[('Java', 13), ('JavaScript', 2019), ('Scala', 2.13)]\n"
     ]
    }
   ],
   "source": [
    "prog_lang = [('Python', 3.8),\n",
    "             ('Java', 13),\n",
    "             ('JavaScript', 2019),\n",
    "             ('Scala', 2.13)]\n",
    "\n",
    "list_filtered = list([x for x in prog_lang if 'a' in x[0]])\n",
    "print(list_filtered)"
   ]
  },
  {
   "cell_type": "code",
   "execution_count": 11,
   "metadata": {},
   "outputs": [
    {
     "name": "stdout",
     "output_type": "stream",
     "text": [
      "[('Scala', 2.13), ('Python', 3.8), ('Java', 13), ('JavaScript', 2019)]\n"
     ]
    }
   ],
   "source": [
    "# 1 Sort the list by each language's version in ascending order.\n",
    "prog_lang = [('Python', 3.8),\n",
    "             ('Java', 13),\n",
    "             ('JavaScript', 2019),\n",
    "             ('Scala', 2.13)]\n",
    "list_filtered = sorted([x for x in prog_lang], key= lambda x: x[1])\n",
    "print(list_filtered)\n"
   ]
  },
  {
   "cell_type": "code",
   "execution_count": 13,
   "metadata": {},
   "outputs": [
    {
     "name": "stdout",
     "output_type": "stream",
     "text": [
      "[('JavaScript', 2019), ('Python', 3.8), ('Scala', 2.13), ('Java', 13)]\n"
     ]
    }
   ],
   "source": [
    "# 2 Sort the list by the length of the name of each language in descending order.\n",
    "prog_lang = [('Python', 3.8),\n",
    "             ('Java', 13),\n",
    "             ('JavaScript', 2019),\n",
    "             ('Scala', 2.13)]\n",
    "list_filtered = sorted([x for x in prog_lang], key= lambda x: len(x[0]), reverse=True)\n",
    "print(list_filtered)\n"
   ]
  },
  {
   "cell_type": "code",
   "execution_count": 14,
   "metadata": {},
   "outputs": [
    {
     "name": "stdout",
     "output_type": "stream",
     "text": [
      "[('Java', 13), ('JavaScript', 2019), ('Scala', 2.13)]\n"
     ]
    }
   ],
   "source": [
    "# 3 Filter the list so that it only contains languages with 'a' in it.\n",
    "prog_lang = [('Python', 3.8),\n",
    "             ('Java', 13),\n",
    "             ('JavaScript', 2019),\n",
    "             ('Scala', 2.13)]\n",
    "list_filtered = [x for x in prog_lang if 'a' in x[0]]\n",
    "print(list_filtered)"
   ]
  },
  {
   "cell_type": "code",
   "execution_count": 21,
   "metadata": {},
   "outputs": [
    {
     "name": "stdout",
     "output_type": "stream",
     "text": [
      "[('Java', 13), ('JavaScript', 2019)]\n"
     ]
    }
   ],
   "source": [
    "# 4 Filter the list so that it only contains languages whose version is in integer form.\n",
    "prog_lang = [('Python', 3.8),\n",
    "             ('Java', 13),\n",
    "             ('JavaScript', 2019),\n",
    "             ('Scala', 2.13)]\n",
    "list_filtered = [x for x in prog_lang if type(x[1]) == int]\n",
    "print(list_filtered)"
   ]
  },
  {
   "cell_type": "code",
   "execution_count": 23,
   "metadata": {},
   "outputs": [
    {
     "name": "stdout",
     "output_type": "stream",
     "text": [
      "[('python', 6), ('java', 4), ('javascript', 10), ('scala', 5)]\n"
     ]
    }
   ],
   "source": [
    "# 5 Transform the list so that it contains the tuples in the form, (\"language in all lower case\", length of the language string)\n",
    "prog_lang = [('Python', 3.8),\n",
    "             ('Java', 13),\n",
    "             ('JavaScript', 2019),\n",
    "             ('Scala', 2.13)]\n",
    "list_filtered = [(x[0].lower(), len(x[0]))for x in prog_lang]\n",
    "print(list_filtered)"
   ]
  },
  {
   "cell_type": "code",
   "execution_count": 54,
   "metadata": {},
   "outputs": [
    {
     "name": "stdout",
     "output_type": "stream",
     "text": [
      "('Python,Java,JavaScript,Scala', '3.8,13,2019,2.13')\n"
     ]
    }
   ],
   "source": [
    "# 6 Generate a tuple in the form, (\"All languages separated by commas\", \"All versions separated by commas\").\n",
    "prog_lang = [('Python', 3.8),\n",
    "             ('Java', 13),\n",
    "             ('JavaScript', 2019),\n",
    "             ('Scala', 2.13)]\n",
    "language = \"\"\n",
    "version = \"\"\n",
    "for i in prog_lang:\n",
    "    language += (str(i[0]) + ',')\n",
    "    version += (str(i[1]) + ',')\n",
    "fin_tup = language[:len(language)-1], version[:len(version)-1]\n",
    "print(fin_tup)"
   ]
  },
  {
   "cell_type": "code",
   "execution_count": 64,
   "metadata": {},
   "outputs": [
    {
     "name": "stdout",
     "output_type": "stream",
     "text": [
      "[1, 3, 5, 7, 11, 13, 17, 23, 29] "
     ]
    },
    {
     "ename": "StopIteration",
     "evalue": "",
     "output_type": "error",
     "traceback": [
      "\u001b[0;31m---------------------------------------------------------------------------\u001b[0m",
      "\u001b[0;31mStopIteration\u001b[0m                             Traceback (most recent call last)",
      "Cell \u001b[0;32mIn[64], line 9\u001b[0m\n\u001b[1;32m      6\u001b[0m gen \u001b[38;5;241m=\u001b[39m primes_gen()\n\u001b[1;32m      8\u001b[0m \u001b[38;5;28;01mfor\u001b[39;00m _ \u001b[38;5;129;01min\u001b[39;00m \u001b[38;5;28mrange\u001b[39m(\u001b[38;5;241m10\u001b[39m) :\n\u001b[0;32m----> 9\u001b[0m     \u001b[38;5;28mprint\u001b[39m(\u001b[38;5;28;43mnext\u001b[39;49m\u001b[43m(\u001b[49m\u001b[43mgen\u001b[49m\u001b[43m)\u001b[49m, end\u001b[38;5;241m=\u001b[39m\u001b[38;5;124m\"\u001b[39m\u001b[38;5;124m \u001b[39m\u001b[38;5;124m\"\u001b[39m)\n",
      "\u001b[0;31mStopIteration\u001b[0m: "
     ]
    }
   ],
   "source": [
    "# 1 Create a generator, primes_gen that generates prime numbers starting from 2\n",
    "def primes_gen():\n",
    "    primes = [1,3,5,7,11,13,17,23,29]\n",
    "    yield primes\n",
    "\n",
    "gen = primes_gen()\n",
    "\n",
    "for _ in range(10) :\n",
    "    print(next(gen), end=\" \")\n"
   ]
  },
  {
   "cell_type": "code",
   "execution_count": 14,
   "metadata": {},
   "outputs": [
    {
     "name": "stdout",
     "output_type": "stream",
     "text": [
      "h l e o "
     ]
    }
   ],
   "source": [
    "# 3 Create a generator, unique_letters that geneartes the unique letters fromt heinput string.\n",
    "# It should generate the latters in the same order as from the input string. \n",
    "def unique_letters(word):\n",
    "    for char in set(word):\n",
    "        yield char\n",
    "––\n",
    "for letter in unique_letters('hello'):\n",
    "    print(letter, end=' ')"
   ]
  },
  {
   "cell_type": "code",
   "execution_count": null,
   "metadata": {},
   "outputs": [],
   "source": []
  },
  {
   "cell_type": "code",
   "execution_count": 15,
   "metadata": {},
   "outputs": [
    {
     "name": "stdout",
     "output_type": "stream",
     "text": [
      "h l e o "
     ]
    }
   ],
   "source": [
    "def unique_string(string):\n",
    "    seen = set(string)\n",
    "    for letter in seen:\n",
    "        yield letter\n",
    "\n",
    "for letter in unique_letters('hello'):\n",
    "    print(letter, end=' ')"
   ]
  },
  {
   "cell_type": "code",
   "execution_count": 16,
   "metadata": {},
   "outputs": [],
   "source": [
    "# 3 Create a generator, unique_letters that geneartes the unique letters fromt heinput string.\n",
    "# It should generate the latters in the same order as from the input string. \n",
    "\n",
    "def unique_letters(word):\n",
    "    reviewed = list()\n",
    "    for letter in reviewed:\n",
    "        if letter not in reviewed:\n",
    "            reviewed.add(letter)\n",
    "            yield letter\n",
    "\n",
    "            \n",
    "for letter in unique_letters('hello'):\n",
    "    print(letter, end=' ')\n"
   ]
  },
  {
   "cell_type": "code",
   "execution_count": 9,
   "metadata": {},
   "outputs": [],
   "source": [
    "def unique_string(string):\n",
    "    seen = set(string)\n",
    "    for letter in seen:\n",
    "        yield letter\n",
    "\n",
    "for letter in unique_letters('hello'):\n",
    "    print(letter, end=' ')"
   ]
  }
 ],
 "metadata": {
  "kernelspec": {
   "display_name": "Python 3",
   "language": "python",
   "name": "python3"
  },
  "language_info": {
   "codemirror_mode": {
    "name": "ipython",
    "version": 3
   },
   "file_extension": ".py",
   "mimetype": "text/x-python",
   "name": "python",
   "nbconvert_exporter": "python",
   "pygments_lexer": "ipython3",
   "version": "3.10.13"
  }
 },
 "nbformat": 4,
 "nbformat_minor": 2
}
