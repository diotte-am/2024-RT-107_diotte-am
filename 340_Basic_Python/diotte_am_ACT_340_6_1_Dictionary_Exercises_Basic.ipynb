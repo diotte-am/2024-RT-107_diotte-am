{
  "cells": [
    {
      "cell_type": "markdown",
      "metadata": {
        "id": "hLdVb0xtzLnJ"
      },
      "source": [
        "# **Dictionary Practice Excercises- Basics**\n",
        "\n",
        "Dictionaries are Python's implementation of a data structure that is more generally known as an associative array. A dictionary consists of a collection of key-value pairs. Each key-value pair maps the key to its associated value.\n",
        "<br></br>\n",
        "You can define a dictionary by enclosing a comma-separated list of key-value pairs in curly braces {}. A colon : separates each key from its associated value:\n",
        "\n",
        "\n"
      ]
    },
    {
      "cell_type": "code",
      "execution_count": 2,
      "metadata": {
        "id": "IFFcce61zi0N"
      },
      "outputs": [
        {
          "ename": "SyntaxError",
          "evalue": "invalid syntax (3335885604.py, line 2)",
          "output_type": "error",
          "traceback": [
            "\u001b[0;36m  Cell \u001b[0;32mIn[2], line 2\u001b[0;36m\u001b[0m\n\u001b[0;31m    <key>: <value>,\u001b[0m\n\u001b[0m    ^\u001b[0m\n\u001b[0;31mSyntaxError\u001b[0m\u001b[0;31m:\u001b[0m invalid syntax\n"
          ]
        }
      ],
      "source": [
        "d = {\n",
        "    <key>: <value>,\n",
        "    <key>: <value>,\n",
        "      .\n",
        "      .\n",
        "      .\n",
        "    <key>: <value>\n",
        "}"
      ]
    },
    {
      "cell_type": "markdown",
      "metadata": {
        "id": "WX26oSxdzpft"
      },
      "source": [
        "You can also construct a dictionary with the built-in dict() function. The argument to dict() should be a sequence of key-value pairs. A list of tuples works well for this:"
      ]
    },
    {
      "cell_type": "code",
      "execution_count": 3,
      "metadata": {
        "id": "ZSSo7IqZzyuz"
      },
      "outputs": [
        {
          "ename": "SyntaxError",
          "evalue": "invalid syntax (1685131574.py, line 2)",
          "output_type": "error",
          "traceback": [
            "\u001b[0;36m  Cell \u001b[0;32mIn[3], line 2\u001b[0;36m\u001b[0m\n\u001b[0;31m    (<key>, <value>),\u001b[0m\n\u001b[0m     ^\u001b[0m\n\u001b[0;31mSyntaxError\u001b[0m\u001b[0;31m:\u001b[0m invalid syntax\n"
          ]
        }
      ],
      "source": [
        "d = dict([\n",
        "    (<key>, <value>),\n",
        "    (<key>, <value),\n",
        "      .\n",
        "      .\n",
        "      .\n",
        "    (<key>, <value>)\n",
        "])"
      ]
    },
    {
      "cell_type": "markdown",
      "metadata": {
        "id": "6Z2fczdC7Xdg"
      },
      "source": [
        "**Restrictions on Keys and Values**\n",
        "\n",
        "Keys must be an immutable type and can only appear in a dictionary once.\n",
        "\n",
        "Values have zero restrictions. A dictionary value can be any type of object Python supports."
      ]
    },
    {
      "cell_type": "markdown",
      "metadata": {
        "id": "pKIBePLD0Hk5"
      },
      "source": [
        "**Problem 1**\n",
        "\n",
        "Use the following states and capitals to create dictionary objects.\n",
        "\n",
        ">Los Angeles, California\n",
        "\n",
        ">Albany, New York\n",
        "\n",
        ">Honolulu, Hawaii\n",
        "\n",
        ">Juneau, Alaska\n",
        "\n",
        ">Austin, Texas\n",
        "\n",
        "*   Create a Dictionary object with the {} bracket notation where the States are the Keys and the Capitals are the values.\n",
        "*   Create a Dictionary object with built-in dict() function where the States are the Keys and the Capitals are the values.\n",
        "*   Use the type() method to check the object type of each object\n",
        "*   Print each object to see all the key:value pairs in the dictionary\n",
        "\n"
      ]
    },
    {
      "cell_type": "code",
      "execution_count": 7,
      "metadata": {
        "colab": {
          "base_uri": "https://localhost:8080/"
        },
        "id": "1J260o5X1nfI",
        "outputId": "2095b96b-3418-4104-a116-7dcaa8587f0b"
      },
      "outputs": [
        {
          "name": "stdout",
          "output_type": "stream",
          "text": [
            "<class 'dict'>\n",
            "<class 'dict'>\n"
          ]
        }
      ],
      "source": [
        "State_capitols = dict([(\"California\",\"Los Angeles\"),(\"New York\",\"Albany\"),(\"Texas\",\"Austin\")])\n",
        "print(type(State_capitols))\n",
        "\n",
        "\n",
        "State_abv = {\"VA\":\"Virginia\", \"NY\": \"New York\", \"CA\":\"California\"}\n",
        "print(type(State_abv))\n"
      ]
    },
    {
      "cell_type": "markdown",
      "metadata": {
        "id": "jDv9Lw3mcMOC"
      },
      "source": [
        "\n",
        "\n",
        "---\n",
        "\n"
      ]
    },
    {
      "cell_type": "markdown",
      "metadata": {
        "id": "m62n29aX2GDQ"
      },
      "source": [
        "# Accessing Keys and Values in a Dictionary\n",
        "\n",
        "The entries in the dictionary display in the order they were defined. But that is irrelevant when it comes to retrieving them. Dictionary elements are not accessed by numerical index like they are in Strings and Lists.\n",
        "<br></br>\n",
        "\n",
        "A value is retrieved from a dictionary by specifying its corresponding key in square brackets var_name[key_name].\n",
        "<br></br>\n",
        "\n",
        "*Note: If you try to access a key in this manner, and the key does not exist you will raise a 'KeyError'. We will use a different built-in method later on that handles this exception for us.*"
      ]
    },
    {
      "cell_type": "code",
      "execution_count": 15,
      "metadata": {
        "colab": {
          "base_uri": "https://localhost:8080/",
          "height": 36
        },
        "id": "wYTon0-A4IQV",
        "outputId": "79012bb5-4949-45c5-8528-1523b226ee8e"
      },
      "outputs": [
        {
          "name": "stdout",
          "output_type": "stream",
          "text": [
            "Key Error, out of range\n"
          ]
        }
      ],
      "source": [
        "numbers= dict([\n",
        "    (1, 'One'),\n",
        "    (2, 'Two'),\n",
        "    (3, 'Three'),\n",
        "    (4, 'Four'),\n",
        "    (5, 'Five')\n",
        "])\n",
        "\n",
        "numbers[1]\n",
        "\n",
        "try:\n",
        "    number = numbers[6]\n",
        "except KeyError:\n",
        "    print(\"Key Error, out of range\")"
      ]
    },
    {
      "cell_type": "markdown",
      "metadata": {
        "id": "C-66Zwq_5etk"
      },
      "source": [
        "Adding an entry to an existing dictionary is simply a matter of assigning a new key and value:"
      ]
    },
    {
      "cell_type": "code",
      "execution_count": 16,
      "metadata": {
        "colab": {
          "base_uri": "https://localhost:8080/"
        },
        "id": "ff6ZauAy5kSL",
        "outputId": "cf9f62dd-a988-4cf3-af17-50a52dd3f50f"
      },
      "outputs": [
        {
          "data": {
            "text/plain": [
              "{1: 'One',\n",
              " 2: 'Two',\n",
              " 3: 'Three',\n",
              " 4: 'Four',\n",
              " 5: 'Five',\n",
              " 6: 'Six',\n",
              " 99: 'Ninety Nine'}"
            ]
          },
          "execution_count": 16,
          "metadata": {},
          "output_type": "execute_result"
        }
      ],
      "source": [
        "numbers[6] = 'Six'\n",
        "numbers\n",
        "\n",
        "numbers[99] = 'Ninety Nine'\n",
        "numbers"
      ]
    },
    {
      "cell_type": "markdown",
      "metadata": {
        "id": "ygg8Io4Y5u3q"
      },
      "source": [
        "If you want to update an entry, you can just assign a new value to an existing key."
      ]
    },
    {
      "cell_type": "code",
      "execution_count": 21,
      "metadata": {
        "colab": {
          "base_uri": "https://localhost:8080/"
        },
        "id": "8NWEpbP75x1_",
        "outputId": "1670ed72-a2d4-4bb0-97f4-58a2c860099d"
      },
      "outputs": [
        {
          "data": {
            "text/plain": [
              "{2: 'Two',\n",
              " 3: 'Three',\n",
              " 4: 'Four',\n",
              " 5: 'Five',\n",
              " 6: 'Six',\n",
              " 99: 'Ninety Nine',\n",
              " 1: '1'}"
            ]
          },
          "execution_count": 21,
          "metadata": {},
          "output_type": "execute_result"
        }
      ],
      "source": [
        "numbers[1]= '1'\n",
        "numbers"
      ]
    },
    {
      "cell_type": "markdown",
      "metadata": {
        "id": "MpRtqAd85826"
      },
      "source": []
    },
    {
      "cell_type": "markdown",
      "metadata": {
        "id": "xknRNePc58-l"
      },
      "source": [
        "To delete an entry, use the del statement, specifying the key to delete:"
      ]
    },
    {
      "cell_type": "code",
      "execution_count": 22,
      "metadata": {
        "colab": {
          "base_uri": "https://localhost:8080/"
        },
        "id": "phTTEl445_HJ",
        "outputId": "9bed92e1-0618-4173-e86d-f569916c5b21"
      },
      "outputs": [
        {
          "data": {
            "text/plain": [
              "{3: 'Three', 4: 'Four', 5: 'Five', 6: 'Six', 99: 'Ninety Nine'}"
            ]
          },
          "execution_count": 22,
          "metadata": {},
          "output_type": "execute_result"
        }
      ],
      "source": [
        "del numbers[1]\n",
        "numbers\n",
        "\n",
        "del numbers[2]\n",
        "numbers"
      ]
    },
    {
      "cell_type": "markdown",
      "metadata": {
        "id": "NGjC6mg26FrD"
      },
      "source": [
        "**Problem 2**\n",
        "\n",
        "Use a dictionary object from Problem 1 to complete the following:\n",
        "\n",
        "*   Retrieve the value for the key 'California'\n",
        "*   Add the State: Capital pair for Florida to the dictionary\n",
        "*   Update the capital of California to 'Sacremento'\n",
        "*   Delete Alaska from the Dictionary\n",
        "\n"
      ]
    },
    {
      "cell_type": "code",
      "execution_count": 24,
      "metadata": {
        "colab": {
          "base_uri": "https://localhost:8080/"
        },
        "id": "YPGI0LK260sE",
        "outputId": "2e9c40aa-4833-4c5d-9db9-51cb11ece94a"
      },
      "outputs": [
        {
          "name": "stdout",
          "output_type": "stream",
          "text": [
            "Sacremento\n",
            "Alaska is not an entry in the dictionary\n",
            "{'California': 'Sacremento', 'New York': 'Albany', 'Texas': 'Austin', 'Florida': 'Tallahasse'}\n"
          ]
        }
      ],
      "source": [
        "print(State_capitols['California'])\n",
        "State_capitols[\"Florida\"] = \"Tallahasse\"\n",
        "State_capitols['California'] = \"Sacremento\"\n",
        "try:\n",
        "    del State_capitols['Alaska']\n",
        "except KeyError:\n",
        "    print(\"Alaska is not an entry in the dictionary\")\n",
        "print(State_capitols)\n"
      ]
    },
    {
      "cell_type": "code",
      "execution_count": null,
      "metadata": {},
      "outputs": [],
      "source": []
    },
    {
      "cell_type": "markdown",
      "metadata": {
        "id": "61Ct1eJh6_1O"
      },
      "source": [
        "*Note: Although access to items in a dictionary does not depend on order, Python does guarantee that the order of items in a dictionary is preserved. When displayed, items will appear in the order they were defined, and iteration through the keys will occur in that order as well. Items added to a dictionary are added at the end. If items are deleted, the order of the remaining items is retained.*"
      ]
    },
    {
      "cell_type": "markdown",
      "metadata": {
        "id": "_0oxzWjVcJd1"
      },
      "source": [
        "\n",
        "\n",
        "---\n",
        "\n"
      ]
    },
    {
      "cell_type": "markdown",
      "metadata": {
        "id": "BiX4I1Z4gQ-A"
      },
      "source": [
        "# Dictionary Methods\n",
        "\n",
        "There are several built-in methods that can be used with dictionaries. The following are common methods used with Dictionary objects.\n",
        "<br></br>\n",
        "We will use the dictionary below for the examples in this section."
      ]
    },
    {
      "cell_type": "code",
      "execution_count": 59,
      "metadata": {
        "colab": {
          "base_uri": "https://localhost:8080/"
        },
        "id": "e9PMgFuHhdf0",
        "outputId": "8af5fa62-0e99-4f7b-fe1a-38250c8a575b"
      },
      "outputs": [
        {
          "data": {
            "text/plain": [
              "{'fruits': ['apples', 'blueberries', 'strawberries'],\n",
              " 'vegetables': ['broccoli', 'cauliflower'],\n",
              " 'meat': 'chicken'}"
            ]
          },
          "execution_count": 59,
          "metadata": {},
          "output_type": "execute_result"
        }
      ],
      "source": [
        "grocery_list= {'fruits': ['apples', 'blueberries', 'strawberries'],\n",
        "               'vegetables': ['broccoli', 'cauliflower'], 'meat': 'chicken'}\n",
        "\n",
        "grocery_list"
      ]
    },
    {
      "cell_type": "markdown",
      "metadata": {
        "id": "n6cjN2swpvcu"
      },
      "source": [
        "**.get()**\n",
        "\n",
        "The .get(key) method searches the dictionary for 'key 'and returns the associated value if it is found. If 'key' is not found, it returns None instead of raising an Exception.\n",
        "<br></br>\n",
        "Since the value of 'fruits' is a list, the entire list is returned.\n"
      ]
    },
    {
      "cell_type": "code",
      "execution_count": 28,
      "metadata": {
        "colab": {
          "base_uri": "https://localhost:8080/"
        },
        "id": "8hMaoXXqqM1S",
        "outputId": "c07c29aa-22c4-4106-8442-d0bd1f284d33"
      },
      "outputs": [
        {
          "name": "stdout",
          "output_type": "stream",
          "text": [
            "['apples', 'blueberries', 'strawberries']\n",
            "None\n",
            "cauliflower\n"
          ]
        }
      ],
      "source": [
        "print(grocery_list.get('fruits'))\n",
        "print(grocery_list.get('dairy'))\n",
        "\n",
        "print(grocery_list.get('vegetables')[1])"
      ]
    },
    {
      "cell_type": "markdown",
      "metadata": {
        "id": "kgpOwVbCsUp2"
      },
      "source": [
        "\n",
        "\n",
        "---\n",
        "\n"
      ]
    },
    {
      "cell_type": "markdown",
      "metadata": {
        "id": "tdK5CWiYqzhm"
      },
      "source": [
        "**.items()**\n",
        "\n",
        "The .items() method returns a view object of a list of tuples containing the key-value pairs. The first item in each tuple is the key, and the second item is the key's value."
      ]
    },
    {
      "cell_type": "code",
      "execution_count": 53,
      "metadata": {
        "colab": {
          "base_uri": "https://localhost:8080/"
        },
        "id": "SYAif-p1roc8",
        "outputId": "57b85205-f4cc-4889-e646-f9ef82c74b02"
      },
      "outputs": [
        {
          "name": "stdout",
          "output_type": "stream",
          "text": [
            "dict_items([('fruits', ['apples', 'blueberries', 'strawberries']), ('vegetables', ['broccoli', 'cauliflower'])])\n",
            "dict_keys(['fruits', 'vegetables'])\n"
          ]
        }
      ],
      "source": [
        "print(grocery_list.items())\n",
        "print(grocery_list.keys())"
      ]
    },
    {
      "cell_type": "markdown",
      "metadata": {
        "id": "3kRaIiz-rzSq"
      },
      "source": [
        "We can wrap this item in a list, to access each tuple using indexes."
      ]
    },
    {
      "cell_type": "code",
      "execution_count": 54,
      "metadata": {
        "colab": {
          "base_uri": "https://localhost:8080/"
        },
        "id": "w-E30E7Hr77a",
        "outputId": "5fc5823c-a510-4764-d78f-e6cdee7033d9"
      },
      "outputs": [
        {
          "name": "stdout",
          "output_type": "stream",
          "text": [
            "vegetables\n",
            "['broccoli', 'cauliflower']\n",
            "broccoli\n",
            "vegetables\n"
          ]
        }
      ],
      "source": [
        "print(list(grocery_list.items())[1][0])\n",
        "print(list(grocery_list.items())[1][1])\n",
        "print(list(grocery_list.items())[1][1][0])\n",
        "print(list(grocery_list.keys())[1])"
      ]
    },
    {
      "cell_type": "markdown",
      "metadata": {
        "id": "kDfAmLLosXPd"
      },
      "source": [
        "\n",
        "\n",
        "---\n",
        "\n"
      ]
    },
    {
      "cell_type": "markdown",
      "metadata": {
        "id": "vReQ7AOctl-b"
      },
      "source": [
        "**.keys()**\n",
        "\n",
        "The .keys() method returns a a view object of all the keys in a dictionary\n",
        "\n",
        "We can turn it into a list object to fully utilize the method."
      ]
    },
    {
      "cell_type": "code",
      "execution_count": 55,
      "metadata": {
        "colab": {
          "base_uri": "https://localhost:8080/"
        },
        "id": "PetloFBNt2YR",
        "outputId": "6f96fc88-75aa-43b9-eb2b-2ca975356541"
      },
      "outputs": [
        {
          "name": "stdout",
          "output_type": "stream",
          "text": [
            "dict_keys(['fruits', 'vegetables'])\n",
            "['fruits', 'vegetables']\n",
            "['vegetables', 'fruits']\n"
          ]
        }
      ],
      "source": [
        "print(grocery_list.keys())\n",
        "print(list(grocery_list.keys()))\n",
        "newlist = list(grocery_list.keys())\n",
        "newlist.reverse()\n",
        "print(newlist)\n"
      ]
    },
    {
      "cell_type": "markdown",
      "metadata": {
        "id": "V9eRMtnouhAc"
      },
      "source": [
        "\n",
        "\n",
        "---\n",
        "\n"
      ]
    },
    {
      "cell_type": "markdown",
      "metadata": {
        "id": "XynX05Tiuimi"
      },
      "source": [
        "**.values()**\n",
        "\n",
        "The .values() method returns a view object. The view object contains the values of the dictionary, as a list.\n",
        "\n",
        "\n"
      ]
    },
    {
      "cell_type": "code",
      "execution_count": 56,
      "metadata": {
        "colab": {
          "base_uri": "https://localhost:8080/"
        },
        "id": "gooDwnOGuzEz",
        "outputId": "b81d9c86-62b1-42f6-ecd6-fc61737d5c9b"
      },
      "outputs": [
        {
          "name": "stdout",
          "output_type": "stream",
          "text": [
            "dict_values([['apples', 'blueberries', 'strawberries'], ['broccoli', 'cauliflower']])\n",
            "[['apples', 'blueberries', 'strawberries'], ['broccoli', 'cauliflower']]\n",
            "[['broccoli', 'cauliflower'], ['apples', 'blueberries', 'strawberries']]\n"
          ]
        }
      ],
      "source": [
        "print(grocery_list.values())\n",
        "print(list(grocery_list.values()))\n",
        "newlist1 = list(grocery_list.values())\n",
        "newlist1.reverse()\n",
        "print(newlist1)"
      ]
    },
    {
      "cell_type": "markdown",
      "metadata": {
        "id": "m5GZ5fsLvDww"
      },
      "source": [
        "\n",
        "\n",
        "---\n",
        "\n"
      ]
    },
    {
      "cell_type": "markdown",
      "metadata": {
        "id": "H9QYE7lEvFgd"
      },
      "source": [
        "**.pop()**\n",
        "\n",
        "The .pop() method of Python dictionary (dict) is used to remove the element from the dictionary by dict key and return the value related to the removed key . If a key does not exist in the dictionary and the default value is specified, then returns the default value; else throws a KeyError ."
      ]
    },
    {
      "cell_type": "code",
      "execution_count": 60,
      "metadata": {
        "colab": {
          "base_uri": "https://localhost:8080/"
        },
        "id": "QQ108yIwvbHi",
        "outputId": "8526059e-f626-487f-c753-5c781abf8cbe"
      },
      "outputs": [
        {
          "name": "stdout",
          "output_type": "stream",
          "text": [
            "chicken\n",
            "{'fruits': ['apples', 'blueberries', 'strawberries'], 'vegetables': ['broccoli', 'cauliflower']}\n"
          ]
        }
      ],
      "source": [
        "print(grocery_list.pop('meat'))\n",
        "print(grocery_list)\n",
        "\n"
      ]
    },
    {
      "cell_type": "markdown",
      "metadata": {
        "id": "c1Tzs32YwVE_"
      },
      "source": [
        "\n",
        "\n",
        "---\n",
        "\n"
      ]
    },
    {
      "cell_type": "markdown",
      "metadata": {
        "id": "_sXwA6HKwWN3"
      },
      "source": [
        "**.popitem()**\n",
        "\n",
        "The .popitem() removes the last key-value pair added to a dictionary and returns it as a tuple."
      ]
    },
    {
      "cell_type": "code",
      "execution_count": 62,
      "metadata": {
        "colab": {
          "base_uri": "https://localhost:8080/"
        },
        "id": "Frt5_JM3wrTW",
        "outputId": "757a9196-a092-47c4-c16d-436fcf58d2df"
      },
      "outputs": [
        {
          "name": "stdout",
          "output_type": "stream",
          "text": [
            "{'fruits': ['apples', 'blueberries', 'strawberries']}\n",
            "('fruits', ['apples', 'blueberries', 'strawberries'])\n"
          ]
        }
      ],
      "source": [
        "print(grocery_list.popitem())\n",
        "print(grocery_list)\n",
        "newDict = grocery_list.popitem()\n",
        "print(newDict)"
      ]
    },
    {
      "cell_type": "markdown",
      "metadata": {
        "id": "F20mpjhNzqo7"
      },
      "source": [
        "\n",
        "\n",
        "---\n",
        "\n"
      ]
    },
    {
      "cell_type": "markdown",
      "metadata": {
        "id": "soS5mXRezrz6"
      },
      "source": [
        "# Looping through a Dictionary\n",
        "\n",
        "A python dictionary can be empty, contain just a few key:value pairs, or millions of pairs. An efficient way to access large amounts of data within a Python Dictionary is using a 'for loop'. We can loop through all of the key:value pairs, through its keys, or through its values.\n",
        "<br></br>\n",
        "We will use the dictionary below for the examples in this section. Each key is the name of a person and each value is their favorite video game."
      ]
    },
    {
      "cell_type": "code",
      "execution_count": 63,
      "metadata": {
        "id": "YzRXaL790TQJ"
      },
      "outputs": [],
      "source": [
        "fav_vgame= {'Andrea': 'Stardew Valley',\n",
        "            'Bill': 'Super Smash Bros',\n",
        "            'Tom': 'God of War',\n",
        "            'Jose': 'Hogwarts Legacy',\n",
        "            'Mina': 'Pokemon Gold'}"
      ]
    },
    {
      "cell_type": "markdown",
      "metadata": {
        "id": "6FwogEyA3L5c"
      },
      "source": [
        "Without adding any methods to our Dictionary the default is to loop through the keys of our Dictionary. We only need one iterator in this for loop.\n",
        "<br></br>\n",
        "If we would like to to be more explicit in our code. We can add the .keys method to our Dictionary object to produce the same results."
      ]
    },
    {
      "cell_type": "code",
      "execution_count": 66,
      "metadata": {
        "colab": {
          "base_uri": "https://localhost:8080/"
        },
        "id": "P9w9Vq3x3WT4",
        "outputId": "b38e053e-3657-4923-d992-cdd1a7a87bb2"
      },
      "outputs": [
        {
          "name": "stdout",
          "output_type": "stream",
          "text": [
            "andrea\n",
            "bill\n",
            "tom\n",
            "jose\n",
            "mina\n",
            "andrea\n",
            "bill\n",
            "tom\n",
            "jose\n",
            "mina\n",
            "STARDEW VALLEY\n",
            "SUPER SMASH BROS\n",
            "GOD OF WAR\n",
            "HOGWARTS LEGACY\n",
            "POKEMON GOLD\n"
          ]
        }
      ],
      "source": [
        "for key in fav_vgame:\n",
        "  print(key.lower())\n",
        "\n",
        "for key in fav_vgame.keys():\n",
        "  print(key.lower())\n",
        "\n",
        "for value in fav_vgame.values():\n",
        "  print(value.upper())\n",
        "  \n"
      ]
    },
    {
      "cell_type": "markdown",
      "metadata": {
        "id": "zz-903OL3_b7"
      },
      "source": [
        "If we wanted to loop through our keys in a particular order vs the order our dictionary was created, we can use the built-in sorted() function."
      ]
    },
    {
      "cell_type": "code",
      "execution_count": 68,
      "metadata": {
        "colab": {
          "base_uri": "https://localhost:8080/"
        },
        "id": "qye8QIQA4V0k",
        "outputId": "c48fb356-fa81-4a27-8b46-8ab8769a80f1"
      },
      "outputs": [
        {
          "name": "stdout",
          "output_type": "stream",
          "text": [
            "Andrea\n",
            "Bill\n",
            "Jose\n",
            "Mina\n",
            "Tom\n",
            "God of War\n",
            "Hogwarts Legacy\n",
            "Pokemon Gold\n",
            "Stardew Valley\n",
            "Super Smash Bros\n"
          ]
        }
      ],
      "source": [
        "for key in sorted(fav_vgame):\n",
        "  print(key)\n",
        "\n",
        "for value in sorted(fav_vgame.values()):\n",
        "  print(value)"
      ]
    },
    {
      "cell_type": "markdown",
      "metadata": {
        "id": "J4eHIuVx4m8s"
      },
      "source": [
        "We can loop through just the values of a Dictionary by using the .values() method.\n",
        "<br></br>\n",
        "We only need one iterator in this for loop."
      ]
    },
    {
      "cell_type": "code",
      "execution_count": 69,
      "metadata": {
        "colab": {
          "base_uri": "https://localhost:8080/"
        },
        "id": "_HMtjAsk4uMU",
        "outputId": "666733be-5196-46e8-ece3-f0b88be02fa5"
      },
      "outputs": [
        {
          "name": "stdout",
          "output_type": "stream",
          "text": [
            "Stardew Valley\n",
            "Super Smash Bros\n",
            "God of War\n",
            "Hogwarts Legacy\n",
            "Pokemon Gold\n",
            "STARDEW VALLEY\n",
            "SUPER SMASH BROS\n",
            "GOD OF WAR\n",
            "HOGWARTS LEGACY\n",
            "POKEMON GOLD\n"
          ]
        }
      ],
      "source": [
        "for values in fav_vgame.values():\n",
        "  print(values)\n",
        "\n",
        "for values in fav_vgame.values():\n",
        "  print(values.upper())"
      ]
    },
    {
      "cell_type": "markdown",
      "metadata": {
        "id": "Pe2UL2Za1VqZ"
      },
      "source": [
        "To loop through both the keys and values in a dictionary we need two iterators and can use the .items() method.\n",
        "\n",
        "We will use f-string to format our print statements. The \"\\n\" inserts a blank line in the first print call on each iteration of the for loop.\n",
        "\n",
        "As a reminder, these are just print statements. We are not returning anything to be used later in our code."
      ]
    },
    {
      "cell_type": "code",
      "execution_count": null,
      "metadata": {
        "colab": {
          "base_uri": "https://localhost:8080/"
        },
        "id": "2gGNoEZO1km3",
        "outputId": "aab694ff-367c-47ac-e98d-4c3fa1979cb5"
      },
      "outputs": [
        {
          "name": "stdout",
          "output_type": "stream",
          "text": [
            "\n",
            "Key: Andrea\n",
            "Value: Stardew Valley\n",
            "\n",
            "Key: Bill\n",
            "Value: Super Smash Bros\n",
            "\n",
            "Key: Tom\n",
            "Value: God of War\n",
            "\n",
            "Key: Jose\n",
            "Value: Hogwarts Legacy\n",
            "\n",
            "Key: Mina\n",
            "Value: Pokemon Gold\n"
          ]
        }
      ],
      "source": [
        "for key, value in fav_vgame.items():\n",
        "  print(f\"\\nKey: {key}\") #the key inside the curly brackets comes from our key iterator in the for loop\n",
        "  print(f\"Value: {value}\") #the value inside the curly brackets comes from our value iterator in the for loop"
      ]
    },
    {
      "cell_type": "markdown",
      "metadata": {
        "id": "y6hJgEP66Knq"
      },
      "source": [
        "**Problem 3**\n",
        "\n",
        "Use the dictionary methods and for loop examples above to complete the following task:\n",
        "\n",
        "*   Create a dictionary object called 'playlist' with a minimum of 6 key:value pairs.\n",
        "\n",
        "> *   Each Key in the dictionary should be an artist name\n",
        "> *   Each Value should be a corresponding song by that artist\n",
        "\n",
        "*   Use a for loop to create a print statement that prints all the artists in the playlist\n",
        "*   Use a for loop to create a print statment that prints all the songs in the playlist\n",
        "*   Use a for loop to create a print statement that says: \"(Song Name) by (Artist) is in the current playlist.\"\n",
        "*  Remove the last Key:Value pair from the Dictionary\n",
        "*  Add the song \"Anti-Hero\" by Taylor Swift to your playlist.\n",
        "*  Overwrite one of your songs to have REMIX in front of the song title\n",
        "*  Define & call a function that will print all the artists and songs from the object you pass into it.\n",
        "\n",
        "\n",
        "\n",
        "\n",
        "\n"
      ]
    },
    {
      "cell_type": "code",
      "execution_count": 97,
      "metadata": {
        "id": "Lh7XlwjC-Nrj"
      },
      "outputs": [
        {
          "name": "stdout",
          "output_type": "stream",
          "text": [
            "{'Justin Timberlake': 'Selfish', 'Knox': 'Not the 1975', 'Hozier': 'Too Sweet', 'Teddy Swims': 'Lose Control', 'Beyonce': \"Texas Hold 'em\", 'Jack Harlow': 'Lovin on Me'}\n",
            "Artists: \n",
            "Justin Timberlake\n",
            "Knox\n",
            "Hozier\n",
            "Teddy Swims\n",
            "Beyonce\n",
            "Jack Harlow\n",
            "Songs: \n",
            "Selfish\n",
            "Not the 1975\n",
            "Too Sweet\n",
            "Lose Control\n",
            "Texas Hold 'em\n",
            "Lovin on Me\n",
            "Lovin on Me was removed from playlist, now these songs remain:\n",
            " {'Justin Timberlake': 'Selfish', 'Knox': 'Not the 1975', 'Hozier': 'Too Sweet', 'Teddy Swims': 'Lose Control', 'Beyonce': \"Texas Hold 'em\"}\n",
            "dict_keys(['Justin Timberlake', 'Knox', 'Hozier', 'Teddy Swims', 'Beyonce', 'Taylor Swift'])\n",
            "Selfish by Justin Timberlake is in the current playlist\n",
            "REMIX Not the 1975 by Knox is in the current playlist\n",
            "Too Sweet by Hozier is in the current playlist\n",
            "Lose Control by Teddy Swims is in the current playlist\n",
            "Texas Hold 'em by Beyonce is in the current playlist\n",
            "Anti-Hero by Taylor Swift is in the current playlist\n"
          ]
        }
      ],
      "source": [
        "playlist = {\n",
        "    \"Justin Timberlake\" : \"Selfish\",\n",
        "    \"Knox\" : \"Not the 1975\",\n",
        "    \"Hozier\" : \"Too Sweet\",\n",
        "    \"Teddy Swims\" : \"Lose Control\",\n",
        "    \"Beyonce\" : \"Texas Hold 'em\",\n",
        "    \"Jack Harlow\" : \"Lovin on Me\"\n",
        "}\n",
        "\n",
        "print(playlist)\n",
        "print(\"Artists: \")\n",
        "for artist in playlist.keys():\n",
        "    print(artist)\n",
        "\n",
        "print(\"Songs: \")\n",
        "for songs in playlist.values():\n",
        "    print(songs)\n",
        "\n",
        "song = playlist.popitem()\n",
        "print(song[1], \"was removed from playlist, now these songs remain:\\n\", playlist)\n",
        "\n",
        "playlist[\"Taylor Swift\"] = \"Anti-Hero\"\n",
        "playlist[\"Knox\"] = \"REMIX \" + playlist[\"Knox\"]\n",
        "\n",
        "print(playlist.keys())\n",
        "\n",
        "def print_all(playlist):\n",
        "    for song, art in playlist.items():\n",
        "        print(art, \"by\", song, \"is in the current playlist\")\n",
        "\n",
        "print_all(playlist)\n",
        "\n",
        "\n"
      ]
    }
  ],
  "metadata": {
    "colab": {
      "provenance": []
    },
    "kernelspec": {
      "display_name": "Python 3",
      "name": "python3"
    },
    "language_info": {
      "codemirror_mode": {
        "name": "ipython",
        "version": 3
      },
      "file_extension": ".py",
      "mimetype": "text/x-python",
      "name": "python",
      "nbconvert_exporter": "python",
      "pygments_lexer": "ipython3",
      "version": "3.10.13"
    }
  },
  "nbformat": 4,
  "nbformat_minor": 0
}
