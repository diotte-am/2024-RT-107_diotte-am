{
 "cells": [
  {
   "cell_type": "markdown",
   "metadata": {},
   "source": [
    "Comprehension Exercises"
   ]
  },
  {
   "cell_type": "code",
   "execution_count": 2,
   "metadata": {},
   "outputs": [
    {
     "name": "stdout",
     "output_type": "stream",
     "text": [
      "['Buzz', 'Buzz', 'Fizz', 'Buzz', 5, 'Fizz', 'Buzz', 'Buzz', 'Fizz', 10, 'Buzz', 'Fizz', 'Buzz', 'Buzz', 'FizzBuzz', 'Buzz', 'Buzz', 'Fizz', 'Buzz', 20, 'Fizz', 'Buzz', 'Buzz', 'Fizz', 25, 'Buzz', 'Fizz', 'Buzz', 'Buzz', 'FizzBuzz', 'Buzz', 'Buzz', 'Fizz', 'Buzz', 35, 'Fizz', 'Buzz', 'Buzz', 'Fizz', 40, 'Buzz', 'Fizz', 'Buzz', 'Buzz', 'FizzBuzz', 'Buzz', 'Buzz', 'Fizz', 'Buzz', 50, 'Fizz', 'Buzz', 'Buzz', 'Fizz', 55, 'Buzz', 'Fizz', 'Buzz', 'Buzz', 'FizzBuzz', 'Buzz', 'Buzz', 'Fizz', 'Buzz', 65, 'Fizz', 'Buzz', 'Buzz', 'Fizz', 70, 'Buzz', 'Fizz', 'Buzz', 'Buzz', 'FizzBuzz', 'Buzz', 'Buzz', 'Fizz', 'Buzz', 80, 'Fizz', 'Buzz', 'Buzz', 'Fizz', 85, 'Buzz', 'Fizz', 'Buzz', 'Buzz', 'FizzBuzz', 'Buzz', 'Buzz', 'Fizz', 'Buzz', 95, 'Fizz', 'Buzz', 'Buzz', 'Fizz', 100]\n"
     ]
    }
   ],
   "source": [
    "# 1) Use list comprehension to create a list containing a solution \n",
    "# for the famous FizzBuzz problem. For integers 1 to 100, inclusively, \n",
    "# the value should be:\n",
    "# 'Fizz' if divisible by 3.\n",
    "# 'Buzz' if divisible by 5.\n",
    "# 'FizzBuzz' if divisible by both 3 and 5.\n",
    "# The integer itself if not divisible by both 3 and 5.\n",
    "fizz_buzz = ['FizzBuzz' if i % 5 == 0 \n",
    "             and i % 3 == 0 else 'Fizz' \n",
    "             if i % 3 == 0 else 'Buzz' \n",
    "             if i % 5 else i \n",
    "             for i in range(1,100+1)]\n",
    "\n",
    "print(fizz_buzz)\n",
    "\n",
    "\n"
   ]
  },
  {
   "cell_type": "code",
   "execution_count": 20,
   "metadata": {},
   "outputs": [],
   "source": [
    "# 2) From the ndarray with the given values, use dictionary comprehension to \n",
    "# create a dict with string key in the format \"c- avg(c)\" and list value \n",
    "# representing the column values.\n",
    "\n",
    "ndarray = [[1,2,3],[4,5,6],[7,8,9],[10,11,12]]\n",
    "n = len(ndarray)\n",
    "new_dict = {}\n",
    "for j in range(3):\n",
    "    average = 0\n",
    "    temp_list = []\n",
    "    for i in range(4):\n",
    "        temp_list.append(ndarray[i][j])\n",
    "        average += ndarray[i][j]/4\n",
    "    key = str(j) + \"-\" + str(average)\n",
    "    new_dict[key] = temp_list\n",
    "\n"
   ]
  },
  {
   "cell_type": "markdown",
   "metadata": {},
   "source": [
    "Generator Exercises"
   ]
  },
  {
   "cell_type": "code",
   "execution_count": 22,
   "metadata": {},
   "outputs": [
    {
     "name": "stdout",
     "output_type": "stream",
     "text": [
      "2 3 5 7 11 13 17 19 23 29 "
     ]
    }
   ],
   "source": [
    "# 1. Create a generator, primes_gen that generates prime numbers starting from 2.\n",
    "from math import sqrt\n",
    "\n",
    "\n",
    "def primes_gen():\n",
    "    i = 2\n",
    "    while True:\n",
    "        for x in range(2, int(sqrt(i) + 1)):\n",
    "            if i%x==0:\n",
    "                break\n",
    "        else:\n",
    "            yield i\n",
    "        i += 1\n",
    "\n",
    "gen = primes_gen()\n",
    "for _ in range(10): print(next(gen), end=' ')"
   ]
  },
  {
   "cell_type": "code",
   "execution_count": 25,
   "metadata": {},
   "outputs": [
    {
     "name": "stdout",
     "output_type": "stream",
     "text": [
      "e l o h "
     ]
    }
   ],
   "source": [
    "# 2. Create a generator, unique_letters that generates unique letters from the input string. \n",
    "# It should generate the letters in the same order as from the input string.\n",
    "def unique_letters(string):\n",
    "    seen = set(string)\n",
    "    for letter in seen:\n",
    "        yield letter\n",
    "\n",
    "for letter in unique_letters('hello'):\n",
    "    print(letter, end=' ')"
   ]
  },
  {
   "cell_type": "markdown",
   "metadata": {},
   "source": [
    "Lambda Exercises"
   ]
  },
  {
   "cell_type": "code",
   "execution_count": 26,
   "metadata": {},
   "outputs": [
    {
     "name": "stdout",
     "output_type": "stream",
     "text": [
      "[('Scala', 2.13), ('Python', 3.8), ('Java', 13), ('JavaScript', 2019)]\n"
     ]
    }
   ],
   "source": [
    "# 1 Sort the list by each language's version in ascending order.\n",
    "prog_lang = [('Python', 3.8),\n",
    "             ('Java', 13),\n",
    "             ('JavaScript', 2019),\n",
    "             ('Scala', 2.13)]\n",
    "list_filtered = sorted([x for x in prog_lang], key= lambda x: x[1])\n",
    "print(list_filtered)"
   ]
  },
  {
   "cell_type": "code",
   "execution_count": null,
   "metadata": {},
   "outputs": [],
   "source": [
    "# 2 Sort the list by the length of the name of each language in descending order.\n",
    "prog_lang = [('Python', 3.8),\n",
    "             ('Java', 13),\n",
    "             ('JavaScript', 2019),\n",
    "             ('Scala', 2.13)]\n",
    "list_filtered = sorted([x for x in prog_lang], key= lambda x: len(x[0]), reverse=True)\n",
    "print(list_filtered)"
   ]
  },
  {
   "cell_type": "code",
   "execution_count": null,
   "metadata": {},
   "outputs": [],
   "source": [
    "# 3 Filter the list so that it only contains languages with 'a' in it.\n",
    "prog_lang = [('Python', 3.8),\n",
    "             ('Java', 13),\n",
    "             ('JavaScript', 2019),\n",
    "             ('Scala', 2.13)]\n",
    "list_filtered = [x for x in prog_lang if 'a' in x[0]]\n",
    "print(list_filtered)"
   ]
  },
  {
   "cell_type": "code",
   "execution_count": null,
   "metadata": {},
   "outputs": [],
   "source": [
    "# 4 Filter the list so that it only contains languages whose version is in integer form.\n",
    "prog_lang = [('Python', 3.8),\n",
    "             ('Java', 13),\n",
    "             ('JavaScript', 2019),\n",
    "             ('Scala', 2.13)]\n",
    "list_filtered = [x for x in prog_lang if type(x[1]) == int]\n",
    "print(list_filtered)"
   ]
  },
  {
   "cell_type": "code",
   "execution_count": null,
   "metadata": {},
   "outputs": [],
   "source": [
    "# 5 Transform the list so that it contains the tuples in the form, (\"language in all lower case\", length of the language string)\n",
    "prog_lang = [('Python', 3.8),\n",
    "             ('Java', 13),\n",
    "             ('JavaScript', 2019),\n",
    "             ('Scala', 2.13)]\n",
    "list_filtered = [(x[0].lower(), len(x[0]))for x in prog_lang]\n",
    "print(list_filtered)"
   ]
  },
  {
   "cell_type": "code",
   "execution_count": null,
   "metadata": {},
   "outputs": [],
   "source": [
    "# 6 Generate a tuple in the form, (\"All languages separated by commas\", \"All versions separated by commas\").\n",
    "prog_lang = [('Python', 3.8),\n",
    "             ('Java', 13),\n",
    "             ('JavaScript', 2019),\n",
    "             ('Scala', 2.13)]\n",
    "language = \"\"\n",
    "version = \"\"\n",
    "for i in prog_lang:\n",
    "    language += (str(i[0]) + ',')\n",
    "    version += (str(i[1]) + ',')\n",
    "fin_tup = language[:len(language)-1], version[:len(version)-1]\n",
    "print(fin_tup)"
   ]
  }
 ],
 "metadata": {
  "kernelspec": {
   "display_name": "Python 3",
   "language": "python",
   "name": "python3"
  },
  "language_info": {
   "codemirror_mode": {
    "name": "ipython",
    "version": 3
   },
   "file_extension": ".py",
   "mimetype": "text/x-python",
   "name": "python",
   "nbconvert_exporter": "python",
   "pygments_lexer": "ipython3",
   "version": "3.10.13"
  }
 },
 "nbformat": 4,
 "nbformat_minor": 2
}
