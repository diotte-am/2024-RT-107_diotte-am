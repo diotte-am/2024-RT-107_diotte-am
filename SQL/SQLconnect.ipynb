{
 "cells": [
  {
   "cell_type": "code",
   "execution_count": 3,
   "metadata": {},
   "outputs": [
    {
     "ename": "ModuleNotFoundError",
     "evalue": "No module named 'my_secrets'",
     "output_type": "error",
     "traceback": [
      "\u001b[1;31m---------------------------------------------------------------------------\u001b[0m",
      "\u001b[1;31mModuleNotFoundError\u001b[0m                       Traceback (most recent call last)",
      "Cell \u001b[1;32mIn[3], line 2\u001b[0m\n\u001b[0;32m      1\u001b[0m \u001b[38;5;28;01mimport\u001b[39;00m \u001b[38;5;21;01mmysql\u001b[39;00m\u001b[38;5;21;01m.\u001b[39;00m\u001b[38;5;21;01mconnector\u001b[39;00m \u001b[38;5;28;01mas\u001b[39;00m \u001b[38;5;21;01mdbconnect\u001b[39;00m\n\u001b[1;32m----> 2\u001b[0m \u001b[38;5;28;01mimport\u001b[39;00m \u001b[38;5;21;01mmy_secrets\u001b[39;00m\u001b[38;5;21;01m.\u001b[39;00m\u001b[38;5;21;01mpy\u001b[39;00m \u001b[38;5;28;01mas\u001b[39;00m \u001b[38;5;21;01muser\u001b[39;00m\n\u001b[0;32m      4\u001b[0m myconnection \u001b[38;5;241m=\u001b[39m dbconnect\u001b[38;5;241m.\u001b[39mconnect(host\u001b[38;5;241m=\u001b[39m\u001b[38;5;124m'\u001b[39m\u001b[38;5;124mlocalhost\u001b[39m\u001b[38;5;124m'\u001b[39m, database\u001b[38;5;241m=\u001b[39m\u001b[38;5;124m'\u001b[39m\u001b[38;5;124mclassicmodels\u001b[39m\u001b[38;5;124m'\u001b[39m, user\u001b[38;5;241m=\u001b[39muser\u001b[38;5;241m.\u001b[39musername, password\u001b[38;5;241m=\u001b[39muser\u001b[38;5;241m.\u001b[39mpassword)\n\u001b[0;32m      5\u001b[0m \u001b[38;5;66;03m# Get a cursor\u001b[39;00m\n",
      "\u001b[1;31mModuleNotFoundError\u001b[0m: No module named 'my_secrets'"
     ]
    }
   ],
   "source": [
    "import mysql.connector as dbconnect\n",
    "import my_secrets\n",
    "\n",
    "myconnection = dbconnect.connect(host='localhost', database='classicmodels', user=my_secrets.username, password=my_secrets.password)\n",
    "# Get a cursor\n",
    "cursor = myconnection.cursor()\n",
    "SQLQuery =\"SELECT ordernumber, SUM(quantityOrdered) AS itemsCount, SUM(priceeach*quantityOrdered) AS total FROM orderdetails GROUP BY ordernumber HAVING    total > 1000    AND    itemsCount > 600\";\n",
    "# Execute a query\n",
    "cursor.execute(SQLQuery)            \n",
    "# get all records\n",
    "records = cursor.fetchall()   \n",
    "print(\"Total number of rows in table: \", cursor.rowcount)    \n",
    "print(\"\\nPrinting each row\")\n",
    "for row in records:\n",
    "    print(\"order number = \", row[0],  )\n",
    "    print(\"item counts = \", row[1])\n",
    "    print(\"total  = \", row[2], \"\\n\" )\n",
    "# Close connection\n",
    "cursor.close()\n",
    "myconnection.close()\n"
   ]
  }
 ],
 "metadata": {
  "kernelspec": {
   "display_name": "Python 3",
   "language": "python",
   "name": "python3"
  },
  "language_info": {
   "codemirror_mode": {
    "name": "ipython",
    "version": 3
   },
   "file_extension": ".py",
   "mimetype": "text/x-python",
   "name": "python",
   "nbconvert_exporter": "python",
   "pygments_lexer": "ipython3",
   "version": "3.11.9"
  }
 },
 "nbformat": 4,
 "nbformat_minor": 2
}
