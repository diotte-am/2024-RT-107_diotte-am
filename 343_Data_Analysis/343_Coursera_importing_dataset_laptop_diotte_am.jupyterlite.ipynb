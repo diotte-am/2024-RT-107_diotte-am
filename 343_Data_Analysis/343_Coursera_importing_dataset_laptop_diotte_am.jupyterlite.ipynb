{
  "cells": [
    {
      "cell_type": "markdown",
      "metadata": {},
      "source": [
        "<p style=\"text-align:center\">\n",
        "    <a href=\"https://skills.network\" target=\"_blank\">\n",
        "    <img src=\"https://cf-courses-data.s3.us.cloud-object-storage.appdomain.cloud/assets/logos/SN_web_lightmode.png\" width=\"300\" alt=\"Skills Network Logo\">\n",
        "    </a>\n",
        "</p>\n"
      ]
    },
    {
      "cell_type": "markdown",
      "metadata": {},
      "source": [
        "# **Hands-on Practice Lab: Importing Dataset - Laptops Pricing**\n",
        "\n",
        "Estimated time needed: **20** minutes\n",
        "\n",
        "In this lab, you will practice the process of loading and drawing basic insights on a dataset as learnt through the module. You are being provided with a fresh dataset on 'Laptop Pricing' which will be used for all the practice labs throughout the course.\n"
      ]
    },
    {
      "cell_type": "markdown",
      "metadata": {},
      "source": [
        "# Objectives\n",
        "\n",
        "After completing this lab you will be able to:\n",
        "\n",
        " - Import a dataset from a CSV file to a Pandas dataframe\n",
        " - Develop some basic insights about the dataset\n"
      ]
    },
    {
      "cell_type": "markdown",
      "metadata": {},
      "source": [
        "# Setup\n"
      ]
    },
    {
      "cell_type": "markdown",
      "metadata": {},
      "source": [
        "For this lab, we will be using the following libraries:\n",
        "\n",
        "* `skillsnetwork` for downloading the daataset\n",
        "\n",
        "*   [`pandas`](https://pandas.pydata.org/?utm_medium=Exinfluencer&utm_source=Exinfluencer&utm_content=000026UJ&utm_term=10006555&utm_id=NA-SkillsNetwork-Channel-SkillsNetworkCoursesIBMML0187ENSkillsNetwork31430127-2021-01-01) for managing the data.\n",
        "*   [`numpy`](https://numpy.org/?utm_medium=Exinfluencer&utm_source=Exinfluencer&utm_content=000026UJ&utm_term=10006555&utm_id=NA-SkillsNetwork-Channel-SkillsNetworkCoursesIBMML0187ENSkillsNetwork31430127-2021-01-01) for mathematical operations.\n"
      ]
    },
    {
      "cell_type": "markdown",
      "metadata": {},
      "source": [
        "### Importing Required Libraries\n"
      ]
    },
    {
      "cell_type": "code",
      "execution_count": 2,
      "metadata": {},
      "outputs": [],
      "source": [
        "import pandas as pd\n",
        "import numpy as np"
      ]
    },
    {
      "cell_type": "markdown",
      "metadata": {},
      "source": [
        "The data set to be used is available on the link below.\n"
      ]
    },
    {
      "cell_type": "markdown",
      "metadata": {},
      "source": [
        "The functions below will download the dataset into your browser:\n"
      ]
    },
    {
      "cell_type": "markdown",
      "metadata": {},
      "source": [
        "To obtain the dataset, utilize the download() function as defined above:\n"
      ]
    },
    {
      "cell_type": "code",
      "execution_count": 3,
      "metadata": {},
      "outputs": [
        {
          "data": {
            "text/html": [
              "<div>\n",
              "<style scoped>\n",
              "    .dataframe tbody tr th:only-of-type {\n",
              "        vertical-align: middle;\n",
              "    }\n",
              "\n",
              "    .dataframe tbody tr th {\n",
              "        vertical-align: top;\n",
              "    }\n",
              "\n",
              "    .dataframe thead th {\n",
              "        text-align: right;\n",
              "    }\n",
              "</style>\n",
              "<table border=\"1\" class=\"dataframe\">\n",
              "  <thead>\n",
              "    <tr style=\"text-align: right;\">\n",
              "      <th></th>\n",
              "      <th>Unnamed: 0</th>\n",
              "      <th>Manufacturer</th>\n",
              "      <th>Category</th>\n",
              "      <th>Screen</th>\n",
              "      <th>GPU</th>\n",
              "      <th>OS</th>\n",
              "      <th>CPU_core</th>\n",
              "      <th>Screen_Size_cm</th>\n",
              "      <th>CPU_frequency</th>\n",
              "      <th>RAM_GB</th>\n",
              "      <th>Storage_GB_SSD</th>\n",
              "      <th>Weight_kg</th>\n",
              "      <th>Price</th>\n",
              "    </tr>\n",
              "  </thead>\n",
              "  <tbody>\n",
              "    <tr>\n",
              "      <th>0</th>\n",
              "      <td>0</td>\n",
              "      <td>Acer</td>\n",
              "      <td>4</td>\n",
              "      <td>IPS Panel</td>\n",
              "      <td>2</td>\n",
              "      <td>1</td>\n",
              "      <td>5</td>\n",
              "      <td>35.560</td>\n",
              "      <td>1.6</td>\n",
              "      <td>8</td>\n",
              "      <td>256</td>\n",
              "      <td>1.60</td>\n",
              "      <td>978</td>\n",
              "    </tr>\n",
              "    <tr>\n",
              "      <th>1</th>\n",
              "      <td>1</td>\n",
              "      <td>Dell</td>\n",
              "      <td>3</td>\n",
              "      <td>Full HD</td>\n",
              "      <td>1</td>\n",
              "      <td>1</td>\n",
              "      <td>3</td>\n",
              "      <td>39.624</td>\n",
              "      <td>2.0</td>\n",
              "      <td>4</td>\n",
              "      <td>256</td>\n",
              "      <td>2.20</td>\n",
              "      <td>634</td>\n",
              "    </tr>\n",
              "    <tr>\n",
              "      <th>2</th>\n",
              "      <td>2</td>\n",
              "      <td>Dell</td>\n",
              "      <td>3</td>\n",
              "      <td>Full HD</td>\n",
              "      <td>1</td>\n",
              "      <td>1</td>\n",
              "      <td>7</td>\n",
              "      <td>39.624</td>\n",
              "      <td>2.7</td>\n",
              "      <td>8</td>\n",
              "      <td>256</td>\n",
              "      <td>2.20</td>\n",
              "      <td>946</td>\n",
              "    </tr>\n",
              "    <tr>\n",
              "      <th>3</th>\n",
              "      <td>3</td>\n",
              "      <td>Dell</td>\n",
              "      <td>4</td>\n",
              "      <td>IPS Panel</td>\n",
              "      <td>2</td>\n",
              "      <td>1</td>\n",
              "      <td>5</td>\n",
              "      <td>33.782</td>\n",
              "      <td>1.6</td>\n",
              "      <td>8</td>\n",
              "      <td>128</td>\n",
              "      <td>1.22</td>\n",
              "      <td>1244</td>\n",
              "    </tr>\n",
              "    <tr>\n",
              "      <th>4</th>\n",
              "      <td>4</td>\n",
              "      <td>HP</td>\n",
              "      <td>4</td>\n",
              "      <td>Full HD</td>\n",
              "      <td>2</td>\n",
              "      <td>1</td>\n",
              "      <td>7</td>\n",
              "      <td>39.624</td>\n",
              "      <td>1.8</td>\n",
              "      <td>8</td>\n",
              "      <td>256</td>\n",
              "      <td>1.91</td>\n",
              "      <td>837</td>\n",
              "    </tr>\n",
              "    <tr>\n",
              "      <th>...</th>\n",
              "      <td>...</td>\n",
              "      <td>...</td>\n",
              "      <td>...</td>\n",
              "      <td>...</td>\n",
              "      <td>...</td>\n",
              "      <td>...</td>\n",
              "      <td>...</td>\n",
              "      <td>...</td>\n",
              "      <td>...</td>\n",
              "      <td>...</td>\n",
              "      <td>...</td>\n",
              "      <td>...</td>\n",
              "      <td>...</td>\n",
              "    </tr>\n",
              "    <tr>\n",
              "      <th>233</th>\n",
              "      <td>233</td>\n",
              "      <td>Lenovo</td>\n",
              "      <td>4</td>\n",
              "      <td>IPS Panel</td>\n",
              "      <td>2</td>\n",
              "      <td>1</td>\n",
              "      <td>7</td>\n",
              "      <td>35.560</td>\n",
              "      <td>2.6</td>\n",
              "      <td>8</td>\n",
              "      <td>256</td>\n",
              "      <td>1.70</td>\n",
              "      <td>1891</td>\n",
              "    </tr>\n",
              "    <tr>\n",
              "      <th>234</th>\n",
              "      <td>234</td>\n",
              "      <td>Toshiba</td>\n",
              "      <td>3</td>\n",
              "      <td>Full HD</td>\n",
              "      <td>2</td>\n",
              "      <td>1</td>\n",
              "      <td>5</td>\n",
              "      <td>33.782</td>\n",
              "      <td>2.4</td>\n",
              "      <td>8</td>\n",
              "      <td>256</td>\n",
              "      <td>1.20</td>\n",
              "      <td>1950</td>\n",
              "    </tr>\n",
              "    <tr>\n",
              "      <th>235</th>\n",
              "      <td>235</td>\n",
              "      <td>Lenovo</td>\n",
              "      <td>4</td>\n",
              "      <td>IPS Panel</td>\n",
              "      <td>2</td>\n",
              "      <td>1</td>\n",
              "      <td>5</td>\n",
              "      <td>30.480</td>\n",
              "      <td>2.6</td>\n",
              "      <td>8</td>\n",
              "      <td>256</td>\n",
              "      <td>1.36</td>\n",
              "      <td>2236</td>\n",
              "    </tr>\n",
              "    <tr>\n",
              "      <th>236</th>\n",
              "      <td>236</td>\n",
              "      <td>Lenovo</td>\n",
              "      <td>3</td>\n",
              "      <td>Full HD</td>\n",
              "      <td>3</td>\n",
              "      <td>1</td>\n",
              "      <td>5</td>\n",
              "      <td>39.624</td>\n",
              "      <td>2.5</td>\n",
              "      <td>6</td>\n",
              "      <td>256</td>\n",
              "      <td>2.40</td>\n",
              "      <td>883</td>\n",
              "    </tr>\n",
              "    <tr>\n",
              "      <th>237</th>\n",
              "      <td>237</td>\n",
              "      <td>Toshiba</td>\n",
              "      <td>3</td>\n",
              "      <td>Full HD</td>\n",
              "      <td>2</td>\n",
              "      <td>1</td>\n",
              "      <td>5</td>\n",
              "      <td>35.560</td>\n",
              "      <td>2.3</td>\n",
              "      <td>8</td>\n",
              "      <td>256</td>\n",
              "      <td>1.95</td>\n",
              "      <td>1499</td>\n",
              "    </tr>\n",
              "  </tbody>\n",
              "</table>\n",
              "<p>238 rows × 13 columns</p>\n",
              "</div>"
            ],
            "text/plain": [
              "     Unnamed: 0 Manufacturer  Category     Screen  GPU  OS  CPU_core  \\\n",
              "0             0         Acer         4  IPS Panel    2   1         5   \n",
              "1             1         Dell         3    Full HD    1   1         3   \n",
              "2             2         Dell         3    Full HD    1   1         7   \n",
              "3             3         Dell         4  IPS Panel    2   1         5   \n",
              "4             4           HP         4    Full HD    2   1         7   \n",
              "..          ...          ...       ...        ...  ...  ..       ...   \n",
              "233         233       Lenovo         4  IPS Panel    2   1         7   \n",
              "234         234      Toshiba         3    Full HD    2   1         5   \n",
              "235         235       Lenovo         4  IPS Panel    2   1         5   \n",
              "236         236       Lenovo         3    Full HD    3   1         5   \n",
              "237         237      Toshiba         3    Full HD    2   1         5   \n",
              "\n",
              "     Screen_Size_cm  CPU_frequency  RAM_GB  Storage_GB_SSD  Weight_kg  Price  \n",
              "0            35.560            1.6       8             256       1.60    978  \n",
              "1            39.624            2.0       4             256       2.20    634  \n",
              "2            39.624            2.7       8             256       2.20    946  \n",
              "3            33.782            1.6       8             128       1.22   1244  \n",
              "4            39.624            1.8       8             256       1.91    837  \n",
              "..              ...            ...     ...             ...        ...    ...  \n",
              "233          35.560            2.6       8             256       1.70   1891  \n",
              "234          33.782            2.4       8             256       1.20   1950  \n",
              "235          30.480            2.6       8             256       1.36   2236  \n",
              "236          39.624            2.5       6             256       2.40    883  \n",
              "237          35.560            2.3       8             256       1.95   1499  \n",
              "\n",
              "[238 rows x 13 columns]"
            ]
          },
          "execution_count": 3,
          "metadata": {},
          "output_type": "execute_result"
        }
      ],
      "source": [
        "file_name=\"laptops.csv\"\n",
        "df = pd.read_csv(file_name)\n",
        "df"
      ]
    },
    {
      "cell_type": "markdown",
      "metadata": {},
      "source": [
        "> Note: This version of the lab is working on JupyterLite, which requires the dataset to be downloaded to the interface. While working on the downloaded version of this notebook on their local machines, the learners can simply **skip the steps above**, and simply use the URL directly in the `pandas.read_csv()` function. You can uncomment and run the statements in the cell below.\n"
      ]
    },
    {
      "cell_type": "markdown",
      "metadata": {},
      "source": [
        "<h1> Task #1: </h1>\n",
        "<h3>Load the dataset to a pandas dataframe named 'df'</h3>\n",
        "Print the first 5 entries of the dataset to confirm loading.\n"
      ]
    },
    {
      "cell_type": "code",
      "execution_count": 7,
      "metadata": {
        "trusted": true
      },
      "outputs": [
        {
          "name": "stdout",
          "output_type": "stream",
          "text": [
            "   Unnamed: 0 Manufacturer  Category     Screen  GPU  OS  CPU_core  \\\n",
            "0           0         Acer         4  IPS Panel    2   1         5   \n",
            "1           1         Dell         3    Full HD    1   1         3   \n",
            "2           2         Dell         3    Full HD    1   1         7   \n",
            "3           3         Dell         4  IPS Panel    2   1         5   \n",
            "4           4           HP         4    Full HD    2   1         7   \n",
            "\n",
            "   Screen_Size_cm  CPU_frequency  RAM_GB  Storage_GB_SSD  Weight_kg  Price  \n",
            "0          35.560            1.6       8             256       1.60    978  \n",
            "1          39.624            2.0       4             256       2.20    634  \n",
            "2          39.624            2.7       8             256       2.20    946  \n",
            "3          33.782            1.6       8             128       1.22   1244  \n",
            "4          39.624            1.8       8             256       1.91    837  \n"
          ]
        }
      ],
      "source": [
        "# Write your code below and press Shift+Enter to execute.\n",
        "df = pd.read_csv(file_name)\n",
        "print(df.head())"
      ]
    },
    {
      "cell_type": "markdown",
      "metadata": {},
      "source": [
        "<details><summary>Click here for solution</summary>\n",
        "\n",
        "```python\n",
        "df = pd.read_csv(file_name, header=None)\n",
        "print(df.head())\n",
        "```\n",
        "</details>\n"
      ]
    },
    {
      "cell_type": "markdown",
      "metadata": {},
      "source": [
        "<h1> Task #2: </h1>\n",
        "<h3>Add headers to the dataframe</h3>\n",
        "The headers for the dataset, in sequence, are \"Manufacturer\", \"Category\", \"Screen\", \"GPU\", \"OS\", \"CPU_core\",\n",
        "\"Screen_Size_inch\", \"CPU_frequency\", \"RAM_GB\", \"Storage_GB_SSD\", \"Weight_kg\" and \"Price\".\n",
        "\n",
        "Confirm insertion by printing the first 10 rows of the dataset.\n"
      ]
    },
    {
      "cell_type": "code",
      "execution_count": 9,
      "metadata": {},
      "outputs": [
        {
          "name": "stdout",
          "output_type": "stream",
          "text": [
            "   id Manufacturer  Category     Screen  GPU  OS  CPU_core  Screen_Size_inch  \\\n",
            "0   0         Acer         4  IPS Panel    2   1         5            35.560   \n",
            "1   1         Dell         3    Full HD    1   1         3            39.624   \n",
            "2   2         Dell         3    Full HD    1   1         7            39.624   \n",
            "3   3         Dell         4  IPS Panel    2   1         5            33.782   \n",
            "4   4           HP         4    Full HD    2   1         7            39.624   \n",
            "5   5         Dell         3    Full HD    1   1         5            39.624   \n",
            "6   6           HP         3    Full HD    3   1         5            39.624   \n",
            "7   7         Acer         3  IPS Panel    2   1         5            38.100   \n",
            "8   8         Dell         3    Full HD    1   1         5            39.624   \n",
            "9   9         Acer         3  IPS Panel    3   1         7            38.100   \n",
            "\n",
            "   CPU_frequency  RAM_GB  Storage_GB_SSD  Weight_kg  Price  \n",
            "0            1.6       8             256       1.60    978  \n",
            "1            2.0       4             256       2.20    634  \n",
            "2            2.7       8             256       2.20    946  \n",
            "3            1.6       8             128       1.22   1244  \n",
            "4            1.8       8             256       1.91    837  \n",
            "5            1.6       8             256       2.20   1016  \n",
            "6            1.6       8             256       2.10   1117  \n",
            "7            1.6       4             256       2.20    866  \n",
            "8            2.5       4             256       2.30    812  \n",
            "9            1.8       8             256       2.20   1068  \n"
          ]
        }
      ],
      "source": [
        "# Write your code below and press Shift+Enter to execute.\n",
        "# create headers list\n",
        "headers = [\"id\",\"Manufacturer\", \"Category\", \"Screen\", \"GPU\", \"OS\", \"CPU_core\", \"Screen_Size_inch\", \"CPU_frequency\", \"RAM_GB\", \"Storage_GB_SSD\", \"Weight_kg\", \"Price\"]\n",
        "df.columns = headers\n",
        "print(df.head(10))"
      ]
    },
    {
      "cell_type": "markdown",
      "metadata": {},
      "source": [
        "<details><summary>Click here for solution</summary>\n",
        "\n",
        "```python\n",
        "# create headers list\n",
        "headers = [\"Manufacturer\", \"Category\", \"Screen\", \"GPU\", \"OS\", \"CPU_core\", \"Screen_Size_inch\", \"CPU_frequency\", \"RAM_GB\", \"Storage_GB_SSD\", \"Weight_kg\", \"Price\"]\n",
        "df.columns = headers\n",
        "print(df.head(10))\n",
        "```\n",
        "</details>\n"
      ]
    },
    {
      "cell_type": "markdown",
      "metadata": {},
      "source": [
        "<h1> Task #3: </h1>\n",
        "<h3>Replace '?' with 'NaN'</h3>\n",
        "Replace the '?' entries in the dataset with NaN value, recevied from the Numpy package.\n"
      ]
    },
    {
      "cell_type": "code",
      "execution_count": 11,
      "metadata": {},
      "outputs": [
        {
          "data": {
            "text/html": [
              "<div>\n",
              "<style scoped>\n",
              "    .dataframe tbody tr th:only-of-type {\n",
              "        vertical-align: middle;\n",
              "    }\n",
              "\n",
              "    .dataframe tbody tr th {\n",
              "        vertical-align: top;\n",
              "    }\n",
              "\n",
              "    .dataframe thead th {\n",
              "        text-align: right;\n",
              "    }\n",
              "</style>\n",
              "<table border=\"1\" class=\"dataframe\">\n",
              "  <thead>\n",
              "    <tr style=\"text-align: right;\">\n",
              "      <th></th>\n",
              "      <th>id</th>\n",
              "      <th>Manufacturer</th>\n",
              "      <th>Category</th>\n",
              "      <th>Screen</th>\n",
              "      <th>GPU</th>\n",
              "      <th>OS</th>\n",
              "      <th>CPU_core</th>\n",
              "      <th>Screen_Size_inch</th>\n",
              "      <th>CPU_frequency</th>\n",
              "      <th>RAM_GB</th>\n",
              "      <th>Storage_GB_SSD</th>\n",
              "      <th>Weight_kg</th>\n",
              "      <th>Price</th>\n",
              "    </tr>\n",
              "  </thead>\n",
              "  <tbody>\n",
              "    <tr>\n",
              "      <th>0</th>\n",
              "      <td>0</td>\n",
              "      <td>Acer</td>\n",
              "      <td>4</td>\n",
              "      <td>IPS Panel</td>\n",
              "      <td>2</td>\n",
              "      <td>1</td>\n",
              "      <td>5</td>\n",
              "      <td>35.560</td>\n",
              "      <td>1.6</td>\n",
              "      <td>8</td>\n",
              "      <td>256</td>\n",
              "      <td>1.60</td>\n",
              "      <td>978</td>\n",
              "    </tr>\n",
              "    <tr>\n",
              "      <th>1</th>\n",
              "      <td>1</td>\n",
              "      <td>Dell</td>\n",
              "      <td>3</td>\n",
              "      <td>Full HD</td>\n",
              "      <td>1</td>\n",
              "      <td>1</td>\n",
              "      <td>3</td>\n",
              "      <td>39.624</td>\n",
              "      <td>2.0</td>\n",
              "      <td>4</td>\n",
              "      <td>256</td>\n",
              "      <td>2.20</td>\n",
              "      <td>634</td>\n",
              "    </tr>\n",
              "    <tr>\n",
              "      <th>2</th>\n",
              "      <td>2</td>\n",
              "      <td>Dell</td>\n",
              "      <td>3</td>\n",
              "      <td>Full HD</td>\n",
              "      <td>1</td>\n",
              "      <td>1</td>\n",
              "      <td>7</td>\n",
              "      <td>39.624</td>\n",
              "      <td>2.7</td>\n",
              "      <td>8</td>\n",
              "      <td>256</td>\n",
              "      <td>2.20</td>\n",
              "      <td>946</td>\n",
              "    </tr>\n",
              "    <tr>\n",
              "      <th>3</th>\n",
              "      <td>3</td>\n",
              "      <td>Dell</td>\n",
              "      <td>4</td>\n",
              "      <td>IPS Panel</td>\n",
              "      <td>2</td>\n",
              "      <td>1</td>\n",
              "      <td>5</td>\n",
              "      <td>33.782</td>\n",
              "      <td>1.6</td>\n",
              "      <td>8</td>\n",
              "      <td>128</td>\n",
              "      <td>1.22</td>\n",
              "      <td>1244</td>\n",
              "    </tr>\n",
              "    <tr>\n",
              "      <th>4</th>\n",
              "      <td>4</td>\n",
              "      <td>HP</td>\n",
              "      <td>4</td>\n",
              "      <td>Full HD</td>\n",
              "      <td>2</td>\n",
              "      <td>1</td>\n",
              "      <td>7</td>\n",
              "      <td>39.624</td>\n",
              "      <td>1.8</td>\n",
              "      <td>8</td>\n",
              "      <td>256</td>\n",
              "      <td>1.91</td>\n",
              "      <td>837</td>\n",
              "    </tr>\n",
              "    <tr>\n",
              "      <th>...</th>\n",
              "      <td>...</td>\n",
              "      <td>...</td>\n",
              "      <td>...</td>\n",
              "      <td>...</td>\n",
              "      <td>...</td>\n",
              "      <td>...</td>\n",
              "      <td>...</td>\n",
              "      <td>...</td>\n",
              "      <td>...</td>\n",
              "      <td>...</td>\n",
              "      <td>...</td>\n",
              "      <td>...</td>\n",
              "      <td>...</td>\n",
              "    </tr>\n",
              "    <tr>\n",
              "      <th>233</th>\n",
              "      <td>233</td>\n",
              "      <td>Lenovo</td>\n",
              "      <td>4</td>\n",
              "      <td>IPS Panel</td>\n",
              "      <td>2</td>\n",
              "      <td>1</td>\n",
              "      <td>7</td>\n",
              "      <td>35.560</td>\n",
              "      <td>2.6</td>\n",
              "      <td>8</td>\n",
              "      <td>256</td>\n",
              "      <td>1.70</td>\n",
              "      <td>1891</td>\n",
              "    </tr>\n",
              "    <tr>\n",
              "      <th>234</th>\n",
              "      <td>234</td>\n",
              "      <td>Toshiba</td>\n",
              "      <td>3</td>\n",
              "      <td>Full HD</td>\n",
              "      <td>2</td>\n",
              "      <td>1</td>\n",
              "      <td>5</td>\n",
              "      <td>33.782</td>\n",
              "      <td>2.4</td>\n",
              "      <td>8</td>\n",
              "      <td>256</td>\n",
              "      <td>1.20</td>\n",
              "      <td>1950</td>\n",
              "    </tr>\n",
              "    <tr>\n",
              "      <th>235</th>\n",
              "      <td>235</td>\n",
              "      <td>Lenovo</td>\n",
              "      <td>4</td>\n",
              "      <td>IPS Panel</td>\n",
              "      <td>2</td>\n",
              "      <td>1</td>\n",
              "      <td>5</td>\n",
              "      <td>30.480</td>\n",
              "      <td>2.6</td>\n",
              "      <td>8</td>\n",
              "      <td>256</td>\n",
              "      <td>1.36</td>\n",
              "      <td>2236</td>\n",
              "    </tr>\n",
              "    <tr>\n",
              "      <th>236</th>\n",
              "      <td>236</td>\n",
              "      <td>Lenovo</td>\n",
              "      <td>3</td>\n",
              "      <td>Full HD</td>\n",
              "      <td>3</td>\n",
              "      <td>1</td>\n",
              "      <td>5</td>\n",
              "      <td>39.624</td>\n",
              "      <td>2.5</td>\n",
              "      <td>6</td>\n",
              "      <td>256</td>\n",
              "      <td>2.40</td>\n",
              "      <td>883</td>\n",
              "    </tr>\n",
              "    <tr>\n",
              "      <th>237</th>\n",
              "      <td>237</td>\n",
              "      <td>Toshiba</td>\n",
              "      <td>3</td>\n",
              "      <td>Full HD</td>\n",
              "      <td>2</td>\n",
              "      <td>1</td>\n",
              "      <td>5</td>\n",
              "      <td>35.560</td>\n",
              "      <td>2.3</td>\n",
              "      <td>8</td>\n",
              "      <td>256</td>\n",
              "      <td>1.95</td>\n",
              "      <td>1499</td>\n",
              "    </tr>\n",
              "  </tbody>\n",
              "</table>\n",
              "<p>238 rows × 13 columns</p>\n",
              "</div>"
            ],
            "text/plain": [
              "      id Manufacturer  Category     Screen  GPU  OS  CPU_core  \\\n",
              "0      0         Acer         4  IPS Panel    2   1         5   \n",
              "1      1         Dell         3    Full HD    1   1         3   \n",
              "2      2         Dell         3    Full HD    1   1         7   \n",
              "3      3         Dell         4  IPS Panel    2   1         5   \n",
              "4      4           HP         4    Full HD    2   1         7   \n",
              "..   ...          ...       ...        ...  ...  ..       ...   \n",
              "233  233       Lenovo         4  IPS Panel    2   1         7   \n",
              "234  234      Toshiba         3    Full HD    2   1         5   \n",
              "235  235       Lenovo         4  IPS Panel    2   1         5   \n",
              "236  236       Lenovo         3    Full HD    3   1         5   \n",
              "237  237      Toshiba         3    Full HD    2   1         5   \n",
              "\n",
              "     Screen_Size_inch  CPU_frequency  RAM_GB  Storage_GB_SSD  Weight_kg  Price  \n",
              "0              35.560            1.6       8             256       1.60    978  \n",
              "1              39.624            2.0       4             256       2.20    634  \n",
              "2              39.624            2.7       8             256       2.20    946  \n",
              "3              33.782            1.6       8             128       1.22   1244  \n",
              "4              39.624            1.8       8             256       1.91    837  \n",
              "..                ...            ...     ...             ...        ...    ...  \n",
              "233            35.560            2.6       8             256       1.70   1891  \n",
              "234            33.782            2.4       8             256       1.20   1950  \n",
              "235            30.480            2.6       8             256       1.36   2236  \n",
              "236            39.624            2.5       6             256       2.40    883  \n",
              "237            35.560            2.3       8             256       1.95   1499  \n",
              "\n",
              "[238 rows x 13 columns]"
            ]
          },
          "execution_count": 11,
          "metadata": {},
          "output_type": "execute_result"
        }
      ],
      "source": [
        "# Write your code below and press Shift+Enter to execute.\n",
        "df.replace('?',np.nan, inplace = True)\n",
        "df"
      ]
    },
    {
      "cell_type": "markdown",
      "metadata": {},
      "source": [
        "<details><summary>Click here for solution</summary>\n",
        "\n",
        "```python\n",
        "df.replace('?',np.nan, inplace = True)\n",
        "```\n",
        "</details>\n"
      ]
    },
    {
      "cell_type": "markdown",
      "metadata": {},
      "source": [
        "<h1> Task #4: </h1>\n",
        "<h3>Print the data types of the dataframe columns</h3>\n",
        "Make a note of the data types of the different columns of the dataset.\n"
      ]
    },
    {
      "cell_type": "code",
      "execution_count": 12,
      "metadata": {},
      "outputs": [
        {
          "name": "stdout",
          "output_type": "stream",
          "text": [
            "id                    int64\n",
            "Manufacturer         object\n",
            "Category              int64\n",
            "Screen               object\n",
            "GPU                   int64\n",
            "OS                    int64\n",
            "CPU_core              int64\n",
            "Screen_Size_inch    float64\n",
            "CPU_frequency       float64\n",
            "RAM_GB                int64\n",
            "Storage_GB_SSD        int64\n",
            "Weight_kg           float64\n",
            "Price                 int64\n",
            "dtype: object\n"
          ]
        }
      ],
      "source": [
        "# Write your code below and press Shift+Enter to execute.\n",
        "print(df.dtypes)\n"
      ]
    },
    {
      "cell_type": "markdown",
      "metadata": {},
      "source": [
        "<details><summary>Click here for solution</summary>\n",
        "\n",
        "```python\n",
        "print(df.dtypes)\n",
        "```\n",
        "</details>\n"
      ]
    },
    {
      "cell_type": "markdown",
      "metadata": {},
      "source": [
        "<h1> Task #5: </h1>\n",
        "<h3>Print the statistical description of the dataset, including that of 'object' data types.</h3>\n"
      ]
    },
    {
      "cell_type": "code",
      "execution_count": 13,
      "metadata": {},
      "outputs": [
        {
          "name": "stdout",
          "output_type": "stream",
          "text": [
            "                id Manufacturer    Category   Screen         GPU          OS  \\\n",
            "count   238.000000          238  238.000000      238  238.000000  238.000000   \n",
            "unique         NaN           11         NaN        2         NaN         NaN   \n",
            "top            NaN         Dell         NaN  Full HD         NaN         NaN   \n",
            "freq           NaN           71         NaN      161         NaN         NaN   \n",
            "mean    118.500000          NaN    3.205882      NaN    2.151261    1.058824   \n",
            "std      68.848868          NaN    0.776533      NaN    0.638282    0.235790   \n",
            "min       0.000000          NaN    1.000000      NaN    1.000000    1.000000   \n",
            "25%      59.250000          NaN    3.000000      NaN    2.000000    1.000000   \n",
            "50%     118.500000          NaN    3.000000      NaN    2.000000    1.000000   \n",
            "75%     177.750000          NaN    4.000000      NaN    3.000000    1.000000   \n",
            "max     237.000000          NaN    5.000000      NaN    3.000000    2.000000   \n",
            "\n",
            "          CPU_core  Screen_Size_inch  CPU_frequency      RAM_GB  \\\n",
            "count   238.000000        234.000000     238.000000  238.000000   \n",
            "unique         NaN               NaN            NaN         NaN   \n",
            "top            NaN               NaN            NaN         NaN   \n",
            "freq           NaN               NaN            NaN         NaN   \n",
            "mean      5.630252         37.269615       2.360084    7.882353   \n",
            "std       1.241787          2.971365       0.411393    2.482603   \n",
            "min       3.000000         30.480000       1.200000    4.000000   \n",
            "25%       5.000000         35.560000       2.000000    8.000000   \n",
            "50%       5.000000         38.100000       2.500000    8.000000   \n",
            "75%       7.000000         39.624000       2.700000    8.000000   \n",
            "max       7.000000         43.942000       2.900000   16.000000   \n",
            "\n",
            "        Storage_GB_SSD   Weight_kg        Price  \n",
            "count       238.000000  233.000000   238.000000  \n",
            "unique             NaN         NaN          NaN  \n",
            "top                NaN         NaN          NaN  \n",
            "freq               NaN         NaN          NaN  \n",
            "mean        245.781513    1.862232  1462.344538  \n",
            "std          34.765316    0.494332   574.607699  \n",
            "min         128.000000    0.810000   527.000000  \n",
            "25%         256.000000    1.440000  1066.500000  \n",
            "50%         256.000000    1.870000  1333.000000  \n",
            "75%         256.000000    2.200000  1777.000000  \n",
            "max         256.000000    3.600000  3810.000000  \n"
          ]
        }
      ],
      "source": [
        "# Write your code below and press Shift+Enter to execute.\n",
        "print(df.describe(include='all'))\n"
      ]
    },
    {
      "cell_type": "markdown",
      "metadata": {},
      "source": [
        "<details><summary>Click here for solution</summary>\n",
        "\n",
        "```python\n",
        "print(df.describe(include='all'))\n",
        "```\n",
        "</details>\n"
      ]
    },
    {
      "cell_type": "markdown",
      "metadata": {},
      "source": [
        "<h1> Task #6: </h1>\n",
        "<h3>Print the summary information of the dataset.</h3>\n"
      ]
    },
    {
      "cell_type": "code",
      "execution_count": 14,
      "metadata": {},
      "outputs": [
        {
          "name": "stdout",
          "output_type": "stream",
          "text": [
            "<class 'pandas.core.frame.DataFrame'>\n",
            "RangeIndex: 238 entries, 0 to 237\n",
            "Data columns (total 13 columns):\n",
            " #   Column            Non-Null Count  Dtype  \n",
            "---  ------            --------------  -----  \n",
            " 0   id                238 non-null    int64  \n",
            " 1   Manufacturer      238 non-null    object \n",
            " 2   Category          238 non-null    int64  \n",
            " 3   Screen            238 non-null    object \n",
            " 4   GPU               238 non-null    int64  \n",
            " 5   OS                238 non-null    int64  \n",
            " 6   CPU_core          238 non-null    int64  \n",
            " 7   Screen_Size_inch  234 non-null    float64\n",
            " 8   CPU_frequency     238 non-null    float64\n",
            " 9   RAM_GB            238 non-null    int64  \n",
            " 10  Storage_GB_SSD    238 non-null    int64  \n",
            " 11  Weight_kg         233 non-null    float64\n",
            " 12  Price             238 non-null    int64  \n",
            "dtypes: float64(3), int64(8), object(2)\n",
            "memory usage: 24.3+ KB\n",
            "None\n"
          ]
        }
      ],
      "source": [
        "# Write your code below and press Shift+Enter to execute.\n",
        "print(df.info())"
      ]
    },
    {
      "cell_type": "markdown",
      "metadata": {},
      "source": [
        "<details><summary>Click here for solution</summary>\n",
        "\n",
        "```python\n",
        "print(df.info())\n",
        "```\n",
        "</details>\n"
      ]
    },
    {
      "cell_type": "markdown",
      "metadata": {},
      "source": [
        "---\n"
      ]
    },
    {
      "cell_type": "markdown",
      "metadata": {},
      "source": [
        "# Congratulations! You have completed the lab\n"
      ]
    },
    {
      "cell_type": "markdown",
      "metadata": {},
      "source": [
        "## Authors\n"
      ]
    },
    {
      "cell_type": "markdown",
      "metadata": {},
      "source": [
        "[Abhishek Gagneja](https://www.coursera.org/instructor/~129186572)\n",
        "\n",
        "[Vicky Kuo](https://author.skills.network/instructors/vicky_kuo)\n"
      ]
    },
    {
      "cell_type": "markdown",
      "metadata": {},
      "source": [
        "## Change Log\n"
      ]
    },
    {
      "cell_type": "markdown",
      "metadata": {},
      "source": [
        "|Date (YYYY-MM-DD)|Version|Changed By|Change Description|\n",
        "|-|-|-|-|\n",
        "|2023-09-15|0.1|Abhishek Gagneja|Initial Version Created|\n",
        "|2023-09-18|0.2|Vicky Kuo|Reviewed and Revised|\n"
      ]
    },
    {
      "cell_type": "markdown",
      "metadata": {},
      "source": [
        "Copyright © 2023 IBM Corporation. All rights reserved.\n"
      ]
    }
  ],
  "metadata": {
    "kernelspec": {
      "display_name": "Python 3",
      "language": "python",
      "name": "python3"
    },
    "language_info": {
      "codemirror_mode": {
        "name": "ipython",
        "version": 3
      },
      "file_extension": ".py",
      "mimetype": "text/x-python",
      "name": "python",
      "nbconvert_exporter": "python",
      "pygments_lexer": "ipython3",
      "version": "3.12.0"
    },
    "prev_pub_hash": "e2a8f69df83bc66faad91e9679f0df7848282fc56e5dc10bc6804c41f5efc628"
  },
  "nbformat": 4,
  "nbformat_minor": 4
}
