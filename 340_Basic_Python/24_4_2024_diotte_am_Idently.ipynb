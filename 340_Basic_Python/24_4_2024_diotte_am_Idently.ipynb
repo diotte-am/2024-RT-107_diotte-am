{
 "cells": [
  {
   "cell_type": "markdown",
   "metadata": {},
   "source": [
    "All 11 Dictionary Methods in Python Explained\n",
    "Amare Diotte\n",
    "Referencing this video:\n",
    "https://www.youtube.com/watch?v=u0yr9B3nH8c"
   ]
  },
  {
   "cell_type": "code",
   "execution_count": 1,
   "metadata": {},
   "outputs": [
    {
     "name": "stdout",
     "output_type": "stream",
     "text": [
      "dict_values(['Mario', 'Luigi', 'James'])\n"
     ]
    }
   ],
   "source": [
    "# 1 - values()\n",
    "\n",
    "users: dict = {0: 'Mario', 1: 'Luigi', 2: 'James'}\n",
    "# dict_values: iterable of all values\n",
    "print(users.values())"
   ]
  },
  {
   "cell_type": "code",
   "execution_count": 2,
   "metadata": {},
   "outputs": [
    {
     "name": "stdout",
     "output_type": "stream",
     "text": [
      "dict_keys([0, 1, 2])\n"
     ]
    }
   ],
   "source": [
    "# 2 - keys()\n",
    "\n",
    "users: dict = {0: 'Mario', 1: 'Luigi', 2: 'James'}\n",
    "# dict_keys iterable of all keys\n",
    "print(users.keys())"
   ]
  },
  {
   "cell_type": "code",
   "execution_count": 4,
   "metadata": {},
   "outputs": [
    {
     "name": "stdout",
     "output_type": "stream",
     "text": [
      "James\n",
      "{0: 'Mario', 1: 'Luigi'}\n"
     ]
    }
   ],
   "source": [
    "# 3 - pop()\n",
    "\n",
    "users: dict = {0: 'Mario', 1: 'Luigi', 2: 'James'}\n",
    "# removes entry at given index\n",
    "popped: str = users.pop(2)\n",
    "# returns the popped value\n",
    "print(popped)\n",
    "# dictionary no longer has that entry\n",
    "print(users)"
   ]
  },
  {
   "cell_type": "code",
   "execution_count": 6,
   "metadata": {},
   "outputs": [
    {
     "name": "stdout",
     "output_type": "stream",
     "text": [
      "(2, 'James')\n",
      "{0: 'Mario', 1: 'Luigi'}\n",
      "{}\n"
     ]
    }
   ],
   "source": [
    "# 4 - popitem()\n",
    "\n",
    "users: dict = {0: 'Mario', 1: 'Luigi', 2: 'James'}\n",
    "# similar to pop() but only pops last item\n",
    "popped: str = users.popitem()\n",
    "print(popped)\n",
    "print(users)\n",
    "# can pop repeatedly until empty:\n",
    "popped: str = users.popitem()\n",
    "popped: str = users.popitem()\n",
    "print(users)"
   ]
  },
  {
   "cell_type": "code",
   "execution_count": 9,
   "metadata": {},
   "outputs": [
    {
     "name": "stdout",
     "output_type": "stream",
     "text": [
      "4565767680\n",
      "4565768384\n",
      "{0: ['!!!', 'b'], 1: ['c', 'd']}\n",
      "{0: ['!!!', 'b'], 1: ['c', 'd']}\n"
     ]
    }
   ],
   "source": [
    "# 5 - copy()\n",
    "\n",
    "sample_dict: dict = {0: ['a', 'b'], 1: ['c', 'd']}\n",
    "my_copy: dict = sample_dict.copy()\n",
    "\n",
    "# this makes a shallow copy\n",
    "print(id(sample_dict))\n",
    "print(id(my_copy))\n",
    "\n",
    "# they have different ids\n",
    "my_copy[0][0] = '!!!'\n",
    "print(sample_dict)\n",
    "print(my_copy)\n",
    "# but they reference the same memory location, so any changes are made to both\n",
    "\n"
   ]
  },
  {
   "cell_type": "code",
   "execution_count": 11,
   "metadata": {},
   "outputs": [
    {
     "name": "stdout",
     "output_type": "stream",
     "text": [
      "Luigi\n",
      "None\n",
      "Missing!\n"
     ]
    }
   ],
   "source": [
    "# 6 - get()\n",
    "\n",
    "users: dict = {0: 'Mario', 1: 'Luigi', 2: 'James'}\n",
    "# get data from the dictionary without getting an error if there's no entry\n",
    "print(users.get(1))\n",
    "# default returns None if its not there\n",
    "print(users.get(9999))\n",
    "# can add your own default value\n",
    "print(users.get(9999, 'Missing!'))\n"
   ]
  },
  {
   "cell_type": "code",
   "execution_count": 12,
   "metadata": {},
   "outputs": [
    {
     "name": "stdout",
     "output_type": "stream",
     "text": [
      "Mario\n",
      "???\n",
      "{0: 'Mario', 1: 'Luigi', 2: 'James', 999: '???'}\n"
     ]
    }
   ],
   "source": [
    "# 7 - setdefault()\n",
    "\n",
    "users: dict = {0: 'Mario', 1: 'Luigi', 2: 'James'}\n",
    "# similar to get, but can insert default value into dict\n",
    "print(users.setdefault(0, '???'))\n",
    "print(users.setdefault(999, '???'))\n",
    "print(users)"
   ]
  },
  {
   "cell_type": "code",
   "execution_count": 13,
   "metadata": {},
   "outputs": [
    {
     "name": "stdout",
     "output_type": "stream",
     "text": [
      "{}\n"
     ]
    }
   ],
   "source": [
    "# 8 - clear()\n",
    "\n",
    "users: dict = {0: 'Mario', 1: 'Luigi', 2: 'James'}\n",
    "# clears dictionary\n",
    "users.clear()\n",
    "print(users)"
   ]
  },
  {
   "cell_type": "code",
   "execution_count": 16,
   "metadata": {},
   "outputs": [
    {
     "name": "stdout",
     "output_type": "stream",
     "text": [
      "{'Mario': None, 'Luigi': None, 'James': None}\n",
      "{'Mario': 'uknown', 'Luigi': 'uknown', 'James': 'uknown'}\n"
     ]
    }
   ],
   "source": [
    "#9 - fromkeys()\n",
    "\n",
    "people: list[str] = ['Mario', 'Luigi', 'James']\n",
    "# needs an iterable\n",
    "users: dict = dict.fromkeys(people)\n",
    "# default value is none\n",
    "print(users)\n",
    "\n",
    "users1: dict = dict.fromkeys(people,\"unknown\")\n",
    "print(users1)"
   ]
  },
  {
   "cell_type": "code",
   "execution_count": 17,
   "metadata": {},
   "outputs": [
    {
     "name": "stdout",
     "output_type": "stream",
     "text": [
      "dict_items([(0, 'Mario'), (1, 'Luigi'), (2, 'James')])\n",
      "0 Mario\n",
      "1 Luigi\n",
      "2 James\n"
     ]
    }
   ],
   "source": [
    "#10 - items\n",
    "\n",
    "users: dict = {0: 'Mario', 1: 'Luigi', 2: 'James'}\n",
    "# iterable containing tuples of key-value pairs\n",
    "print(users.items())\n",
    "\n",
    "for k,v in users.items():\n",
    "    print(k,v)"
   ]
  },
  {
   "cell_type": "code",
   "execution_count": 19,
   "metadata": {},
   "outputs": [
    {
     "name": "stdout",
     "output_type": "stream",
     "text": [
      "{0: 'Mario', 1: 'Luigi', 2: 'Bob', 3: 'Joe'}\n",
      "{0: 'Mario', 1: 'Luigi', 2: 'Bob', 3: 'Joe', 10: 'spam', 11: 'Eggs'}\n"
     ]
    }
   ],
   "source": [
    "#11 - update()\n",
    "\n",
    "users: dict = {0: 'Mario', 1: 'Luigi', 2: 'James'}\n",
    "# expand/modify dictionary with new dictionary\n",
    "users.update({2: 'Bob', 3: 'Joe'})\n",
    "# Any same keys are overridden\n",
    "print(users)\n",
    "# another way to update using pipe\n",
    "print(users | {10: \"spam\", 11: \"Eggs\"})"
   ]
  }
 ],
 "metadata": {
  "kernelspec": {
   "display_name": "Python 3",
   "language": "python",
   "name": "python3"
  },
  "language_info": {
   "codemirror_mode": {
    "name": "ipython",
    "version": 3
   },
   "file_extension": ".py",
   "mimetype": "text/x-python",
   "name": "python",
   "nbconvert_exporter": "python",
   "pygments_lexer": "ipython3",
   "version": "3.10.13"
  }
 },
 "nbformat": 4,
 "nbformat_minor": 2
}
