{
 "cells": [
  {
   "cell_type": "markdown",
   "metadata": {},
   "source": [
    "Iterate thru ditionary keys with for loop\n",
    "Unordered, use keys to look up items\n",
    "keys only:\n",
    "    in operator checks existence of a key\n",
    "    keys() return list of keys\n",
    "    values() returns list of values\n",
    "    items() returns list of items as a list of lists\n",
    "\n",
    "Referencing: https://www.youtube.com/watch?v=_5BQaRuucTY"
   ]
  },
  {
   "cell_type": "code",
   "execution_count": 17,
   "metadata": {},
   "outputs": [
    {
     "name": "stdout",
     "output_type": "stream",
     "text": [
      "81\n",
      "Grey\n",
      "92\n",
      "97\n",
      "81\n",
      "It is!\n",
      "92 is found in the values!\n",
      "dict_values([92, 97, 81])\n",
      "97\n",
      "['Ben', 'Diane', 'Sam']\n",
      "92\n",
      "97\n",
      "81\n",
      "this is not a list!\n",
      "dict_items([('Ben', 92), ('Diane', 97), ('Sam', 81)])\n",
      "[('Ben', 92), ('Diane', 97), ('Sam', 81)]\n",
      "92\n"
     ]
    }
   ],
   "source": [
    "studentGrades = {\"Ben\": 92, \"Diane\": 97, \"Sam\": 81}\n",
    "print(studentGrades[\"Sam\"])\n",
    "\n",
    "myCars = ({\"Make\": \"Ford\", \"Model\": \"Model A\", \"Year\": 1931, \"Colors\": (\"Blue\", \"Grey\")},\n",
    "          {\"Make\": \"Chevy\", \"Model\": \"Cavalier\", \"Year\": 1997})\n",
    "\n",
    "print(myCars[0][\"Colors\"][1])\n",
    "\n",
    "for item in studentGrades:\n",
    "    print(studentGrades[item])\n",
    "\n",
    "if \"Ben\" in studentGrades:\n",
    "    print(\"It is!\")\n",
    "\n",
    "if 92 in studentGrades.values():\n",
    "    print(\"92 is found in the values!\")\n",
    "\n",
    "values = studentGrades.values()\n",
    "# cannot treat dict_values as a list!\n",
    "print(studentGrades.values())\n",
    "\n",
    "#print((studentGrades.values()[1]) this is a type error!\n",
    "\n",
    "# need to cast to a list\n",
    "print(list(values)[1])\n",
    "\n",
    "keys = studentGrades.keys()\n",
    "keysList = list(keys)\n",
    "print(keysList)\n",
    "\n",
    "for i in range(0,len(values)):\n",
    "    print(studentGrades[keysList[i]])\n",
    "\n",
    "items = studentGrades.items()\n",
    "print(\"this is not a list!\")\n",
    "print(items)\n",
    "# cast to list\n",
    "itemsList = list(items)\n",
    "# no more curly braces, now a list\n",
    "print(itemsList)\n",
    "# access nested list items\n",
    "print(itemsList[0][1])"
   ]
  },
  {
   "cell_type": "code",
   "execution_count": null,
   "metadata": {},
   "outputs": [],
   "source": []
  }
 ],
 "metadata": {
  "kernelspec": {
   "display_name": "Python 3",
   "language": "python",
   "name": "python3"
  },
  "language_info": {
   "codemirror_mode": {
    "name": "ipython",
    "version": 3
   },
   "file_extension": ".py",
   "mimetype": "text/x-python",
   "name": "python",
   "nbconvert_exporter": "python",
   "pygments_lexer": "ipython3",
   "version": "3.10.13"
  }
 },
 "nbformat": 4,
 "nbformat_minor": 2
}
