{
 "cells": [
  {
   "cell_type": "markdown",
   "metadata": {},
   "source": [
    "Generators Video Summary\n",
    "    Generators are like iterators with a simplier sytnax so they're easier to create.\n",
    "    Introduced in Python3\n",
    "    https://www.youtube.com/watch?v=u3T7hmLthUU\n"
   ]
  },
  {
   "cell_type": "code",
   "execution_count": null,
   "metadata": {},
   "outputs": [],
   "source": [
    "import sys\n",
    "\n",
    "# loop through numbers with no while or range\n",
    "x = [1,2,3,4,5,6,7,8,9,10]\n",
    "\n",
    "# standard iterator to iterate thru 1-10 but it's not necessary to store\n",
    "# the numbers in a list data structure\n",
    "for element in x:\n",
    "    print(element)\n",
    "\n",
    "# comparing sizes of range and list:\n",
    "print(sys.getsizeof(x))\n",
    "print(sys.getsizeof(range(1,11)))\n",
    "\n",
    "# range takes up less space because it creates and returns an iterator\n",
    "# you get one element at a time vs. storing them all at once in list\n",
    "\n",
    "# using map to generate squares of all values in the list\n",
    "y = map(lambda i: i**2, x)\n",
    "# y is actually a map object, the list is not created yet, an iterator is returned,\n",
    "# not the list\n",
    "print(y)\n",
    "\n",
    "# these both return iterators so they are the same size\n",
    "sys.getsizeof(range(1,11)) == sys.getsizeof(y)\n",
    "\n",
    "print(next(y))\n",
    "print(next(y))\n",
    "print(next(y))\n",
    "print(\"for loop starts here\")\n",
    "# this loop starts at y = 25 as it's already advance 3 times in print statements\n",
    "for i in y:\n",
    "    print(i)\n",
    "\n",
    "# inside a for loop\n",
    "while True:\n",
    "    try:\n",
    "        value = next(y)\n",
    "    except StopIteration:\n",
    "        print('Done')\n",
    "        break\n",
    "\n"
   ]
  },
  {
   "cell_type": "code",
   "execution_count": 11,
   "metadata": {},
   "outputs": [
    {
     "name": "stdout",
     "output_type": "stream",
     "text": [
      "0\n",
      "1\n",
      "2\n",
      "3\n",
      "4\n"
     ]
    }
   ],
   "source": [
    "# using iters using old syntax\n",
    "\n",
    "# create class \n",
    "class Iter:\n",
    "    def __init__(self, n):\n",
    "        self.n = n\n",
    "\n",
    "    def __iter__(self):\n",
    "        self.current = -1\n",
    "        return self\n",
    "    \n",
    "    def __next__(self):\n",
    "        self.current += 1\n",
    "\n",
    "        if self.current >= self.n:\n",
    "            raise StopIteration\n",
    "        \n",
    "        return self.current\n",
    "    \n",
    "x = Iter(5)\n",
    "\n",
    "# printing range 0,5\n",
    "for i in x:\n",
    "    print(i)"
   ]
  },
  {
   "cell_type": "code",
   "execution_count": null,
   "metadata": {},
   "outputs": [],
   "source": [
    "import sys\n",
    "# generators (same as class above, but in modern syntax)\n",
    "# use a generator if you only need to access the current element.\n",
    "# great for very large files because you only need to store one line at a time\n",
    "\n",
    "def gen(n):\n",
    "    # use yield instead of return\n",
    "    for i in range(n):\n",
    "        yield i\n",
    "\n",
    "x = gen(5)\n",
    "print(next(x))\n",
    "print(next(x))\n",
    "print(\"loop starts here\")\n",
    "for i in x:\n",
    "    print(i)"
   ]
  },
  {
   "cell_type": "code",
   "execution_count": null,
   "metadata": {},
   "outputs": [],
   "source": [
    "# this function only reads on row of the document at a time\n",
    "\n",
    "import sys\n",
    "# example of CSV file reader\n",
    "def csv_reader(file_name):\n",
    "    for row in open(file_name, \"r\"):\n",
    "        yield row"
   ]
  },
  {
   "cell_type": "code",
   "execution_count": 21,
   "metadata": {},
   "outputs": [
    {
     "name": "stdout",
     "output_type": "stream",
     "text": [
      "<generator object <genexpr> at 0x10d125fc0>\n",
      "0\n",
      "1\n",
      "2\n"
     ]
    }
   ],
   "source": [
    "# generator comprehension\n",
    "x = (i for i in range(10))\n",
    "\n",
    "print(x)\n",
    "print(next(x))\n",
    "print(next(x))\n",
    "print(next(x))"
   ]
  }
 ],
 "metadata": {
  "kernelspec": {
   "display_name": "Python 3",
   "language": "python",
   "name": "python3"
  },
  "language_info": {
   "codemirror_mode": {
    "name": "ipython",
    "version": 3
   },
   "file_extension": ".py",
   "mimetype": "text/x-python",
   "name": "python",
   "nbconvert_exporter": "python",
   "pygments_lexer": "ipython3",
   "version": "3.10.13"
  }
 },
 "nbformat": 4,
 "nbformat_minor": 2
}
