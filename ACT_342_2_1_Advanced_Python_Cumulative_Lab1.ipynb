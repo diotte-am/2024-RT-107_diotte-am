{
  "nbformat": 4,
  "nbformat_minor": 0,
  "metadata": {
    "colab": {
      "provenance": [],
      "include_colab_link": true
    },
    "kernelspec": {
      "name": "python3",
      "display_name": "Python 3"
    },
    "language_info": {
      "name": "python"
    }
  },
  "cells": [
    {
      "cell_type": "markdown",
      "metadata": {
        "id": "view-in-github",
        "colab_type": "text"
      },
      "source": [
        "<a href=\"https://colab.research.google.com/github/diotte-am/2024-RT-107_diotte-am/blob/main/ACT_342_2_1_Advanced_Python_Cumulative_Lab1.ipynb\" target=\"_parent\"><img src=\"https://colab.research.google.com/assets/colab-badge.svg\" alt=\"Open In Colab\"/></a>"
      ]
    },
    {
      "cell_type": "markdown",
      "source": [
        "#Accessing a Paginated API Endpoint to Explore Data\n",
        "\n",
        "In this lab, we will combine concepts that we have learned throughout the class so far. Some of those concepts include:\n",
        "\n",
        ">*   Importing libraries.\n",
        ">*   Looping through nested lists and dictionaries.\n",
        ">*   Making requests to API Endpoints.\n",
        ">*   Defining functions based on a given set of conditions.\n",
        ">*   Accessing and utilizing JSON data.\n",
        ">*   Handling exception errors.\n",
        "<br></br>\n",
        "\n",
        "To complete this lab, we will use data from a Star Wars API. The full documentation can be found here: https://swapi.dev/documentation#intro\n",
        "<br></br>\n",
        "We will focus on the **\"People Resource\"** for this lab.\n",
        "\n",
        "#Instructions:\n",
        "\n",
        "\n"
      ],
      "metadata": {
        "id": "W9LJu8VEIP3p"
      }
    },
    {
      "cell_type": "markdown",
      "source": [
        "Import all of the required packages to complete this assignment.\n",
        "Include a package to print Json in a tabular format."
      ],
      "metadata": {
        "id": "PMtPeI04Lst3"
      }
    },
    {
      "cell_type": "code",
      "source": [
        "import requests\n",
        "import json\n",
        "import pandas\n"
      ],
      "metadata": {
        "id": "GNETMP82L3Z9"
      },
      "execution_count": 2,
      "outputs": []
    },
    {
      "cell_type": "markdown",
      "source": [
        "Make your request to the API Endpoint and use a **FOR LOOP** if neccessary to access multiple pages.\n",
        "<br></br>\n",
        "Save all of the responses in one Python Object."
      ],
      "metadata": {
        "id": "WVOtZOtfMHyH"
      }
    },
    {
      "cell_type": "code",
      "source": [
        "\n",
        "api_url = \"https://swapi.dev/api/people\"\n",
        "response = requests.get(api_url)\n",
        "\n",
        "print(response.json())\n"
      ],
      "metadata": {
        "id": "7yLJTUIUMkB6",
        "colab": {
          "base_uri": "https://localhost:8080/"
        },
        "outputId": "8aef23e1-57fe-40a3-a23d-b1a2f22b418a"
      },
      "execution_count": 43,
      "outputs": [
        {
          "output_type": "stream",
          "name": "stdout",
          "text": [
            "{'count': 82, 'next': 'https://swapi.dev/api/people/?page=2', 'previous': None, 'results': [{'name': 'Luke Skywalker', 'height': '172', 'mass': '77', 'hair_color': 'blond', 'skin_color': 'fair', 'eye_color': 'blue', 'birth_year': '19BBY', 'gender': 'male', 'homeworld': 'https://swapi.dev/api/planets/1/', 'films': ['https://swapi.dev/api/films/1/', 'https://swapi.dev/api/films/2/', 'https://swapi.dev/api/films/3/', 'https://swapi.dev/api/films/6/'], 'species': [], 'vehicles': ['https://swapi.dev/api/vehicles/14/', 'https://swapi.dev/api/vehicles/30/'], 'starships': ['https://swapi.dev/api/starships/12/', 'https://swapi.dev/api/starships/22/'], 'created': '2014-12-09T13:50:51.644000Z', 'edited': '2014-12-20T21:17:56.891000Z', 'url': 'https://swapi.dev/api/people/1/'}, {'name': 'C-3PO', 'height': '167', 'mass': '75', 'hair_color': 'n/a', 'skin_color': 'gold', 'eye_color': 'yellow', 'birth_year': '112BBY', 'gender': 'n/a', 'homeworld': 'https://swapi.dev/api/planets/1/', 'films': ['https://swapi.dev/api/films/1/', 'https://swapi.dev/api/films/2/', 'https://swapi.dev/api/films/3/', 'https://swapi.dev/api/films/4/', 'https://swapi.dev/api/films/5/', 'https://swapi.dev/api/films/6/'], 'species': ['https://swapi.dev/api/species/2/'], 'vehicles': [], 'starships': [], 'created': '2014-12-10T15:10:51.357000Z', 'edited': '2014-12-20T21:17:50.309000Z', 'url': 'https://swapi.dev/api/people/2/'}, {'name': 'R2-D2', 'height': '96', 'mass': '32', 'hair_color': 'n/a', 'skin_color': 'white, blue', 'eye_color': 'red', 'birth_year': '33BBY', 'gender': 'n/a', 'homeworld': 'https://swapi.dev/api/planets/8/', 'films': ['https://swapi.dev/api/films/1/', 'https://swapi.dev/api/films/2/', 'https://swapi.dev/api/films/3/', 'https://swapi.dev/api/films/4/', 'https://swapi.dev/api/films/5/', 'https://swapi.dev/api/films/6/'], 'species': ['https://swapi.dev/api/species/2/'], 'vehicles': [], 'starships': [], 'created': '2014-12-10T15:11:50.376000Z', 'edited': '2014-12-20T21:17:50.311000Z', 'url': 'https://swapi.dev/api/people/3/'}, {'name': 'Darth Vader', 'height': '202', 'mass': '136', 'hair_color': 'none', 'skin_color': 'white', 'eye_color': 'yellow', 'birth_year': '41.9BBY', 'gender': 'male', 'homeworld': 'https://swapi.dev/api/planets/1/', 'films': ['https://swapi.dev/api/films/1/', 'https://swapi.dev/api/films/2/', 'https://swapi.dev/api/films/3/', 'https://swapi.dev/api/films/6/'], 'species': [], 'vehicles': [], 'starships': ['https://swapi.dev/api/starships/13/'], 'created': '2014-12-10T15:18:20.704000Z', 'edited': '2014-12-20T21:17:50.313000Z', 'url': 'https://swapi.dev/api/people/4/'}, {'name': 'Leia Organa', 'height': '150', 'mass': '49', 'hair_color': 'brown', 'skin_color': 'light', 'eye_color': 'brown', 'birth_year': '19BBY', 'gender': 'female', 'homeworld': 'https://swapi.dev/api/planets/2/', 'films': ['https://swapi.dev/api/films/1/', 'https://swapi.dev/api/films/2/', 'https://swapi.dev/api/films/3/', 'https://swapi.dev/api/films/6/'], 'species': [], 'vehicles': ['https://swapi.dev/api/vehicles/30/'], 'starships': [], 'created': '2014-12-10T15:20:09.791000Z', 'edited': '2014-12-20T21:17:50.315000Z', 'url': 'https://swapi.dev/api/people/5/'}, {'name': 'Owen Lars', 'height': '178', 'mass': '120', 'hair_color': 'brown, grey', 'skin_color': 'light', 'eye_color': 'blue', 'birth_year': '52BBY', 'gender': 'male', 'homeworld': 'https://swapi.dev/api/planets/1/', 'films': ['https://swapi.dev/api/films/1/', 'https://swapi.dev/api/films/5/', 'https://swapi.dev/api/films/6/'], 'species': [], 'vehicles': [], 'starships': [], 'created': '2014-12-10T15:52:14.024000Z', 'edited': '2014-12-20T21:17:50.317000Z', 'url': 'https://swapi.dev/api/people/6/'}, {'name': 'Beru Whitesun lars', 'height': '165', 'mass': '75', 'hair_color': 'brown', 'skin_color': 'light', 'eye_color': 'blue', 'birth_year': '47BBY', 'gender': 'female', 'homeworld': 'https://swapi.dev/api/planets/1/', 'films': ['https://swapi.dev/api/films/1/', 'https://swapi.dev/api/films/5/', 'https://swapi.dev/api/films/6/'], 'species': [], 'vehicles': [], 'starships': [], 'created': '2014-12-10T15:53:41.121000Z', 'edited': '2014-12-20T21:17:50.319000Z', 'url': 'https://swapi.dev/api/people/7/'}, {'name': 'R5-D4', 'height': '97', 'mass': '32', 'hair_color': 'n/a', 'skin_color': 'white, red', 'eye_color': 'red', 'birth_year': 'unknown', 'gender': 'n/a', 'homeworld': 'https://swapi.dev/api/planets/1/', 'films': ['https://swapi.dev/api/films/1/'], 'species': ['https://swapi.dev/api/species/2/'], 'vehicles': [], 'starships': [], 'created': '2014-12-10T15:57:50.959000Z', 'edited': '2014-12-20T21:17:50.321000Z', 'url': 'https://swapi.dev/api/people/8/'}, {'name': 'Biggs Darklighter', 'height': '183', 'mass': '84', 'hair_color': 'black', 'skin_color': 'light', 'eye_color': 'brown', 'birth_year': '24BBY', 'gender': 'male', 'homeworld': 'https://swapi.dev/api/planets/1/', 'films': ['https://swapi.dev/api/films/1/'], 'species': [], 'vehicles': [], 'starships': ['https://swapi.dev/api/starships/12/'], 'created': '2014-12-10T15:59:50.509000Z', 'edited': '2014-12-20T21:17:50.323000Z', 'url': 'https://swapi.dev/api/people/9/'}, {'name': 'Obi-Wan Kenobi', 'height': '182', 'mass': '77', 'hair_color': 'auburn, white', 'skin_color': 'fair', 'eye_color': 'blue-gray', 'birth_year': '57BBY', 'gender': 'male', 'homeworld': 'https://swapi.dev/api/planets/20/', 'films': ['https://swapi.dev/api/films/1/', 'https://swapi.dev/api/films/2/', 'https://swapi.dev/api/films/3/', 'https://swapi.dev/api/films/4/', 'https://swapi.dev/api/films/5/', 'https://swapi.dev/api/films/6/'], 'species': [], 'vehicles': ['https://swapi.dev/api/vehicles/38/'], 'starships': ['https://swapi.dev/api/starships/48/', 'https://swapi.dev/api/starships/59/', 'https://swapi.dev/api/starships/64/', 'https://swapi.dev/api/starships/65/', 'https://swapi.dev/api/starships/74/'], 'created': '2014-12-10T16:16:29.192000Z', 'edited': '2014-12-20T21:17:50.325000Z', 'url': 'https://swapi.dev/api/people/10/'}]}\n"
          ]
        }
      ]
    },
    {
      "cell_type": "markdown",
      "source": [
        "Create a new Python object that holds on the 'result' key for each Character dictionary."
      ],
      "metadata": {
        "id": "ApAz056aMlrF"
      }
    },
    {
      "cell_type": "code",
      "source": [
        "results = []"
      ],
      "metadata": {
        "id": "GVLf5PuVY7gj"
      },
      "execution_count": 19,
      "outputs": []
    },
    {
      "cell_type": "markdown",
      "source": [
        "Define a function that returns a list of all of the character names.\n",
        "\n",
        "Call the function."
      ],
      "metadata": {
        "id": "7TVWknUzZNIS"
      }
    },
    {
      "cell_type": "code",
      "source": [
        "def call_names(response):\n",
        "  data = response.json()\n",
        "  info = data['results']\n",
        "  names = []\n",
        "  for i in info:\n",
        "    names.append(i['name'])\n",
        "  return names\n",
        "\n",
        "def paginate(response):\n",
        "  res = response.json()\n",
        "  names = [call_names(response)]\n",
        "  while res['next'] is not None:\n",
        "    response = requests.get(res['next'])\n",
        "    names.extend(call_names(response))\n",
        "    res = response.json()\n",
        "  return names\n",
        "\n",
        "\n",
        "print(paginate(response))\n"
      ],
      "metadata": {
        "id": "WLUSa9msZYOv",
        "colab": {
          "base_uri": "https://localhost:8080/"
        },
        "outputId": "0d2a87a9-85e9-4d22-f5df-c80f0ff395a1"
      },
      "execution_count": 44,
      "outputs": [
        {
          "output_type": "stream",
          "name": "stdout",
          "text": [
            "[['Luke Skywalker', 'C-3PO', 'R2-D2', 'Darth Vader', 'Leia Organa', 'Owen Lars', 'Beru Whitesun lars', 'R5-D4', 'Biggs Darklighter', 'Obi-Wan Kenobi'], 'Anakin Skywalker', 'Wilhuff Tarkin', 'Chewbacca', 'Han Solo', 'Greedo', 'Jabba Desilijic Tiure', 'Wedge Antilles', 'Jek Tono Porkins', 'Yoda', 'Palpatine', 'Boba Fett', 'IG-88', 'Bossk', 'Lando Calrissian', 'Lobot', 'Ackbar', 'Mon Mothma', 'Arvel Crynyd', 'Wicket Systri Warrick', 'Nien Nunb', 'Qui-Gon Jinn', 'Nute Gunray', 'Finis Valorum', 'Padmé Amidala', 'Jar Jar Binks', 'Roos Tarpals', 'Rugor Nass', 'Ric Olié', 'Watto', 'Sebulba', 'Quarsh Panaka', 'Shmi Skywalker', 'Darth Maul', 'Bib Fortuna', 'Ayla Secura', 'Ratts Tyerel', 'Dud Bolt', 'Gasgano', 'Ben Quadinaros', 'Mace Windu', 'Ki-Adi-Mundi', 'Kit Fisto', 'Eeth Koth', 'Adi Gallia', 'Saesee Tiin', 'Yarael Poof', 'Plo Koon', 'Mas Amedda', 'Gregar Typho', 'Cordé', 'Cliegg Lars', 'Poggle the Lesser', 'Luminara Unduli', 'Barriss Offee', 'Dormé', 'Dooku', 'Bail Prestor Organa', 'Jango Fett', 'Zam Wesell', 'Dexter Jettster', 'Lama Su', 'Taun We', 'Jocasta Nu', 'R4-P17', 'Wat Tambor', 'San Hill', 'Shaak Ti', 'Grievous', 'Tarfful', 'Raymus Antilles', 'Sly Moore', 'Tion Medon']\n"
          ]
        }
      ]
    },
    {
      "cell_type": "markdown",
      "source": [
        "Define a function that counts the total number of male characters and the total number of female characters. Return both numbers.\n",
        "\n",
        "Call the function.\n",
        "<br></br>\n",
        "Considerations: Do all characters have the gender male or female?"
      ],
      "metadata": {
        "id": "SPV49uLFZaz3"
      }
    },
    {
      "cell_type": "code",
      "source": [
        "def gender_count():\n",
        "  url = \"https://swapi.dev/api/people\"\n",
        "  counter = {'M':0, 'F':0, 'O':0}\n",
        "  response = requests.get(api_url)\n",
        "  check = True\n",
        "  while check == True:\n",
        "    r = requests.get(url)\n",
        "    data = r.json()\n",
        "    if data['next'] is None:\n",
        "      check = False\n",
        "    info = data['results']\n",
        "    for i in info:\n",
        "      if i[\"gender\"] == 'male':\n",
        "        counter['M'] += 1\n",
        "      elif i[\"gender\"] == 'female':\n",
        "        counter['F'] += 1\n",
        "      else:\n",
        "        counter['O'] += 1\n",
        "    url = data['next']\n",
        "  return counter\n",
        "\n",
        "print(gender_count())"
      ],
      "metadata": {
        "id": "pALC6DJxZqxD",
        "colab": {
          "base_uri": "https://localhost:8080/"
        },
        "outputId": "e93a973e-9dcb-4f15-96dc-6f2ff0a07eae"
      },
      "execution_count": 51,
      "outputs": [
        {
          "output_type": "stream",
          "name": "stdout",
          "text": [
            "{'M': 60, 'F': 17, 'O': 5}\n"
          ]
        }
      ]
    },
    {
      "cell_type": "markdown",
      "source": [
        "Define a function that returns a list of all the characters that appear in more than 'x' number of films. Where 'x' is an integer that is passed as an argument into the function.\n",
        "\n",
        "Call the function with at least two test cases.\n",
        "<br></br>\n",
        "Considerations: Is 'more' than inclusive of the number passed?"
      ],
      "metadata": {
        "id": "0NVoP8RwZwwW"
      }
    },
    {
      "cell_type": "code",
      "source": [
        "def appeared_in(films):\n",
        "  url = \"https://swapi.dev/api/people\"\n",
        "  names = []\n",
        "  check = True\n",
        "  while check == True:\n",
        "    r = requests.get(url)\n",
        "    data = r.json()\n",
        "    if data['next'] is None:\n",
        "      check = False\n",
        "    info = data['results']\n",
        "    for i in info:\n",
        "      if len(i['films']) > films:\n",
        "        names.append(i['name'])\n",
        "    url = data['next']\n",
        "  return names\n",
        "\n",
        "print(appeared_in(2))\n",
        "print(appeared_in(3))"
      ],
      "metadata": {
        "id": "HNU93nk1aJwr",
        "colab": {
          "base_uri": "https://localhost:8080/"
        },
        "outputId": "c8643120-3afd-4f97-f194-29e6f51e8609"
      },
      "execution_count": 53,
      "outputs": [
        {
          "output_type": "stream",
          "name": "stdout",
          "text": [
            "['Luke Skywalker', 'C-3PO', 'R2-D2', 'Darth Vader', 'Leia Organa', 'Owen Lars', 'Beru Whitesun lars', 'Obi-Wan Kenobi', 'Anakin Skywalker', 'Chewbacca', 'Han Solo', 'Jabba Desilijic Tiure', 'Wedge Antilles', 'Yoda', 'Palpatine', 'Boba Fett', 'Nute Gunray', 'Padmé Amidala', 'Ayla Secura', 'Mace Windu', 'Ki-Adi-Mundi', 'Kit Fisto', 'Plo Koon']\n",
            "['Luke Skywalker', 'C-3PO', 'R2-D2', 'Darth Vader', 'Leia Organa', 'Obi-Wan Kenobi', 'Chewbacca', 'Yoda', 'Palpatine']\n"
          ]
        }
      ]
    },
    {
      "cell_type": "markdown",
      "source": [
        "Define a function that returns a list of all of the characters that start with a specific letter where the letter is passed as a string, as an argument into the function.\n",
        "\n",
        "Call the function with an uppercase letter.\n",
        "Call the function with the same character as a lowercase letter.\n",
        "<br></br>\n",
        "Considerations: How do you handle the type of character being passed? There are many different ways to make this work. Be creative."
      ],
      "metadata": {
        "id": "eIIBFhc2aKJk"
      }
    },
    {
      "cell_type": "code",
      "source": [
        "def name_begins_w(letter):\n",
        "  url = \"https://swapi.dev/api/people\"\n",
        "  names = []\n",
        "  check = True\n",
        "  while check == True:\n",
        "    r = requests.get(url)\n",
        "    data = r.json()\n",
        "    if data['next'] is None:\n",
        "      check = False\n",
        "    info = data['results']\n",
        "    for i in info:\n",
        "      if i['name'].lower().startswith(letter.lower()):\n",
        "        names.append(i['name'])\n",
        "    url = data['next']\n",
        "  return names\n",
        "\n",
        "print(name_begins_w(\"j\"))\n",
        "print(name_begins_w(\"z\"))"
      ],
      "metadata": {
        "id": "3VnNmKdybwiP",
        "colab": {
          "base_uri": "https://localhost:8080/"
        },
        "outputId": "d64f6309-0c4c-43e3-ce2d-1afdf7d09c61"
      },
      "execution_count": 58,
      "outputs": [
        {
          "output_type": "stream",
          "name": "stdout",
          "text": [
            "['Jabba Desilijic Tiure', 'Jek Tono Porkins', 'Jar Jar Binks', 'Jango Fett', 'Jocasta Nu']\n",
            "['Zam Wesell']\n"
          ]
        }
      ]
    },
    {
      "cell_type": "markdown",
      "source": [
        "Define a function that returns a tuple of the min, max, and avg height for all characters converted into feet.\n",
        "\n",
        "Unpack the tuple when making the function call.\n",
        "<br></br>\n",
        "Considerations: Use built-in methods for the min, max, and avg heights."
      ],
      "metadata": {
        "id": "ra4huEK5bSn8"
      }
    },
    {
      "cell_type": "code",
      "source": [
        "def find_amounts():\n",
        "  url = \"https://swapi.dev/api/people\"\n",
        "  stats = list()\n",
        "  check = True\n",
        "  heights = list()\n",
        "  while check == True:\n",
        "    r = requests.get(url)\n",
        "    data = r.json()\n",
        "\n",
        "    if data['next'] is None:\n",
        "      check = False\n",
        "    info = data['results']\n",
        "    for i in info:\n",
        "      if i['height'] != 'unknown':\n",
        "        heights.append(int(i['height']))\n",
        "    url = data['next']\n",
        "\n",
        "  min_height = min(heights)\n",
        "  max_height = max(heights)\n",
        "  avg_height = sum(heights)/len(heights)\n",
        "\n",
        "  return round(min_height/30, 2), round(max_height/30, 2), round(avg_height/30, 2)\n",
        "\n",
        "\n",
        "find_amounts()"
      ],
      "metadata": {
        "id": "Lk57X-DWbvgd",
        "colab": {
          "base_uri": "https://localhost:8080/"
        },
        "outputId": "fceeed67-d72b-45bd-c605-5d91793a51f3"
      },
      "execution_count": 74,
      "outputs": [
        {
          "output_type": "execute_result",
          "data": {
            "text/plain": [
              "(2.2, 8.8, 5.82)"
            ]
          },
          "metadata": {},
          "execution_count": 74
        }
      ]
    },
    {
      "cell_type": "markdown",
      "source": [
        "Define a function that accepts two arguments: eye color and hair color. Return a dictionary with the min, max, and avg height based on the arguments given.\n",
        "\n",
        "Call the function using \"blue\" for the eye color and \"blond\" for the hair color.\n",
        "\n",
        "Call the function using arguments of your choice.\n",
        "\n"
      ],
      "metadata": {
        "id": "IKwDIQTYb435"
      }
    },
    {
      "cell_type": "code",
      "source": [
        "def find_amounts_hair_eye(eye_color, hair_color):\n",
        "  url = \"https://swapi.dev/api/people\"\n",
        "  stats = list()\n",
        "  check = True\n",
        "  heights = list()\n",
        "  while check == True:\n",
        "    r = requests.get(url)\n",
        "    data = r.json()\n",
        "\n",
        "\n",
        "    if data['next'] is None:\n",
        "      check = False\n",
        "    info = data['results']\n",
        "\n",
        "    for i in info:\n",
        "      if i['eye_color'] == eye_color and i['hair_color'] == hair_color:\n",
        "        if i['height'] != 'unknown':\n",
        "          heights.append(int(i['height']))\n",
        "    url = data['next']\n",
        "\n",
        "  min_height = min(heights)\n",
        "  max_height = max(heights)\n",
        "  avg_height = sum(heights)/len(heights)\n",
        "\n",
        "  return round(min_height/30, 2), round(max_height/30, 2), round(avg_height/30, 2)\n",
        "\n",
        "find_amounts_hair_eye(\"blue\", \"blond\")\n",
        "find_amounts_hair_eye(\"blue\", \"brown\")"
      ],
      "metadata": {
        "id": "zMvacURNcyE5",
        "colab": {
          "base_uri": "https://localhost:8080/"
        },
        "outputId": "b5afa6a6-8e29-431f-9527-3cfc143fcc12"
      },
      "execution_count": 85,
      "outputs": [
        {
          "output_type": "execute_result",
          "data": {
            "text/plain": [
              "(5.5, 7.8, 6.5)"
            ]
          },
          "metadata": {},
          "execution_count": 85
        }
      ]
    }
  ]
}