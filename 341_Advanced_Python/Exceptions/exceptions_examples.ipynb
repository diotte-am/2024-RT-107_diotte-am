{
 "cells": [
  {
   "cell_type": "markdown",
   "metadata": {},
   "source": [
    "Errors vs. Exceptions:\n",
    "Errors indicate critical problems that a reasonable application should not try to catch\n",
    "    - Syntax Error: Syntax errors often called as parsing errors, are predominantly caused when the parser detects a syntactic issue in your code.\n",
    "    - Out of Memory Error - Related to heap and RAM, not generally a good idea to use exception handling for this. Sometimes the crash is irrecoverable\n",
    "    - Recursion Error: Related to stack and happens when variables and methods are nested\n",
    "    - Exceptions: errors that are dectected during execution and are not unconditionally fatal\n",
    "Exceptions indicate conditions that an application should try to catch. If an exception is caught and handled, it can avoid an error and the program needing to terminate abruptly."
   ]
  },
  {
   "cell_type": "code",
   "execution_count": 2,
   "metadata": {},
   "outputs": [
    {
     "data": {
      "text/plain": [
       "10"
      ]
     },
     "execution_count": 2,
     "metadata": {},
     "output_type": "execute_result"
    }
   ],
   "source": [
    "# Syntax Error\n",
    "a = 8\n",
    "b = 10\n",
    "\n",
    "# Uncomment the next line to see the error \n",
    "# c = a b\n",
    "\n",
    "\n",
    "# Indentation error\n",
    "# Uncomment the next line to see the error \n",
    "\n",
    "# for i in range(10):\n",
    "# print('Hello world')"
   ]
  },
  {
   "cell_type": "code",
   "execution_count": null,
   "metadata": {},
   "outputs": [],
   "source": [
    "# Recursion error\n",
    "\n",
    "def recursion():\n",
    "    return recursion()\n",
    "# Uncomment the next line to see the error \n",
    "# recursion("
   ]
  },
  {
   "cell_type": "markdown",
   "metadata": {},
   "source": [
    "Types of exceptions:\n",
    "    - Type Error\n",
    "    - Zero Division Error\n",
    "    - Built in Exceptions"
   ]
  },
  {
   "cell_type": "code",
   "execution_count": null,
   "metadata": {},
   "outputs": [],
   "source": [
    "# Type Error\n",
    "a = 2\n",
    "b = 'DataCamp'\n",
    "\n",
    "# Uncomment the next line to see the error \n",
    "# a + b"
   ]
  },
  {
   "cell_type": "code",
   "execution_count": null,
   "metadata": {},
   "outputs": [],
   "source": [
    "# Zero Division Error\n",
    "\n",
    "# Uncomment the next line to see the error \n",
    "\n",
    "# 100 / 0\n"
   ]
  },
  {
   "cell_type": "markdown",
   "metadata": {},
   "source": [
    "Built-In Exceptions:\n",
    "    Four main components of exception handling:\n",
    "        - Try: runs code you expect might have an error\n",
    "        - Except: here you define the type of exception you exprect\n",
    "        - Else: if there isnt any exception, this block of code will execute\n",
    "        - Finally: this executes whether there is an exception or not\n",
    "\n",
    "How to handle built in exceptions:"
   ]
  },
  {
   "cell_type": "code",
   "execution_count": 1,
   "metadata": {},
   "outputs": [],
   "source": [
    "# Keyboard Interrupt Error\n",
    "'''\n",
    "The KeyboardInterrupt exception is raised when you try to \n",
    "stop a running program by pressing ctrl+c or ctrl+z in a \n",
    "command line or interrupting the kernel in Jupyter Notebook. \n",
    "'''\n",
    "\n",
    "# Uncomment the next line to see the error \n",
    "\n",
    "try:\n",
    "     inp = input()\n",
    "     print ('Press Ctrl+C or Interrupt the Kernel:')\n",
    "except KeyboardInterrupt:\n",
    "     print ('Caught KeyboardInterrupt')\n",
    "else:\n",
    "     print ('No exception occurred')\n"
   ]
  },
  {
   "cell_type": "markdown",
   "metadata": {},
   "source": [
    "Standard Errors:\n",
    "Arithmetic base class:\n",
    "    - Zero Division Error: When the divisor (second argument of the division) or the denominator is zero\n",
    "    - OverFlow Error: The Overflow Error is raised when the result of an arithmetic operation is out of range. \n",
    "    - Floating Point Error\n",
    "Lookup Error Base Class:\n",
    "    - Key Error: If a key you are trying to access is not found in the dictionary\n",
    "    - Index Error: When you are trying to access an index (sequence) of a list that does not exist in that list or is out of range of that list\n",
    "Runtime Error Base Class:\n",
    "    - Not Implemented Error: \n",
    "Other Errors:\n",
    "    - Assertion Error: when an assert statement fails\n",
    "    - Attribute Error: When a non-existent attribute is referenced, and when that attribute reference or assignment fails\n",
    "    - Import Error: ImportError is raised when you try to import a module that does not exist (unable to load) in its standard path or even when you make a typo in the module's name.\n",
    "    - Memory Error: when an operation does not get enough memory to process further\n",
    "    - Name Error: when a local or global name is not found\n",
    "    Runtime Error Base Class: \n",
    "        - Abstract methods in user-defined classes should raise this exception when the derived classes override the method.\n",
    "        - Type Error: when two different or unrelated types of operands or objects are combined.\n",
    "        - Value Error: when the built-in operation or a function receives an argument that has a correct type but invalid value\n",
    "Python Custom Exceptions:\n",
    "Create a new class derived from the pred-defined exception class:\n",
    "\n",
    "\n",
    "\n"
   ]
  },
  {
   "cell_type": "code",
   "execution_count": 1,
   "metadata": {},
   "outputs": [
    {
     "name": "stdout",
     "output_type": "stream",
     "text": [
      "Zero Division Exception Raised.\n"
     ]
    }
   ],
   "source": [
    "# Zero Division\n",
    "\n",
    "try:  \n",
    "    a = 100 / 0\n",
    "    print (a)\n",
    "except ZeroDivisionError:  \n",
    "        print (\"Zero Division Exception Raised.\" )\n",
    "else:  \n",
    "    print (\"Success, no error!\")"
   ]
  },
  {
   "cell_type": "code",
   "execution_count": 2,
   "metadata": {},
   "outputs": [
    {
     "name": "stdout",
     "output_type": "stream",
     "text": [
      "OverFlow Exception Raised.\n"
     ]
    }
   ],
   "source": [
    "# Overflow Error\n",
    "try:  \n",
    "    import math\n",
    "    print(math.exp(1000))\n",
    "except OverflowError:  \n",
    "        print (\"OverFlow Exception Raised.\")\n",
    "else:  \n",
    "    print (\"Success, no error!\")"
   ]
  },
  {
   "cell_type": "code",
   "execution_count": 3,
   "metadata": {},
   "outputs": [
    {
     "name": "stdout",
     "output_type": "stream",
     "text": [
      "Assertion Exception Raised.\n"
     ]
    }
   ],
   "source": [
    "# Assertion Error:\n",
    "\n",
    "try:  \n",
    "    a = 100\n",
    "    b = \"DataCamp\"\n",
    "    assert a == b\n",
    "except AssertionError:  \n",
    "        print (\"Assertion Exception Raised.\")\n",
    "else:  \n",
    "    print (\"Success, no error!\")"
   ]
  },
  {
   "cell_type": "code",
   "execution_count": null,
   "metadata": {},
   "outputs": [],
   "source": [
    "# Attribute Error\n",
    "\n",
    "class Attributes():\n",
    "    a = 2\n",
    "    print(a)\n",
    "\n",
    "try:\n",
    "    obj = Attributes()\n",
    "    print (obj.attribute)\n",
    "except AttributeError:\n",
    "    print (\"Attribute Exception Raised.\")"
   ]
  },
  {
   "cell_type": "code",
   "execution_count": null,
   "metadata": {},
   "outputs": [],
   "source": [
    "# Import Error\n",
    "\n",
    "# Uncomment the next line to see the error \n",
    "\n",
    "# import nibabel"
   ]
  },
  {
   "cell_type": "code",
   "execution_count": null,
   "metadata": {},
   "outputs": [],
   "source": [
    "# Lookup Error\n",
    "try:  \n",
    "    a = {1:'a', 2:'b', 3:'c'}  \n",
    "    print (a[4])  \n",
    "except LookupError:  \n",
    "    print (\"Key Error Exception Raised.\")\n",
    "else:  \n",
    "    print (\"Success, no error!\")\n"
   ]
  },
  {
   "cell_type": "code",
   "execution_count": null,
   "metadata": {},
   "outputs": [],
   "source": [
    "# Index Error\n",
    "\n",
    "try:  \n",
    "    a = ['a', 'b', 'c']  \n",
    "    print (a[4])  \n",
    "except LookupError:  \n",
    "    print (\"Index Error Exception Raised, list index out of range\")\n",
    "else:  \n",
    "    print (\"Success, no error!\")\n"
   ]
  },
  {
   "cell_type": "code",
   "execution_count": null,
   "metadata": {},
   "outputs": [],
   "source": [
    "# Name Error\n",
    "\n",
    "try:\n",
    "    print (ans)\n",
    "except NameError:  \n",
    "    print (\"NameError: name 'ans' is not defined\")\n",
    "else:  \n",
    "    print (\"Success, no error!\")  "
   ]
  },
  {
   "cell_type": "code",
   "execution_count": 4,
   "metadata": {},
   "outputs": [
    {
     "name": "stdout",
     "output_type": "stream",
     "text": [
      "SubClass doing something!\n"
     ]
    }
   ],
   "source": [
    "# Not Implemented Error\n",
    "\n",
    "class BaseClass():\n",
    "    \"\"\"Defines the interface\"\"\"\n",
    "    def __init__(self):\n",
    "        super(BaseClass, self).__init__()\n",
    "    def do_something(self):\n",
    "        \"\"\"The interface, not implemented\"\"\"\n",
    "        raise NotImplementedError(self.__class__.__name__ + '.do_something')\n",
    "\n",
    "class SubClass(BaseClass):\n",
    "    \"\"\"Implementes the interface\"\"\"\n",
    "    def do_something(self):\n",
    "        \"\"\"really does something\"\"\"\n",
    "        print (self.__class__.__name__ + ' doing something!')\n",
    "\n",
    "SubClass().do_something()\n",
    "\n",
    "# Uncomment the next line to see the error \n",
    "# BaseClass().do_something()   "
   ]
  },
  {
   "cell_type": "code",
   "execution_count": null,
   "metadata": {},
   "outputs": [],
   "source": [
    "# Type Error\n",
    "try:\n",
    "    a = 5\n",
    "    b = \"DataCamp\"\n",
    "    c = a + b\n",
    "except TypeError:\n",
    "    print ('TypeError Exception Raised')\n",
    "else:\n",
    "    print ('Success, no error!')"
   ]
  },
  {
   "cell_type": "code",
   "execution_count": null,
   "metadata": {},
   "outputs": [],
   "source": [
    "# Value Error\n",
    "\n",
    "try:\n",
    "    print (float('DataCamp'))\n",
    "except ValueError:\n",
    "    print ('ValueError: could not convert string to float: \\'DataCamp\\'')\n",
    "else:\n",
    "    print ('Success, no error!')\n"
   ]
  },
  {
   "cell_type": "code",
   "execution_count": null,
   "metadata": {},
   "outputs": [],
   "source": [
    "# Custom error class example:\n",
    "\n",
    "class UnAcceptedValueError(Exception):   \n",
    "    def __init__(self, data):    \n",
    "        self.data = data\n",
    "    def __str__(self):\n",
    "        return repr(self.data)\n",
    "\n",
    "# Uncomment the next lines to see the error\n",
    "\n",
    "# Total_Marks = int(input(\"Enter Total Marks Scored: \"))\n",
    "# try:\n",
    "#     Num_of_Sections = int(input(\"Enter Num of Sections: \"))\n",
    "#     if(Num_of_Sections < 1):\n",
    "#         raise UnAcceptedValueError(\"Number of Sections can't be less than 1\")\n",
    "# except UnAcceptedValueError as e:\n",
    "#     print (\"Received error:\", e.data)"
   ]
  }
 ],
 "metadata": {
  "kernelspec": {
   "display_name": "Python 3",
   "language": "python",
   "name": "python3"
  },
  "language_info": {
   "codemirror_mode": {
    "name": "ipython",
    "version": 3
   },
   "file_extension": ".py",
   "mimetype": "text/x-python",
   "name": "python",
   "nbconvert_exporter": "python",
   "pygments_lexer": "ipython3",
   "version": "3.10.13"
  }
 },
 "nbformat": 4,
 "nbformat_minor": 2
}
