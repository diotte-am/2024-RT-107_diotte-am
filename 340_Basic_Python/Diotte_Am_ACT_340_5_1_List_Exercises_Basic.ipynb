{
  "cells": [
    {
      "cell_type": "markdown",
      "metadata": {
        "id": "E5UPDwhQSD9g"
      },
      "source": [
        "# List Excercises- Basic\n",
        "\n",
        "A list is a collection of items in a particular order. Lists are mutable, which means that they can be changed in their original place in memory.\n",
        "\n",
        "Unlike arrays in other programming languages, lists can hold items of different data types. Python does NOT have arrays as a native data structure. We can use other libraries to use arrays when we need to optimize speed and mathematic calculations.\n",
        "<br></br>\n",
        "Lists in Python are noted with square brackets when used after an \"=\", with commas separating the individual elements in the list."
      ]
    },
    {
      "cell_type": "markdown",
      "metadata": {},
      "source": [
        "Amare Diotte\n",
        "Data Engineering\n",
        "ACT 340.5.1 - Lists"
      ]
    },
    {
      "cell_type": "code",
      "execution_count": 9,
      "metadata": {
        "colab": {
          "base_uri": "https://localhost:8080/"
        },
        "id": "1qGaGWR-mV0u",
        "outputId": "c49ed494-3dac-48e7-ad7a-22484fc1ed0e"
      },
      "outputs": [
        {
          "name": "stdout",
          "output_type": "stream",
          "text": [
            "['apple', 'orange', 12, ['peanut', 'butter', 'jelly', 'time']]\n",
            "4\n",
            "<class 'int'>\n",
            "I have 12 oranges\n",
            "I have 12 orange\n",
            "jelly\n",
            "I like jelly on my toast\n"
          ]
        }
      ],
      "source": [
        "new_list= ['apple', 'orange', 12, ['peanut', 'butter', 'jelly', 'time']]\n",
        "\n",
        "print(new_list)\n",
        "print(len(new_list))\n",
        "print(type(new_list[2]))\n",
        "num = new_list[2]\n",
        "obj = new_list[1]\n",
        "\n",
        "print(f\"I have {num} {obj}s\")\n",
        "\n",
        "print(\"I have\", new_list[2], new_list[1])\n",
        "\n",
        "#i like jelly on my toast\n",
        "# newlist  has 4 elements\n",
        "# element 3 of new list is a list\n",
        "\n",
        "jell = new_list[3][2]\n",
        "print(jell)\n",
        "print(f\"I like {jell} on my toast\")\n"
      ]
    },
    {
      "cell_type": "markdown",
      "metadata": {
        "id": "jKjDKFSzJI15"
      },
      "source": [
        "**Indexing & Slicing**\n",
        "\n",
        "We can access indivdual elements of a list is the same as accessing them from a string, by using their index."
      ]
    },
    {
      "cell_type": "code",
      "execution_count": 14,
      "metadata": {
        "colab": {
          "base_uri": "https://localhost:8080/"
        },
        "id": "ctfeYYp8JrEZ",
        "outputId": "b1283bb0-b6b2-4812-b7ab-8d777ac6d941"
      },
      "outputs": [
        {
          "name": "stdout",
          "output_type": "stream",
          "text": [
            "12\n",
            "['peanut', 'butter', 'jelly', 'time']\n",
            "time\n"
          ]
        }
      ],
      "source": [
        "print(new_list[2])\n",
        "print(new_list[-1])\n",
        "print(new_list[len(new_list)-1][len(new_list[len(new_list) - 1]) - 1])"
      ]
    },
    {
      "cell_type": "markdown",
      "metadata": {
        "id": "RGf_mZR8J6ht"
      },
      "source": [
        "Slicing is available for lists. We use the same syntax of start:stop:step when slicing a list. We can build onto our understanding of slices by looping through just a slice of our list."
      ]
    },
    {
      "cell_type": "code",
      "execution_count": 24,
      "metadata": {
        "colab": {
          "base_uri": "https://localhost:8080/"
        },
        "id": "n1gL6EKdKDe4",
        "outputId": "e22ed6a1-11c8-407d-91a9-8a2edc26fa1f"
      },
      "outputs": [
        {
          "name": "stdout",
          "output_type": "stream",
          "text": [
            "['apple', 'orange', 12]\n",
            "apple\n",
            "orange\n",
            "12\n"
          ]
        },
        {
          "data": {
            "text/plain": [
              "['app', 'ora']"
            ]
          },
          "execution_count": 24,
          "metadata": {},
          "output_type": "execute_result"
        }
      ],
      "source": [
        "print(new_list[:3])\n",
        "\n",
        "for item in new_list[:3]:\n",
        "  print(item)\n",
        "\n",
        "[x[:3] for x in new_list[:3] if str(x).isalpha()]"
      ]
    },
    {
      "cell_type": "markdown",
      "metadata": {
        "id": "wXIZoFqzwqg8"
      },
      "source": [
        "The syntax for modifying elements to a list is similar to accessing elements in a list through indexing"
      ]
    },
    {
      "cell_type": "code",
      "execution_count": 26,
      "metadata": {
        "colab": {
          "base_uri": "https://localhost:8080/"
        },
        "id": "r2JhyA3hw2po",
        "outputId": "69b8876a-bd3d-478b-c9c0-7dc2f251f8c0"
      },
      "outputs": [
        {
          "name": "stdout",
          "output_type": "stream",
          "text": [
            "['banana', 'orange', 12, ['peanut', 'butter', 'jelly', 'time']]\n"
          ]
        },
        {
          "data": {
            "text/plain": [
              "['banana', 'orange']"
            ]
          },
          "execution_count": 26,
          "metadata": {},
          "output_type": "execute_result"
        }
      ],
      "source": [
        "new_list[0]= 'banana'\n",
        "print(new_list)\n",
        "\n",
        "[x for x in new_list if type(x) == str]"
      ]
    },
    {
      "cell_type": "markdown",
      "metadata": {
        "id": "Hgc8OqKkxkdb"
      },
      "source": [
        "**Adding Elements to a List**\n",
        "\n",
        "There are several ways to add new elements to a list.\n",
        "\n",
        "The simplest way to add a new element to a list is to use the append() method. This method adds a new element to the end of a list.\n",
        "<br></br>\n",
        "append() makes it easy to build lists dynamically, especially when appending in a for loop."
      ]
    },
    {
      "cell_type": "code",
      "execution_count": 29,
      "metadata": {
        "colab": {
          "base_uri": "https://localhost:8080/"
        },
        "id": "WVYOM8uRxzW6",
        "outputId": "7e3721ed-17cd-46a3-fc12-7c2ce40e8168"
      },
      "outputs": [
        {
          "name": "stdout",
          "output_type": "stream",
          "text": [
            "['banana', 'orange', 12, ['peanut', 'butter', 'jelly', 'time'], 23, 23, 23]\n",
            "[0, 1, 2, 3, 4, 5, 6, 7, 8, 9]\n",
            "[0, 1, 2, 3, 4, 5, 6, 7, 8, 9, 12, 23, 23, 23]\n"
          ]
        }
      ],
      "source": [
        "new_list.append(23)\n",
        "print(new_list)\n",
        "\n",
        "list1= []\n",
        "\n",
        "for i in range(10):\n",
        "  list1.append(i)\n",
        "\n",
        "print(list1)\n",
        "\n",
        "list1.extend([x for x in new_list if type(x) == int])\n",
        "print(list1)"
      ]
    },
    {
      "cell_type": "markdown",
      "metadata": {
        "id": "JUUwPTN6zWdv"
      },
      "source": [
        "You can also add a new element at any position in a list by using the insert() method.\n",
        "\n",
        "We can do this by specifying the index of the new element and its value. The insert() method shifts all previous values one position to the right."
      ]
    },
    {
      "cell_type": "code",
      "execution_count": 38,
      "metadata": {
        "colab": {
          "base_uri": "https://localhost:8080/"
        },
        "id": "pyBwGTWw0C6X",
        "outputId": "83840992-aaef-408b-e1ae-beb40f498631"
      },
      "outputs": [
        {
          "name": "stdout",
          "output_type": "stream",
          "text": [
            "['grape', 'grape', 'grape', 'grape', 'grape', 'grape', 'grape', 'grape', 'grape', 'banana', 'orange', 12, ['peanut', 'butter', 'jelly', 'time'], 23, 23, 23]\n",
            "[12, 23, 23, 23, 42, 35, 13]\n"
          ]
        }
      ],
      "source": [
        "new_list.insert(0, 'grape')\n",
        "my_list = [\"test\", 42, 35, 13]\n",
        "\n",
        "print(new_list)\n",
        "\n",
        "int_list = ([x for x in new_list if type(x) == int]) + [x for x in my_list if type(x) == int]\n",
        "print(int_list)\n"
      ]
    },
    {
      "cell_type": "markdown",
      "metadata": {
        "id": "OGy4PmKQ0U9d"
      },
      "source": [
        "**Removing Elements from a List**\n",
        "\n",
        "We can remove a(n) element(s) from a list either by either the position or the value.\n",
        "<br></br>\n",
        "\n",
        "If we know the position of the element we want to remove from a list we can use the del statement. One key thing to note, the value is no longer able to be accessed using this statement."
      ]
    },
    {
      "cell_type": "code",
      "execution_count": 40,
      "metadata": {
        "colab": {
          "base_uri": "https://localhost:8080/"
        },
        "id": "sAIDwaNQ1I2h",
        "outputId": "a55c3ef9-4b64-4b67-ba55-3c806460b0ef"
      },
      "outputs": [
        {
          "name": "stdout",
          "output_type": "stream",
          "text": [
            "['grape', 'grape', 'grape', 'grape', 'grape', 'grape', 'banana', 'orange', 12, ['peanut', 'butter', 'jelly', 'time'], 23]\n",
            "['grape', 'grape', 'grape', 'grape', 'grape', 'banana', 'orange', 12, ['peanut', 'butter', 'jelly', 'time'], 23]\n"
          ]
        }
      ],
      "source": [
        "del new_list[2]\n",
        "del new_list[-1]\n",
        "print(new_list)\n",
        "\n",
        "del new_list[1]\n",
        "print(new_list)"
      ]
    },
    {
      "cell_type": "markdown",
      "metadata": {
        "id": "Yb8dPexq18UN"
      },
      "source": [
        "If we want to use the value of the item after it has been removed from the list, we can use the pop() method. This method removes the last item in the list by default. Optionally, we can pass the index that we want to pop as an argument to the method to return its value."
      ]
    },
    {
      "cell_type": "code",
      "execution_count": 44,
      "metadata": {
        "colab": {
          "base_uri": "https://localhost:8080/"
        },
        "id": "Uja8bXyn2RU-",
        "outputId": "b32fb9af-9e2e-4ba6-86ee-ccdac40cf198"
      },
      "outputs": [
        {
          "name": "stdout",
          "output_type": "stream",
          "text": [
            "hotdog\n",
            "fries\n",
            "['burger', 'pizza', 'hotdogfries']\n"
          ]
        }
      ],
      "source": [
        "food= ['burger', 'fries', 'pizza', 'hotdog']\n",
        "food_item= food.pop()\n",
        "food_item2= food.pop(1)\n",
        "\n",
        "print(food_item)\n",
        "print(food_item2)\n",
        "food.append(food_item + food_item2)\n",
        "print(food)"
      ]
    },
    {
      "cell_type": "markdown",
      "metadata": {
        "id": "FZqRJQz25PYX"
      },
      "source": [
        "We can also remove an item from a list by value using the remove() method."
      ]
    },
    {
      "cell_type": "code",
      "execution_count": 46,
      "metadata": {
        "colab": {
          "base_uri": "https://localhost:8080/"
        },
        "id": "RYe1QHLr5ygQ",
        "outputId": "6aea60a4-b82e-45bb-d31b-741a7af723fd"
      },
      "outputs": [
        {
          "name": "stdout",
          "output_type": "stream",
          "text": [
            "['planes', 'boats']\n",
            "trains\n",
            "boats\n"
          ]
        }
      ],
      "source": [
        "transportation= ['planes', 'trains', 'automobiles', 'boats']\n",
        "\n",
        "transportation.remove('automobiles')\n",
        "item_remove= 'trains'\n",
        "transportation.remove(item_remove)\n",
        "\n",
        "print(transportation)\n",
        "print(item_remove)\n",
        "print(transportation.pop())"
      ]
    },
    {
      "cell_type": "markdown",
      "metadata": {
        "id": "jdHQ9Kbu_zxp"
      },
      "source": [
        "**Organizing Lists**\n",
        "\n",
        "There are many times that we do not have control the order in which the elements of a list are created, but we want the list to be ordered in a particular way. There are methods in the List Class that can help us with this.\n",
        "\n",
        "<br></br>\n",
        "\n",
        "The sort() method changes the order of a list permenately in alphabetical order. There is not an \"undo\" method to get our list back in its original state."
      ]
    },
    {
      "cell_type": "code",
      "execution_count": 49,
      "metadata": {
        "colab": {
          "base_uri": "https://localhost:8080/"
        },
        "id": "H5U70B6lB2B0",
        "outputId": "144184e1-6147-4eea-d64b-8d42e19ebbd1"
      },
      "outputs": [
        {
          "name": "stdout",
          "output_type": "stream",
          "text": [
            "['flute', 'guitar', 'piano', 'trumpet']\n",
            "['trumpet', 'piano', 'guitar', 'flute']\n"
          ]
        }
      ],
      "source": [
        "instruments= ['piano', 'flute', 'guitar', 'trumpet']\n",
        "\n",
        "instruments.sort()\n",
        "\n",
        "print(instruments)\n",
        "instruments.reverse()\n",
        "print(instruments)"
      ]
    },
    {
      "cell_type": "markdown",
      "metadata": {
        "id": "mP_a0Gh8CWuO"
      },
      "source": [
        "We can also use the sort() method to have our list in reverse alphabetical order by passing the arguement reverse=true"
      ]
    },
    {
      "cell_type": "code",
      "execution_count": 52,
      "metadata": {
        "colab": {
          "base_uri": "https://localhost:8080/"
        },
        "id": "0sZGgAJZCles",
        "outputId": "8333e38a-d7d2-46a1-fe08-bc4824833656"
      },
      "outputs": [
        {
          "name": "stdout",
          "output_type": "stream",
          "text": [
            "['trumpet', 'piano', 'guitar', 'flute']\n",
            "['flute', 'guitar', 'piano', 'trumpet']\n"
          ]
        }
      ],
      "source": [
        "instruments.sort(reverse=True)\n",
        "print(instruments)\n",
        "instruments.sort(reverse=False)\n",
        "\n",
        "print(instruments)"
      ]
    },
    {
      "cell_type": "markdown",
      "metadata": {
        "id": "yX4DbXXJCxWd"
      },
      "source": [
        "How does this change if all of our values are not strings or not all in the same case?"
      ]
    },
    {
      "cell_type": "code",
      "execution_count": 54,
      "metadata": {
        "colab": {
          "base_uri": "https://localhost:8080/"
        },
        "id": "JxHlCVsbEyn1",
        "outputId": "740f7d20-86c5-4c59-c1a6-8c94fe4849a4"
      },
      "outputs": [
        {
          "name": "stdout",
          "output_type": "stream",
          "text": [
            "['Guitar', 'Piano', 'flute', 'guitar', 'trumpet']\n",
            "['Piano', 'flute', 'guitar', 'Guitar', 'trumpet']\n",
            "None\n",
            "['Guitar', 'Piano', 'flute', 'guitar', 'trumpet']\n",
            "['piano', '1', 'trumpet', '5']\n",
            "['1', '5', 'piano', 'trumpet']\n"
          ]
        }
      ],
      "source": [
        "instruments= [\"Piano\", 'flute', 'guitar', 'Guitar', 'trumpet']\n",
        "mixed_list= ['piano', '1', 'trumpet', '5']\n",
        "\n",
        "example_sorted_function = sorted(instruments)\n",
        "print(example_sorted_function)\n",
        "print(instruments)\n",
        "example_sort_method = instruments.sort()\n",
        "print(example_sort_method)\n",
        "print(instruments)\n",
        "\n",
        "print(mixed_list)\n",
        "mixed_list.sort()\n",
        "print(mixed_list)"
      ]
    },
    {
      "cell_type": "markdown",
      "metadata": {
        "id": "l_U24q4UF3H5"
      },
      "source": [
        "If we only want to sort a list temporarily we can use the sorted function. The sorted function allows us to display the list in alphabetical order, but the original list is unchanged. This function also accepts the reverse=True arguement."
      ]
    },
    {
      "cell_type": "code",
      "execution_count": 56,
      "metadata": {
        "colab": {
          "base_uri": "https://localhost:8080/"
        },
        "id": "tpIN4VOXG1CE",
        "outputId": "bad45fc6-1575-4778-ac0e-72edd029e98a"
      },
      "outputs": [
        {
          "name": "stdout",
          "output_type": "stream",
          "text": [
            "['flute', 'guitar', 'piano', 'trumpet']\n",
            "['piano', 'flute', 'guitar', 'trumpet']\n"
          ]
        }
      ],
      "source": [
        "instruments= ['piano', 'flute', 'guitar', 'trumpet']\n",
        "\n",
        "print(sorted(instruments))\n",
        "print(instruments)"
      ]
    },
    {
      "cell_type": "markdown",
      "metadata": {
        "id": "pX96XF2eH28l"
      },
      "source": [
        "If we want an easy way to reverse the order of the original list we can use the reverse() method. You cannot undo this change, but you can just REVERSE! REVERSE! aka call the reverse method again to change it back the original order."
      ]
    },
    {
      "cell_type": "code",
      "execution_count": 57,
      "metadata": {
        "colab": {
          "base_uri": "https://localhost:8080/"
        },
        "id": "kQr4_URzIbeU",
        "outputId": "a3977ceb-2d54-44d4-cd6f-ec60098ea4a9"
      },
      "outputs": [
        {
          "name": "stdout",
          "output_type": "stream",
          "text": [
            "['table', 'bed', 'chair', 'couch']\n",
            "['bed', 'chair', 'couch', 'table']\n"
          ]
        }
      ],
      "source": [
        "furniture= ['couch', 'chair', 'bed', 'table']\n",
        "\n",
        "furniture.reverse()\n",
        "\n",
        "print(furniture)\n",
        "\n",
        "print(sorted(furniture))\n"
      ]
    },
    {
      "cell_type": "markdown",
      "metadata": {
        "id": "Tt0TkdzGLQNG"
      },
      "source": [
        "**Copying a List**\n",
        "\n",
        "When copying a list. We might think it is as easy as the script below."
      ]
    },
    {
      "cell_type": "code",
      "execution_count": 59,
      "metadata": {
        "colab": {
          "base_uri": "https://localhost:8080/"
        },
        "id": "nOKsyUtiLiRv",
        "outputId": "fdcb9096-ccc4-425d-e5d4-7f8f88deeeaa"
      },
      "outputs": [
        {
          "name": "stdout",
          "output_type": "stream",
          "text": [
            "Original List: [1, 2, 3, 4]\n",
            "New Reference: [1, 2, 3, 4]\n",
            "Original List: ['A', 'B', 'C']\n",
            "Copied List: ['A', 'B', 'C', 4]\n"
          ]
        }
      ],
      "source": [
        "# This does NOT copy a list:\n",
        "# furniture2= furniture\n",
        "# print(furniture2)\n",
        "\n",
        "# Valerie's Example\n",
        "original_list = [1, 2, 3]\n",
        "new_reference = original_list  # new_reference is now another name for the same list object\n",
        "\n",
        "new_reference.append(4)  # Modifying the list via new_reference\n",
        "\n",
        "print(\"Original List:\", original_list)  # Output: Original List: [1, 2, 3, 4]\n",
        "print(\"New Reference:\", new_reference)  # Output: New Reference: [1, 2, 3, 4]\n",
        "\n",
        "# What does this show.....\n",
        "# It shows that line 7 is NOT how we copy an obhect.\n",
        "# line 7 only adds a new reference to the existing object.\n",
        "\n",
        "# how DO we copy a list??\n",
        "\n",
        "\n",
        "# Valerie's REAL Copy options:\n",
        "original_list = [\"A\", \"B\", \"C\"]\n",
        "copied_list = original_list.copy()  # copied_list is now a separate object with the same contents\n",
        "\n",
        "copied_list.append(4)  # Modifying the copied list does not affect the original list\n",
        "\n",
        "print(\"Original List:\", original_list)  # Output: Original List: [A, B, C]\n",
        "print(\"Copied List:\", copied_list)  # Output: Copied List: [A, B, C, 4]\n",
        "\n",
        "# In this example, original_list remains unchanged even though copied_list\n",
        "#  is modified. This shows that copied_list is indeed a separate list.\n",
        "\n",
        "\n"
      ]
    },
    {
      "cell_type": "markdown",
      "metadata": {
        "id": "umRdHjUhLr-b"
      },
      "source": [
        "However if we start to manipulate these two variables we will see that is not the case."
      ]
    },
    {
      "cell_type": "code",
      "execution_count": 65,
      "metadata": {
        "colab": {
          "base_uri": "https://localhost:8080/"
        },
        "id": "NTfz42voMACv",
        "outputId": "8c63a9d4-0d44-42fd-a31b-c929f34414a0"
      },
      "outputs": [
        {
          "name": "stdout",
          "output_type": "stream",
          "text": [
            "['table', 'bed', 'chair', 'couch', 'bunk bed', 'bunk bed', 'armoire']\n",
            "['table', 'bed', 'chair', 'couch', 'bunk bed', 'bunk bed']\n",
            "['table', 'bed', 'chair', 'couch', 'bunk bed', 'bunk bed', 'bunk bed']\n",
            "['table', 'bed', 'chair', 'couch', 'bunk bed', 'bunk bed', 'bunk bed']\n"
          ]
        }
      ],
      "source": [
        "furniture2 = furniture.copy()\n",
        "furniture2.append(\"armoire\")\n",
        "\n",
        "print(furniture2)\n",
        "print(furniture)\n",
        "print()\n",
        "furniture3 = furniture\n",
        "furniture3.append(\"bunk bed\")\n",
        "print(furniture3)\n",
        "print(furniture)"
      ]
    },
    {
      "cell_type": "markdown",
      "metadata": {
        "id": "oysYZcUCMSKb"
      },
      "source": [
        "Armoire got added to both variables? Not quite. By setting furniture2 = furniture we actually created another pointer to the same place in memory. What we do under one variable name impacts the other.\n",
        "\n",
        "Instead, we can create a slice of the full list and assign that to a new variable."
      ]
    },
    {
      "cell_type": "code",
      "execution_count": 69,
      "metadata": {
        "colab": {
          "base_uri": "https://localhost:8080/"
        },
        "id": "Vi4LdYBMMtWj",
        "outputId": "9ad5923f-542e-4b54-d1af-eaef6b840afb"
      },
      "outputs": [
        {
          "name": "stdout",
          "output_type": "stream",
          "text": [
            "['planes', 'trains', 'automobiles', 'boats', 'bicycle']\n",
            "['planes', 'trains', 'automobiles', 'boats']\n",
            "['planes', 'trains', 'automobiles', 'boats']\n",
            "\n",
            "['planes', 'trains', 'automobiles', 'boats', 'bicycle']\n",
            "['planes', 'trains', 'automobiles', 'boats']\n",
            "['planes', 'trains', 'automobiles', 'boats', 'bean bag chair']\n"
          ]
        }
      ],
      "source": [
        "transportation= ['planes', 'trains', 'automobiles', 'boats']\n",
        "\n",
        "# option 2  creating a list of the object (its a slice from beginning to end, so it will be identical)\n",
        "new_transportation= transportation[:]\n",
        "new_transportation.append('bicycle')\n",
        "new_transportation1 = new_transportation[:len(new_transportation)-1]\n",
        "\n",
        "print(new_transportation)\n",
        "print(transportation)\n",
        "print(new_transportation1)\n",
        "\n",
        "print()\n",
        "\n",
        "new_transportation1.append(\"bean bag chair\")\n",
        "print(new_transportation)\n",
        "print(transportation)\n",
        "print(new_transportation1)"
      ]
    }
  ],
  "metadata": {
    "colab": {
      "provenance": []
    },
    "kernelspec": {
      "display_name": "Python 3",
      "name": "python3"
    },
    "language_info": {
      "codemirror_mode": {
        "name": "ipython",
        "version": 3
      },
      "file_extension": ".py",
      "mimetype": "text/x-python",
      "name": "python",
      "nbconvert_exporter": "python",
      "pygments_lexer": "ipython3",
      "version": "3.10.13"
    }
  },
  "nbformat": 4,
  "nbformat_minor": 0
}
