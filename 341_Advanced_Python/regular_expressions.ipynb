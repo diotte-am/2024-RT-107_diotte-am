{
 "cells": [
  {
   "cell_type": "markdown",
   "metadata": {},
   "source": [
    "Python Regex (Regular Expressions)\n",
    "RegEx is a powerful tool for matching text, based on a pre-defined pattern. \n",
    "Uses re module\n",
    "Search is primary function used"
   ]
  },
  {
   "cell_type": "code",
   "execution_count": 5,
   "metadata": {},
   "outputs": [
    {
     "name": "stdout",
     "output_type": "stream",
     "text": [
      "<re.Match object; span=(34, 40), match='portal'>\n",
      "portal\n",
      "Start Index: 34\n",
      "End Index: 40\n"
     ]
    }
   ],
   "source": [
    "import re \n",
    "  \n",
    "# r = raw. A raw string won't recognize \\ as an escape character in this context\n",
    "match = re.search(r'portal', 'GeeksforGeeks: A computer science portal \\\n",
    "     for geeks') \n",
    "print(match) \n",
    "print(match.group()) \n",
    "  \n",
    "print('Start Index:', match.start()) \n",
    "print('End Index:', match.end()) "
   ]
  },
  {
   "cell_type": "markdown",
   "metadata": {},
   "source": [
    "Meta Characters:\n",
    "\\ - used to drop the special meaning of the character following it\n",
    "[] - respresents character class\n",
    "^ - Matches the beginning\n",
    "$ - Matches the end\n",
    ". - Matches any character that is not newline\n",
    "| - Means OR (matches with any of the characters separated by this character)\n",
    "? - Matches zero or one occurence\n",
    "* - Any number of occurences (including 0)\n",
    "+ - one or more occurence\n",
    "{} - Indicates the number of occurences of a preceding RegEx to match\n",
    "() - enclose a group of RegEx\n",
    "\n",
    "Types of regular expressions:\n",
    "    - Character Classes: Character classes allow you to match a single set of characters with a possible set of characters. You can mention a character class within the square brackets. \n",
    "    - Ranges: The range provides the flexibility to match a text with the help of a range pattern such as a range of numbers(0 to 9), a range of characters (A to Z), and so on. The hyphen character within the character class represents a range.\n",
    "    - Negation: Negation inverts a character class. It will look for a match except for the inverted character or range of inverted characters mentioned in the character class.\n",
    "    - Shortcuts\n",
    "    - Beginning and end of string\n",
    "    - Any Character"
   ]
  },
  {
   "cell_type": "code",
   "execution_count": 7,
   "metadata": {},
   "outputs": [
    {
     "name": "stdout",
     "output_type": "stream",
     "text": [
      "['Geeks', 'Geeks', 'geeks']\n"
     ]
    }
   ],
   "source": [
    "\n",
    "# Character Classes\n",
    "\n",
    "import re \n",
    "  \n",
    "print(re.findall(r'[Gg]eeks', 'GeeksforGeeks: \\\n",
    "    A computer science portal for geeks'))"
   ]
  },
  {
   "cell_type": "code",
   "execution_count": 8,
   "metadata": {},
   "outputs": [
    {
     "name": "stdout",
     "output_type": "stream",
     "text": [
      "Range <re.Match object; span=(0, 1), match='x'>\n"
     ]
    }
   ],
   "source": [
    "# Ranges\n",
    "\n",
    "import re \n",
    "  \n",
    "  \n",
    "print('Range',re.search(r'[a-zA-Z]', 'x'))"
   ]
  },
  {
   "cell_type": "code",
   "execution_count": 9,
   "metadata": {},
   "outputs": [
    {
     "name": "stdout",
     "output_type": "stream",
     "text": [
      "None\n"
     ]
    }
   ],
   "source": [
    "# Negation\n",
    "import re \n",
    "\n",
    "print(re.search(r'[^a-z]', 'c'))\n",
    "\n",
    "import re \n",
    "  \n",
    "print(re.search(r'G[^e]', 'Geeks')) \n"
   ]
  },
  {
   "cell_type": "markdown",
   "metadata": {},
   "source": [
    "Special Sequences\n",
    "- \\A: Matches if the string begins with the character that follow after\n",
    "- \\b: Matches if the word begins or ends with the given character\n",
    "    - \\b(string) will check for the beginning of the word\n",
    "    - (string)\\b will check for the ending of the word\n",
    "- \\d: Mataches any decimal digit, class equivalent is [0-9]\n",
    "- \\D: Matches any non digit character, class equivalent is [^0-9]\n",
    "- \\s Matches any whitespace character\n",
    "- \\S: Matches an NON whitespace character\n",
    "- \\w: Matches any alphanumeric character, class equivalent [a-zA-Z0-9_]\n",
    "- \\W: Matches any non-alphnumberic character\n",
    "- \\Z: Matches if the string ends with the given regex"
   ]
  },
  {
   "cell_type": "code",
   "execution_count": 10,
   "metadata": {},
   "outputs": [
    {
     "name": "stdout",
     "output_type": "stream",
     "text": [
      "Geeks: <re.Match object; span=(0, 5), match='Geeks'>\n",
      "GeeksforGeeks: None\n"
     ]
    }
   ],
   "source": [
    "# shortcuts\n",
    "import re \n",
    "  \n",
    "print('Geeks:', re.search(r'\\bGeeks\\b', 'Geeks')) \n",
    "print('GeeksforGeeks:', re.search(r'\\bGeeks\\b', 'GeeksforGeeks')) "
   ]
  },
  {
   "cell_type": "code",
   "execution_count": 11,
   "metadata": {},
   "outputs": [
    {
     "name": "stdout",
     "output_type": "stream",
     "text": [
      "Beg. of String: None\n",
      "Beg. of String: <re.Match object; span=(0, 4), match='Geek'>\n",
      "End of String: <re.Match object; span=(31, 36), match='Geeks'>\n"
     ]
    }
   ],
   "source": [
    "# Beginning and end of string\n",
    "import re \n",
    "\n",
    "# Beginning of String \n",
    "match = re.search(r'^Geek', 'Campus Geek of the month') \n",
    "print('Beg. of String:', match) \n",
    "\n",
    "match = re.search(r'^Geek', 'Geek of the month') \n",
    "print('Beg. of String:', match) \n",
    "\n",
    "# End of String \n",
    "match = re.search(r'Geeks$', 'Compute science portal-GeeksforGeeks') \n",
    "print('End of String:', match) \n"
   ]
  },
  {
   "cell_type": "code",
   "execution_count": 12,
   "metadata": {},
   "outputs": [
    {
     "name": "stdout",
     "output_type": "stream",
     "text": [
      "Any Character <re.Match object; span=(0, 6), match='python'>\n"
     ]
    }
   ],
   "source": [
    "# Any Character\n",
    "import re \n",
    "\n",
    "print('Any Character', re.search(r'p.th.n', 'python 3'))\n"
   ]
  },
  {
   "cell_type": "markdown",
   "metadata": {},
   "source": [
    "More RegEx:\n",
    "- Optional Characters: It allows a character or character class either to present once or else not to occur. \n",
    "- Repetition: enables you to repeat the same character or character class\n",
    "- Shorthand: use + character to specify one or more ({1,}) and * character to specify zero or more ({0,}.\n",
    "- Grouping: the process of separating an expression into groups by using parentheses, and it allows you to fetch each individual matching group\n",
    "- Lookahead: it accepts or rejects a match based on the presence or absence of content\n",
    "- Substitution: replace the string and returns the replaced one using the re.sub method.\n",
    "    - re.sub() takes three arguments:\n",
    "        1. regular expression\n",
    "        2. replacement string\n",
    "        3. source string to be searched.\n",
    "\n"
   ]
  },
  {
   "cell_type": "code",
   "execution_count": 13,
   "metadata": {},
   "outputs": [
    {
     "name": "stdout",
     "output_type": "stream",
     "text": [
      "Color <re.Match object; span=(0, 5), match='color'>\n",
      "Colour <re.Match object; span=(0, 6), match='colour'>\n"
     ]
    }
   ],
   "source": [
    "# Optional characters\n",
    "\n",
    "import re \n",
    "\n",
    "\n",
    "print('Color',re.search(r'colou?r', 'color')) \n",
    "print('Colour',re.search(r'colou?r', 'colour'))\n"
   ]
  },
  {
   "cell_type": "markdown",
   "metadata": {},
   "source": []
  },
  {
   "cell_type": "code",
   "execution_count": 19,
   "metadata": {},
   "outputs": [
    {
     "name": "stdout",
     "output_type": "stream",
     "text": [
      "Date{mm-dd-yyyy}: <re.Match object; span=(0, 10), match='18-08-2020'>\n",
      "Three Digit: <re.Match object; span=(0, 3), match='189'>\n",
      "Four Digit: <re.Match object; span=(0, 4), match='2145'>\n",
      "<re.Match object; span=(0, 1), match='5'>\n"
     ]
    }
   ],
   "source": [
    "# Repetition\n",
    "\n",
    "import re \n",
    "\n",
    "\n",
    "print('Date{mm-dd-yyyy}:', re.search(r'[\\d]{2}-[\\d]{2}-[\\d]{4}', \n",
    "\t\t\t\t\t\t\t\t\t'18-08-2020')) \n",
    "\n",
    "\n",
    "print('Three Digit:', re.search(r'[\\d]{3,4}', '189')) \n",
    "print('Four Digit:', re.search(r'[\\d]{3,4}', '2145')) \n",
    "# Open ended ranges\n",
    "#There are scenarios where there is no limit for a character repetition\n",
    "print(re.search(r'[\\d]{1,}','5th Floor, A-118,\\\n",
    "    Sector-136, Noida, Uttar Pradesh - 201305'))\n"
   ]
  },
  {
   "cell_type": "code",
   "execution_count": 20,
   "metadata": {},
   "outputs": [
    {
     "name": "stdout",
     "output_type": "stream",
     "text": [
      "<re.Match object; span=(0, 1), match='5'>\n"
     ]
    }
   ],
   "source": [
    "# shorthand\n",
    "import re \n",
    "\n",
    "print(re.search(r'[\\d]+', '5th Floor, A-118,\\\n",
    "    Sector-136, Noida, Uttar Pradesh - 201305'))\n"
   ]
  },
  {
   "cell_type": "code",
   "execution_count": 27,
   "metadata": {},
   "outputs": [
    {
     "name": "stdout",
     "output_type": "stream",
     "text": [
      "<re.Match object; span=(0, 10), match='26-08-2020'>\n",
      "26-08-2020\n",
      "2020\n",
      "{'dd': '26', 'mm': '08', 'yyyy': '2020'}\n"
     ]
    }
   ],
   "source": [
    "# Grouping\n",
    "\n",
    "import re \n",
    "\n",
    "\n",
    "grp = re.search(r'([\\d]{2})-([\\d]{2})-([\\d]{4})', '26-08-2020') \n",
    "print(grp) \n",
    "\n",
    "# return entire match using group() method\n",
    "grp = re.search(r'([\\d]{2})-([\\d]{2})-([\\d]{4})','26-08-2020') \n",
    "print(grp.group())\n",
    "\n",
    "# return a single group:\n",
    "grp = re.search(r'([\\d]{2})-([\\d]{2})-([\\d]{4})','26-08-2020') \n",
    "print(grp.group(3))\n",
    "\n",
    "# individual match as a dictionary\n",
    "match = re.search(r'(?P<dd>[\\d]{2})-(?P<mm>[\\d]{2})-(?P<yyyy>[\\d]{4})', \n",
    "                  '26-08-2020') \n",
    "print(match.groupdict()) "
   ]
  },
  {
   "cell_type": "code",
   "execution_count": 29,
   "metadata": {},
   "outputs": [
    {
     "name": "stdout",
     "output_type": "stream",
     "text": [
      "negation: None\n",
      "lookahead: <re.Match object; span=(5, 6), match='n'>\n",
      "positive lookahead <re.Match object; span=(5, 6), match='n'>\n"
     ]
    }
   ],
   "source": [
    "# Lookahead\n",
    "import re \n",
    "\n",
    "print('negation:', re.search(r'n[^e]', 'Python')) \n",
    "print('lookahead:', re.search(r'n(?!e)', 'Python')) \n",
    "\n",
    "# Lookahead can also disqualify the match if it is not followed by a particular character. \n",
    "# This process is called a positive lookahead, and can be achieved by simply replacing ! character with = character.\n",
    "print('positive lookahead', re.search(r'n(?=e)', 'jasmine'))\n"
   ]
  },
  {
   "cell_type": "code",
   "execution_count": 2,
   "metadata": {},
   "outputs": [
    {
     "name": "stdout",
     "output_type": "stream",
     "text": [
      "1111222233334444\n"
     ]
    }
   ],
   "source": [
    "import re\n",
    "# replace\n",
    "print(re.sub(r'([\\d]{4})-([\\d]{4})-([\\d]{4})-([\\d]{4})',r'\\1\\2\\3\\4',\n",
    "             '1111-2222-3333-4444'))"
   ]
  }
 ],
 "metadata": {
  "kernelspec": {
   "display_name": "Python 3",
   "language": "python",
   "name": "python3"
  },
  "language_info": {
   "codemirror_mode": {
    "name": "ipython",
    "version": 3
   },
   "file_extension": ".py",
   "mimetype": "text/x-python",
   "name": "python",
   "nbconvert_exporter": "python",
   "pygments_lexer": "ipython3",
   "version": "3.10.13"
  }
 },
 "nbformat": 4,
 "nbformat_minor": 2
}
