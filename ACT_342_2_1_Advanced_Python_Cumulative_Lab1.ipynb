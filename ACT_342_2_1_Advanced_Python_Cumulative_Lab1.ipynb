{
  "nbformat": 4,
  "nbformat_minor": 0,
  "metadata": {
    "colab": {
      "provenance": [],
      "include_colab_link": true
    },
    "kernelspec": {
      "name": "python3",
      "display_name": "Python 3"
    },
    "language_info": {
      "name": "python"
    }
  },
  "cells": [
    {
      "cell_type": "markdown",
      "metadata": {
        "id": "view-in-github",
        "colab_type": "text"
      },
      "source": [
        "<a href=\"https://colab.research.google.com/github/diotte-am/2024-RT-107_diotte-am/blob/main/ACT_342_2_1_Advanced_Python_Cumulative_Lab1.ipynb\" target=\"_parent\"><img src=\"https://colab.research.google.com/assets/colab-badge.svg\" alt=\"Open In Colab\"/></a>"
      ]
    },
    {
      "cell_type": "markdown",
      "source": [
        "#Accessing a Paginated API Endpoint to Explore Data\n",
        "\n",
        "In this lab, we will combine concepts that we have learned throughout the class so far. Some of those concepts include:\n",
        "\n",
        ">*   Importing libraries.\n",
        ">*   Looping through nested lists and dictionaries.\n",
        ">*   Making requests to API Endpoints.\n",
        ">*   Defining functions based on a given set of conditions.\n",
        ">*   Accessing and utilizing JSON data.\n",
        ">*   Handling exception errors.\n",
        "<br></br>\n",
        "\n",
        "To complete this lab, we will use data from a Star Wars API. The full documentation can be found here: https://swapi.dev/documentation#intro\n",
        "<br></br>\n",
        "We will focus on the **\"People Resource\"** for this lab.\n",
        "\n",
        "#Instructions:\n",
        "\n",
        "\n"
      ],
      "metadata": {
        "id": "W9LJu8VEIP3p"
      }
    },
    {
      "cell_type": "markdown",
      "source": [
        "Import all of the required packages to complete this assignment.\n",
        "Include a package to print Json in a tabular format."
      ],
      "metadata": {
        "id": "PMtPeI04Lst3"
      }
    },
    {
      "cell_type": "code",
      "source": [
        "import requests\n",
        "import json"
      ],
      "metadata": {
        "id": "GNETMP82L3Z9"
      },
      "execution_count": 2,
      "outputs": []
    },
    {
      "cell_type": "markdown",
      "source": [
        "Make your request to the API Endpoint and use a **FOR LOOP** if neccessary to access multiple pages.\n",
        "<br></br>\n",
        "Save all of the responses in one Python Object."
      ],
      "metadata": {
        "id": "WVOtZOtfMHyH"
      }
    },
    {
      "cell_type": "code",
      "source": [
        "\n",
        "api_url = \"https://swapi.dev/api/species\"\n",
        "response = requests.get(api_url).json()['results']\n",
        "responses = list()\n",
        "for line in response:\n",
        "  responses.append(line)\n",
        "\n",
        "print(responses)\n"
      ],
      "metadata": {
        "id": "7yLJTUIUMkB6",
        "colab": {
          "base_uri": "https://localhost:8080/"
        },
        "outputId": "331df4a6-140a-4dfa-cd3e-450985bb3dd1"
      },
      "execution_count": 23,
      "outputs": [
        {
          "output_type": "stream",
          "name": "stdout",
          "text": [
            "[{'name': 'Human', 'classification': 'mammal', 'designation': 'sentient', 'average_height': '180', 'skin_colors': 'caucasian, black, asian, hispanic', 'hair_colors': 'blonde, brown, black, red', 'eye_colors': 'brown, blue, green, hazel, grey, amber', 'average_lifespan': '120', 'homeworld': 'https://swapi.dev/api/planets/9/', 'language': 'Galactic Basic', 'people': ['https://swapi.dev/api/people/66/', 'https://swapi.dev/api/people/67/', 'https://swapi.dev/api/people/68/', 'https://swapi.dev/api/people/74/'], 'films': ['https://swapi.dev/api/films/1/', 'https://swapi.dev/api/films/2/', 'https://swapi.dev/api/films/3/', 'https://swapi.dev/api/films/4/', 'https://swapi.dev/api/films/5/', 'https://swapi.dev/api/films/6/'], 'created': '2014-12-10T13:52:11.567000Z', 'edited': '2014-12-20T21:36:42.136000Z', 'url': 'https://swapi.dev/api/species/1/'}, {'name': 'Droid', 'classification': 'artificial', 'designation': 'sentient', 'average_height': 'n/a', 'skin_colors': 'n/a', 'hair_colors': 'n/a', 'eye_colors': 'n/a', 'average_lifespan': 'indefinite', 'homeworld': None, 'language': 'n/a', 'people': ['https://swapi.dev/api/people/2/', 'https://swapi.dev/api/people/3/', 'https://swapi.dev/api/people/8/', 'https://swapi.dev/api/people/23/'], 'films': ['https://swapi.dev/api/films/1/', 'https://swapi.dev/api/films/2/', 'https://swapi.dev/api/films/3/', 'https://swapi.dev/api/films/4/', 'https://swapi.dev/api/films/5/', 'https://swapi.dev/api/films/6/'], 'created': '2014-12-10T15:16:16.259000Z', 'edited': '2014-12-20T21:36:42.139000Z', 'url': 'https://swapi.dev/api/species/2/'}, {'name': 'Wookie', 'classification': 'mammal', 'designation': 'sentient', 'average_height': '210', 'skin_colors': 'gray', 'hair_colors': 'black, brown', 'eye_colors': 'blue, green, yellow, brown, golden, red', 'average_lifespan': '400', 'homeworld': 'https://swapi.dev/api/planets/14/', 'language': 'Shyriiwook', 'people': ['https://swapi.dev/api/people/13/', 'https://swapi.dev/api/people/80/'], 'films': ['https://swapi.dev/api/films/1/', 'https://swapi.dev/api/films/2/', 'https://swapi.dev/api/films/3/', 'https://swapi.dev/api/films/6/'], 'created': '2014-12-10T16:44:31.486000Z', 'edited': '2014-12-20T21:36:42.142000Z', 'url': 'https://swapi.dev/api/species/3/'}, {'name': 'Rodian', 'classification': 'sentient', 'designation': 'reptilian', 'average_height': '170', 'skin_colors': 'green, blue', 'hair_colors': 'n/a', 'eye_colors': 'black', 'average_lifespan': 'unknown', 'homeworld': 'https://swapi.dev/api/planets/23/', 'language': 'Galatic Basic', 'people': ['https://swapi.dev/api/people/15/'], 'films': ['https://swapi.dev/api/films/1/'], 'created': '2014-12-10T17:05:26.471000Z', 'edited': '2014-12-20T21:36:42.144000Z', 'url': 'https://swapi.dev/api/species/4/'}, {'name': 'Hutt', 'classification': 'gastropod', 'designation': 'sentient', 'average_height': '300', 'skin_colors': 'green, brown, tan', 'hair_colors': 'n/a', 'eye_colors': 'yellow, red', 'average_lifespan': '1000', 'homeworld': 'https://swapi.dev/api/planets/24/', 'language': 'Huttese', 'people': ['https://swapi.dev/api/people/16/'], 'films': ['https://swapi.dev/api/films/1/', 'https://swapi.dev/api/films/3/'], 'created': '2014-12-10T17:12:50.410000Z', 'edited': '2014-12-20T21:36:42.146000Z', 'url': 'https://swapi.dev/api/species/5/'}, {'name': \"Yoda's species\", 'classification': 'mammal', 'designation': 'sentient', 'average_height': '66', 'skin_colors': 'green, yellow', 'hair_colors': 'brown, white', 'eye_colors': 'brown, green, yellow', 'average_lifespan': '900', 'homeworld': 'https://swapi.dev/api/planets/28/', 'language': 'Galactic basic', 'people': ['https://swapi.dev/api/people/20/'], 'films': ['https://swapi.dev/api/films/2/', 'https://swapi.dev/api/films/3/', 'https://swapi.dev/api/films/4/', 'https://swapi.dev/api/films/5/', 'https://swapi.dev/api/films/6/'], 'created': '2014-12-15T12:27:22.877000Z', 'edited': '2014-12-20T21:36:42.148000Z', 'url': 'https://swapi.dev/api/species/6/'}, {'name': 'Trandoshan', 'classification': 'reptile', 'designation': 'sentient', 'average_height': '200', 'skin_colors': 'brown, green', 'hair_colors': 'none', 'eye_colors': 'yellow, orange', 'average_lifespan': 'unknown', 'homeworld': 'https://swapi.dev/api/planets/29/', 'language': 'Dosh', 'people': ['https://swapi.dev/api/people/24/'], 'films': ['https://swapi.dev/api/films/2/'], 'created': '2014-12-15T13:07:47.704000Z', 'edited': '2014-12-20T21:36:42.151000Z', 'url': 'https://swapi.dev/api/species/7/'}, {'name': 'Mon Calamari', 'classification': 'amphibian', 'designation': 'sentient', 'average_height': '160', 'skin_colors': 'red, blue, brown, magenta', 'hair_colors': 'none', 'eye_colors': 'yellow', 'average_lifespan': 'unknown', 'homeworld': 'https://swapi.dev/api/planets/31/', 'language': 'Mon Calamarian', 'people': ['https://swapi.dev/api/people/27/'], 'films': ['https://swapi.dev/api/films/3/'], 'created': '2014-12-18T11:09:52.263000Z', 'edited': '2014-12-20T21:36:42.153000Z', 'url': 'https://swapi.dev/api/species/8/'}, {'name': 'Ewok', 'classification': 'mammal', 'designation': 'sentient', 'average_height': '100', 'skin_colors': 'brown', 'hair_colors': 'white, brown, black', 'eye_colors': 'orange, brown', 'average_lifespan': 'unknown', 'homeworld': 'https://swapi.dev/api/planets/7/', 'language': 'Ewokese', 'people': ['https://swapi.dev/api/people/30/'], 'films': ['https://swapi.dev/api/films/3/'], 'created': '2014-12-18T11:22:00.285000Z', 'edited': '2014-12-20T21:36:42.155000Z', 'url': 'https://swapi.dev/api/species/9/'}, {'name': 'Sullustan', 'classification': 'mammal', 'designation': 'sentient', 'average_height': '180', 'skin_colors': 'pale', 'hair_colors': 'none', 'eye_colors': 'black', 'average_lifespan': 'unknown', 'homeworld': 'https://swapi.dev/api/planets/33/', 'language': 'Sullutese', 'people': ['https://swapi.dev/api/people/31/'], 'films': ['https://swapi.dev/api/films/3/'], 'created': '2014-12-18T11:26:20.103000Z', 'edited': '2014-12-20T21:36:42.157000Z', 'url': 'https://swapi.dev/api/species/10/'}]\n"
          ]
        }
      ]
    },
    {
      "cell_type": "markdown",
      "source": [
        "Create a new Python object that holds on the 'result' key for each Character dictionary."
      ],
      "metadata": {
        "id": "ApAz056aMlrF"
      }
    },
    {
      "cell_type": "code",
      "source": [
        "api_url = \"https://swapi.dev/api/people/\"\n",
        "response = requests.get(api_url).json()['results']\n",
        "character_dict = {}\n",
        "for line in response:\n",
        "  name = line['name']\n",
        "  character_dict[name] = line\n",
        "print(character_dict)"
      ],
      "metadata": {
        "id": "GVLf5PuVY7gj",
        "colab": {
          "base_uri": "https://localhost:8080/"
        },
        "outputId": "af37f895-22e3-4f2b-d834-f20eb78283d0"
      },
      "execution_count": 31,
      "outputs": [
        {
          "output_type": "stream",
          "name": "stdout",
          "text": [
            "{'Luke Skywalker': {'name': 'Luke Skywalker', 'height': '172', 'mass': '77', 'hair_color': 'blond', 'skin_color': 'fair', 'eye_color': 'blue', 'birth_year': '19BBY', 'gender': 'male', 'homeworld': 'https://swapi.dev/api/planets/1/', 'films': ['https://swapi.dev/api/films/1/', 'https://swapi.dev/api/films/2/', 'https://swapi.dev/api/films/3/', 'https://swapi.dev/api/films/6/'], 'species': [], 'vehicles': ['https://swapi.dev/api/vehicles/14/', 'https://swapi.dev/api/vehicles/30/'], 'starships': ['https://swapi.dev/api/starships/12/', 'https://swapi.dev/api/starships/22/'], 'created': '2014-12-09T13:50:51.644000Z', 'edited': '2014-12-20T21:17:56.891000Z', 'url': 'https://swapi.dev/api/people/1/'}, 'C-3PO': {'name': 'C-3PO', 'height': '167', 'mass': '75', 'hair_color': 'n/a', 'skin_color': 'gold', 'eye_color': 'yellow', 'birth_year': '112BBY', 'gender': 'n/a', 'homeworld': 'https://swapi.dev/api/planets/1/', 'films': ['https://swapi.dev/api/films/1/', 'https://swapi.dev/api/films/2/', 'https://swapi.dev/api/films/3/', 'https://swapi.dev/api/films/4/', 'https://swapi.dev/api/films/5/', 'https://swapi.dev/api/films/6/'], 'species': ['https://swapi.dev/api/species/2/'], 'vehicles': [], 'starships': [], 'created': '2014-12-10T15:10:51.357000Z', 'edited': '2014-12-20T21:17:50.309000Z', 'url': 'https://swapi.dev/api/people/2/'}, 'R2-D2': {'name': 'R2-D2', 'height': '96', 'mass': '32', 'hair_color': 'n/a', 'skin_color': 'white, blue', 'eye_color': 'red', 'birth_year': '33BBY', 'gender': 'n/a', 'homeworld': 'https://swapi.dev/api/planets/8/', 'films': ['https://swapi.dev/api/films/1/', 'https://swapi.dev/api/films/2/', 'https://swapi.dev/api/films/3/', 'https://swapi.dev/api/films/4/', 'https://swapi.dev/api/films/5/', 'https://swapi.dev/api/films/6/'], 'species': ['https://swapi.dev/api/species/2/'], 'vehicles': [], 'starships': [], 'created': '2014-12-10T15:11:50.376000Z', 'edited': '2014-12-20T21:17:50.311000Z', 'url': 'https://swapi.dev/api/people/3/'}, 'Darth Vader': {'name': 'Darth Vader', 'height': '202', 'mass': '136', 'hair_color': 'none', 'skin_color': 'white', 'eye_color': 'yellow', 'birth_year': '41.9BBY', 'gender': 'male', 'homeworld': 'https://swapi.dev/api/planets/1/', 'films': ['https://swapi.dev/api/films/1/', 'https://swapi.dev/api/films/2/', 'https://swapi.dev/api/films/3/', 'https://swapi.dev/api/films/6/'], 'species': [], 'vehicles': [], 'starships': ['https://swapi.dev/api/starships/13/'], 'created': '2014-12-10T15:18:20.704000Z', 'edited': '2014-12-20T21:17:50.313000Z', 'url': 'https://swapi.dev/api/people/4/'}, 'Leia Organa': {'name': 'Leia Organa', 'height': '150', 'mass': '49', 'hair_color': 'brown', 'skin_color': 'light', 'eye_color': 'brown', 'birth_year': '19BBY', 'gender': 'female', 'homeworld': 'https://swapi.dev/api/planets/2/', 'films': ['https://swapi.dev/api/films/1/', 'https://swapi.dev/api/films/2/', 'https://swapi.dev/api/films/3/', 'https://swapi.dev/api/films/6/'], 'species': [], 'vehicles': ['https://swapi.dev/api/vehicles/30/'], 'starships': [], 'created': '2014-12-10T15:20:09.791000Z', 'edited': '2014-12-20T21:17:50.315000Z', 'url': 'https://swapi.dev/api/people/5/'}, 'Owen Lars': {'name': 'Owen Lars', 'height': '178', 'mass': '120', 'hair_color': 'brown, grey', 'skin_color': 'light', 'eye_color': 'blue', 'birth_year': '52BBY', 'gender': 'male', 'homeworld': 'https://swapi.dev/api/planets/1/', 'films': ['https://swapi.dev/api/films/1/', 'https://swapi.dev/api/films/5/', 'https://swapi.dev/api/films/6/'], 'species': [], 'vehicles': [], 'starships': [], 'created': '2014-12-10T15:52:14.024000Z', 'edited': '2014-12-20T21:17:50.317000Z', 'url': 'https://swapi.dev/api/people/6/'}, 'Beru Whitesun lars': {'name': 'Beru Whitesun lars', 'height': '165', 'mass': '75', 'hair_color': 'brown', 'skin_color': 'light', 'eye_color': 'blue', 'birth_year': '47BBY', 'gender': 'female', 'homeworld': 'https://swapi.dev/api/planets/1/', 'films': ['https://swapi.dev/api/films/1/', 'https://swapi.dev/api/films/5/', 'https://swapi.dev/api/films/6/'], 'species': [], 'vehicles': [], 'starships': [], 'created': '2014-12-10T15:53:41.121000Z', 'edited': '2014-12-20T21:17:50.319000Z', 'url': 'https://swapi.dev/api/people/7/'}, 'R5-D4': {'name': 'R5-D4', 'height': '97', 'mass': '32', 'hair_color': 'n/a', 'skin_color': 'white, red', 'eye_color': 'red', 'birth_year': 'unknown', 'gender': 'n/a', 'homeworld': 'https://swapi.dev/api/planets/1/', 'films': ['https://swapi.dev/api/films/1/'], 'species': ['https://swapi.dev/api/species/2/'], 'vehicles': [], 'starships': [], 'created': '2014-12-10T15:57:50.959000Z', 'edited': '2014-12-20T21:17:50.321000Z', 'url': 'https://swapi.dev/api/people/8/'}, 'Biggs Darklighter': {'name': 'Biggs Darklighter', 'height': '183', 'mass': '84', 'hair_color': 'black', 'skin_color': 'light', 'eye_color': 'brown', 'birth_year': '24BBY', 'gender': 'male', 'homeworld': 'https://swapi.dev/api/planets/1/', 'films': ['https://swapi.dev/api/films/1/'], 'species': [], 'vehicles': [], 'starships': ['https://swapi.dev/api/starships/12/'], 'created': '2014-12-10T15:59:50.509000Z', 'edited': '2014-12-20T21:17:50.323000Z', 'url': 'https://swapi.dev/api/people/9/'}, 'Obi-Wan Kenobi': {'name': 'Obi-Wan Kenobi', 'height': '182', 'mass': '77', 'hair_color': 'auburn, white', 'skin_color': 'fair', 'eye_color': 'blue-gray', 'birth_year': '57BBY', 'gender': 'male', 'homeworld': 'https://swapi.dev/api/planets/20/', 'films': ['https://swapi.dev/api/films/1/', 'https://swapi.dev/api/films/2/', 'https://swapi.dev/api/films/3/', 'https://swapi.dev/api/films/4/', 'https://swapi.dev/api/films/5/', 'https://swapi.dev/api/films/6/'], 'species': [], 'vehicles': ['https://swapi.dev/api/vehicles/38/'], 'starships': ['https://swapi.dev/api/starships/48/', 'https://swapi.dev/api/starships/59/', 'https://swapi.dev/api/starships/64/', 'https://swapi.dev/api/starships/65/', 'https://swapi.dev/api/starships/74/'], 'created': '2014-12-10T16:16:29.192000Z', 'edited': '2014-12-20T21:17:50.325000Z', 'url': 'https://swapi.dev/api/people/10/'}}\n"
          ]
        }
      ]
    },
    {
      "cell_type": "markdown",
      "source": [
        "Define a function that returns a list of all of the character names.\n",
        "\n",
        "Call the function."
      ],
      "metadata": {
        "id": "7TVWknUzZNIS"
      }
    },
    {
      "cell_type": "code",
      "source": [
        "api_url = \"https://swapi.dev/api/people/\"\n",
        "response = requests.get(api_url).json()['results']\n",
        "names = list()\n",
        "for line in response:\n",
        "  names.append(line['name'])\n",
        "\n",
        "print(names)"
      ],
      "metadata": {
        "id": "WLUSa9msZYOv",
        "colab": {
          "base_uri": "https://localhost:8080/"
        },
        "outputId": "7344f6e4-ee95-4cf7-c4bc-a16cd2b68505"
      },
      "execution_count": 32,
      "outputs": [
        {
          "output_type": "stream",
          "name": "stdout",
          "text": [
            "['Luke Skywalker', 'C-3PO', 'R2-D2', 'Darth Vader', 'Leia Organa', 'Owen Lars', 'Beru Whitesun lars', 'R5-D4', 'Biggs Darklighter', 'Obi-Wan Kenobi']\n"
          ]
        }
      ]
    },
    {
      "cell_type": "markdown",
      "source": [
        "Define a function that counts the total number of male characters and the total number of female characters. Return both numbers.\n",
        "\n",
        "Call the function.\n",
        "<br></br>\n",
        "Considerations: Do all characters have the gender male or female?"
      ],
      "metadata": {
        "id": "SPV49uLFZaz3"
      }
    },
    {
      "cell_type": "code",
      "source": [],
      "metadata": {
        "id": "pALC6DJxZqxD"
      },
      "execution_count": null,
      "outputs": []
    },
    {
      "cell_type": "markdown",
      "source": [
        "Define a function that returns a list of all the characters that appear in more than 'x' number of films. Where 'x' is an integer that is passed as an argument into the function.\n",
        "\n",
        "Call the function with at least two test cases.\n",
        "<br></br>\n",
        "Considerations: Is 'more' than inclusive of the number passed?"
      ],
      "metadata": {
        "id": "0NVoP8RwZwwW"
      }
    },
    {
      "cell_type": "code",
      "source": [],
      "metadata": {
        "id": "HNU93nk1aJwr"
      },
      "execution_count": null,
      "outputs": []
    },
    {
      "cell_type": "markdown",
      "source": [
        "Define a function that returns a list of all of the characters that start with a specific letter where the letter is passed as a string, as an argument into the function.\n",
        "\n",
        "Call the function with an uppercase letter.\n",
        "Call the function with the same character as a lowercase letter.\n",
        "<br></br>\n",
        "Considerations: How do you handle the type of character being passed? There are many different ways to make this work. Be creative."
      ],
      "metadata": {
        "id": "eIIBFhc2aKJk"
      }
    },
    {
      "cell_type": "code",
      "source": [],
      "metadata": {
        "id": "3VnNmKdybwiP"
      },
      "execution_count": null,
      "outputs": []
    },
    {
      "cell_type": "markdown",
      "source": [
        "Define a function that returns a tuple of the min, max, and avg height for all characters converted into feet.\n",
        "\n",
        "Unpack the tuple when making the function call.\n",
        "<br></br>\n",
        "Considerations: Use built-in methods for the min, max, and avg heights."
      ],
      "metadata": {
        "id": "ra4huEK5bSn8"
      }
    },
    {
      "cell_type": "code",
      "source": [],
      "metadata": {
        "id": "Lk57X-DWbvgd"
      },
      "execution_count": null,
      "outputs": []
    },
    {
      "cell_type": "markdown",
      "source": [
        "Define a function that accepts two arguments: eye color and hair color. Return a dictionary with the min, max, and avg height based on the arguments given.\n",
        "\n",
        "Call the function using \"blue\" for the eye color and \"blond\" for the hair color.\n",
        "\n",
        "Call the function using arguments of your choice.\n",
        "\n"
      ],
      "metadata": {
        "id": "IKwDIQTYb435"
      }
    },
    {
      "cell_type": "code",
      "source": [],
      "metadata": {
        "id": "zMvacURNcyE5"
      },
      "execution_count": null,
      "outputs": []
    }
  ]
}