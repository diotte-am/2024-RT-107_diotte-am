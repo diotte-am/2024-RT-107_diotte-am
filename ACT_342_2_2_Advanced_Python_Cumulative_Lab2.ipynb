{
  "nbformat": 4,
  "nbformat_minor": 0,
  "metadata": {
    "colab": {
      "provenance": [],
      "include_colab_link": true
    },
    "kernelspec": {
      "name": "python3",
      "display_name": "Python 3"
    },
    "language_info": {
      "name": "python"
    }
  },
  "cells": [
    {
      "cell_type": "markdown",
      "metadata": {
        "id": "view-in-github",
        "colab_type": "text"
      },
      "source": [
        "<a href=\"https://colab.research.google.com/github/diotte-am/2024-RT-107_diotte-am/blob/main/ACT_342_2_2_Advanced_Python_Cumulative_Lab2.ipynb\" target=\"_parent\"><img src=\"https://colab.research.google.com/assets/colab-badge.svg\" alt=\"Open In Colab\"/></a>"
      ]
    },
    {
      "cell_type": "markdown",
      "source": [
        "#Accessing a Paginated API Endpoint to Explore Data- Part 2\n",
        "\n",
        "In this lab we will combine concepts that we have learned throughout the class so far. Some of those concepts are:\n",
        "\n",
        ">*   Importing Libraries\n",
        ">*   Looping through nested lists and Dictionaries\n",
        ">*   Make a request to an API Endpoint\n",
        ">*   Define functions based on a given set of conditions\n",
        ">*   Handling Exception Errors\n",
        "<br></br>\n",
        "\n",
        "To complete this lab we will be using data from a Star Wars API. The full documentation can be found here: https://swapi.dev/documentation#intro\n",
        "<br></br>\n",
        "We will be focusing on the **\"[Starship](https://swapi.dev/documentation#starships) Resource\"** for this lab.\n",
        "<br></br>\n",
        "**If you have not completed Cumulative Lab 1, please go back and complete this lab. This lab is similair, but with less informative instruction to help build your logic skills.**"
      ],
      "metadata": {
        "id": "A8ywYdA4gLIQ"
      }
    },
    {
      "cell_type": "markdown",
      "source": [
        "Import all of the required packages to complete this assignment."
      ],
      "metadata": {
        "id": "8h9R9GU9gRJb"
      }
    },
    {
      "cell_type": "code",
      "source": [
        "import requests\n",
        "import json\n"
      ],
      "metadata": {
        "id": "ghO4hSnnhESx"
      },
      "execution_count": 17,
      "outputs": []
    },
    {
      "cell_type": "markdown",
      "source": [
        "Make your request to the API Endpoint and use a **WHILE** if neccessary to access multiple pages.\n",
        "<br></br>\n",
        "Save all of the responses in one Python Object. If you would like, save only the neccessary keys into a new Python Object."
      ],
      "metadata": {
        "id": "gp20BZExhKUG"
      }
    },
    {
      "cell_type": "code",
      "source": [
        "def get_starships():\n",
        "  api_url = \"https://swapi.dev/api/starships\"\n",
        "  response = requests.get(api_url)\n",
        "  data = response.json()\n",
        "  starships = data['results']\n",
        "  while data['next'] is not None:\n",
        "    response = requests.get(data['next'])\n",
        "    data = response.json()\n",
        "    starships.extend(data['results'])\n",
        "  print(starships)\n",
        "\n",
        "get_starships()\n",
        "\n",
        "\n",
        "\n",
        "\n"
      ],
      "metadata": {
        "id": "cQLnzwjXhV2v",
        "outputId": "1b4d721b-6f2f-4431-a5b6-d411eee29e74",
        "colab": {
          "base_uri": "https://localhost:8080/"
        }
      },
      "execution_count": 19,
      "outputs": [
        {
          "output_type": "stream",
          "name": "stdout",
          "text": [
            "[{'name': 'CR90 corvette', 'model': 'CR90 corvette', 'manufacturer': 'Corellian Engineering Corporation', 'cost_in_credits': '3500000', 'length': '150', 'max_atmosphering_speed': '950', 'crew': '30-165', 'passengers': '600', 'cargo_capacity': '3000000', 'consumables': '1 year', 'hyperdrive_rating': '2.0', 'MGLT': '60', 'starship_class': 'corvette', 'pilots': [], 'films': ['https://swapi.dev/api/films/1/', 'https://swapi.dev/api/films/3/', 'https://swapi.dev/api/films/6/'], 'created': '2014-12-10T14:20:33.369000Z', 'edited': '2014-12-20T21:23:49.867000Z', 'url': 'https://swapi.dev/api/starships/2/'}, {'name': 'Star Destroyer', 'model': 'Imperial I-class Star Destroyer', 'manufacturer': 'Kuat Drive Yards', 'cost_in_credits': '150000000', 'length': '1,600', 'max_atmosphering_speed': '975', 'crew': '47,060', 'passengers': 'n/a', 'cargo_capacity': '36000000', 'consumables': '2 years', 'hyperdrive_rating': '2.0', 'MGLT': '60', 'starship_class': 'Star Destroyer', 'pilots': [], 'films': ['https://swapi.dev/api/films/1/', 'https://swapi.dev/api/films/2/', 'https://swapi.dev/api/films/3/'], 'created': '2014-12-10T15:08:19.848000Z', 'edited': '2014-12-20T21:23:49.870000Z', 'url': 'https://swapi.dev/api/starships/3/'}, {'name': 'Sentinel-class landing craft', 'model': 'Sentinel-class landing craft', 'manufacturer': 'Sienar Fleet Systems, Cyngus Spaceworks', 'cost_in_credits': '240000', 'length': '38', 'max_atmosphering_speed': '1000', 'crew': '5', 'passengers': '75', 'cargo_capacity': '180000', 'consumables': '1 month', 'hyperdrive_rating': '1.0', 'MGLT': '70', 'starship_class': 'landing craft', 'pilots': [], 'films': ['https://swapi.dev/api/films/1/'], 'created': '2014-12-10T15:48:00.586000Z', 'edited': '2014-12-20T21:23:49.873000Z', 'url': 'https://swapi.dev/api/starships/5/'}, {'name': 'Death Star', 'model': 'DS-1 Orbital Battle Station', 'manufacturer': 'Imperial Department of Military Research, Sienar Fleet Systems', 'cost_in_credits': '1000000000000', 'length': '120000', 'max_atmosphering_speed': 'n/a', 'crew': '342,953', 'passengers': '843,342', 'cargo_capacity': '1000000000000', 'consumables': '3 years', 'hyperdrive_rating': '4.0', 'MGLT': '10', 'starship_class': 'Deep Space Mobile Battlestation', 'pilots': [], 'films': ['https://swapi.dev/api/films/1/'], 'created': '2014-12-10T16:36:50.509000Z', 'edited': '2014-12-20T21:26:24.783000Z', 'url': 'https://swapi.dev/api/starships/9/'}, {'name': 'Millennium Falcon', 'model': 'YT-1300 light freighter', 'manufacturer': 'Corellian Engineering Corporation', 'cost_in_credits': '100000', 'length': '34.37', 'max_atmosphering_speed': '1050', 'crew': '4', 'passengers': '6', 'cargo_capacity': '100000', 'consumables': '2 months', 'hyperdrive_rating': '0.5', 'MGLT': '75', 'starship_class': 'Light freighter', 'pilots': ['https://swapi.dev/api/people/13/', 'https://swapi.dev/api/people/14/', 'https://swapi.dev/api/people/25/', 'https://swapi.dev/api/people/31/'], 'films': ['https://swapi.dev/api/films/1/', 'https://swapi.dev/api/films/2/', 'https://swapi.dev/api/films/3/'], 'created': '2014-12-10T16:59:45.094000Z', 'edited': '2014-12-20T21:23:49.880000Z', 'url': 'https://swapi.dev/api/starships/10/'}, {'name': 'Y-wing', 'model': 'BTL Y-wing', 'manufacturer': 'Koensayr Manufacturing', 'cost_in_credits': '134999', 'length': '14', 'max_atmosphering_speed': '1000km', 'crew': '2', 'passengers': '0', 'cargo_capacity': '110', 'consumables': '1 week', 'hyperdrive_rating': '1.0', 'MGLT': '80', 'starship_class': 'assault starfighter', 'pilots': [], 'films': ['https://swapi.dev/api/films/1/', 'https://swapi.dev/api/films/2/', 'https://swapi.dev/api/films/3/'], 'created': '2014-12-12T11:00:39.817000Z', 'edited': '2014-12-20T21:23:49.883000Z', 'url': 'https://swapi.dev/api/starships/11/'}, {'name': 'X-wing', 'model': 'T-65 X-wing', 'manufacturer': 'Incom Corporation', 'cost_in_credits': '149999', 'length': '12.5', 'max_atmosphering_speed': '1050', 'crew': '1', 'passengers': '0', 'cargo_capacity': '110', 'consumables': '1 week', 'hyperdrive_rating': '1.0', 'MGLT': '100', 'starship_class': 'Starfighter', 'pilots': ['https://swapi.dev/api/people/1/', 'https://swapi.dev/api/people/9/', 'https://swapi.dev/api/people/18/', 'https://swapi.dev/api/people/19/'], 'films': ['https://swapi.dev/api/films/1/', 'https://swapi.dev/api/films/2/', 'https://swapi.dev/api/films/3/'], 'created': '2014-12-12T11:19:05.340000Z', 'edited': '2014-12-20T21:23:49.886000Z', 'url': 'https://swapi.dev/api/starships/12/'}, {'name': 'TIE Advanced x1', 'model': 'Twin Ion Engine Advanced x1', 'manufacturer': 'Sienar Fleet Systems', 'cost_in_credits': 'unknown', 'length': '9.2', 'max_atmosphering_speed': '1200', 'crew': '1', 'passengers': '0', 'cargo_capacity': '150', 'consumables': '5 days', 'hyperdrive_rating': '1.0', 'MGLT': '105', 'starship_class': 'Starfighter', 'pilots': ['https://swapi.dev/api/people/4/'], 'films': ['https://swapi.dev/api/films/1/'], 'created': '2014-12-12T11:21:32.991000Z', 'edited': '2014-12-20T21:23:49.889000Z', 'url': 'https://swapi.dev/api/starships/13/'}, {'name': 'Executor', 'model': 'Executor-class star dreadnought', 'manufacturer': 'Kuat Drive Yards, Fondor Shipyards', 'cost_in_credits': '1143350000', 'length': '19000', 'max_atmosphering_speed': 'n/a', 'crew': '279,144', 'passengers': '38000', 'cargo_capacity': '250000000', 'consumables': '6 years', 'hyperdrive_rating': '2.0', 'MGLT': '40', 'starship_class': 'Star dreadnought', 'pilots': [], 'films': ['https://swapi.dev/api/films/2/', 'https://swapi.dev/api/films/3/'], 'created': '2014-12-15T12:31:42.547000Z', 'edited': '2014-12-20T21:23:49.893000Z', 'url': 'https://swapi.dev/api/starships/15/'}, {'name': 'Rebel transport', 'model': 'GR-75 medium transport', 'manufacturer': 'Gallofree Yards, Inc.', 'cost_in_credits': 'unknown', 'length': '90', 'max_atmosphering_speed': '650', 'crew': '6', 'passengers': '90', 'cargo_capacity': '19000000', 'consumables': '6 months', 'hyperdrive_rating': '4.0', 'MGLT': '20', 'starship_class': 'Medium transport', 'pilots': [], 'films': ['https://swapi.dev/api/films/2/', 'https://swapi.dev/api/films/3/'], 'created': '2014-12-15T12:34:52.264000Z', 'edited': '2014-12-20T21:23:49.895000Z', 'url': 'https://swapi.dev/api/starships/17/'}, {'name': 'Slave 1', 'model': 'Firespray-31-class patrol and attack', 'manufacturer': 'Kuat Systems Engineering', 'cost_in_credits': 'unknown', 'length': '21.5', 'max_atmosphering_speed': '1000', 'crew': '1', 'passengers': '6', 'cargo_capacity': '70000', 'consumables': '1 month', 'hyperdrive_rating': '3.0', 'MGLT': '70', 'starship_class': 'Patrol craft', 'pilots': ['https://swapi.dev/api/people/22/'], 'films': ['https://swapi.dev/api/films/2/', 'https://swapi.dev/api/films/5/'], 'created': '2014-12-15T13:00:56.332000Z', 'edited': '2014-12-20T21:23:49.897000Z', 'url': 'https://swapi.dev/api/starships/21/'}, {'name': 'Imperial shuttle', 'model': 'Lambda-class T-4a shuttle', 'manufacturer': 'Sienar Fleet Systems', 'cost_in_credits': '240000', 'length': '20', 'max_atmosphering_speed': '850', 'crew': '6', 'passengers': '20', 'cargo_capacity': '80000', 'consumables': '2 months', 'hyperdrive_rating': '1.0', 'MGLT': '50', 'starship_class': 'Armed government transport', 'pilots': ['https://swapi.dev/api/people/1/', 'https://swapi.dev/api/people/13/', 'https://swapi.dev/api/people/14/'], 'films': ['https://swapi.dev/api/films/2/', 'https://swapi.dev/api/films/3/'], 'created': '2014-12-15T13:04:47.235000Z', 'edited': '2014-12-20T21:23:49.900000Z', 'url': 'https://swapi.dev/api/starships/22/'}, {'name': 'EF76 Nebulon-B escort frigate', 'model': 'EF76 Nebulon-B escort frigate', 'manufacturer': 'Kuat Drive Yards', 'cost_in_credits': '8500000', 'length': '300', 'max_atmosphering_speed': '800', 'crew': '854', 'passengers': '75', 'cargo_capacity': '6000000', 'consumables': '2 years', 'hyperdrive_rating': '2.0', 'MGLT': '40', 'starship_class': 'Escort ship', 'pilots': [], 'films': ['https://swapi.dev/api/films/2/', 'https://swapi.dev/api/films/3/'], 'created': '2014-12-15T13:06:30.813000Z', 'edited': '2014-12-20T21:23:49.902000Z', 'url': 'https://swapi.dev/api/starships/23/'}, {'name': 'Calamari Cruiser', 'model': 'MC80 Liberty type Star Cruiser', 'manufacturer': 'Mon Calamari shipyards', 'cost_in_credits': '104000000', 'length': '1200', 'max_atmosphering_speed': 'n/a', 'crew': '5400', 'passengers': '1200', 'cargo_capacity': 'unknown', 'consumables': '2 years', 'hyperdrive_rating': '1.0', 'MGLT': '60', 'starship_class': 'Star Cruiser', 'pilots': [], 'films': ['https://swapi.dev/api/films/3/'], 'created': '2014-12-18T10:54:57.804000Z', 'edited': '2014-12-20T21:23:49.904000Z', 'url': 'https://swapi.dev/api/starships/27/'}, {'name': 'A-wing', 'model': 'RZ-1 A-wing Interceptor', 'manufacturer': 'Alliance Underground Engineering, Incom Corporation', 'cost_in_credits': '175000', 'length': '9.6', 'max_atmosphering_speed': '1300', 'crew': '1', 'passengers': '0', 'cargo_capacity': '40', 'consumables': '1 week', 'hyperdrive_rating': '1.0', 'MGLT': '120', 'starship_class': 'Starfighter', 'pilots': ['https://swapi.dev/api/people/29/'], 'films': ['https://swapi.dev/api/films/3/'], 'created': '2014-12-18T11:16:34.542000Z', 'edited': '2014-12-20T21:23:49.907000Z', 'url': 'https://swapi.dev/api/starships/28/'}, {'name': 'B-wing', 'model': 'A/SF-01 B-wing starfighter', 'manufacturer': 'Slayn & Korpil', 'cost_in_credits': '220000', 'length': '16.9', 'max_atmosphering_speed': '950', 'crew': '1', 'passengers': '0', 'cargo_capacity': '45', 'consumables': '1 week', 'hyperdrive_rating': '2.0', 'MGLT': '91', 'starship_class': 'Assault Starfighter', 'pilots': [], 'films': ['https://swapi.dev/api/films/3/'], 'created': '2014-12-18T11:18:04.763000Z', 'edited': '2014-12-20T21:23:49.909000Z', 'url': 'https://swapi.dev/api/starships/29/'}, {'name': 'Republic Cruiser', 'model': 'Consular-class cruiser', 'manufacturer': 'Corellian Engineering Corporation', 'cost_in_credits': 'unknown', 'length': '115', 'max_atmosphering_speed': '900', 'crew': '9', 'passengers': '16', 'cargo_capacity': 'unknown', 'consumables': 'unknown', 'hyperdrive_rating': '2.0', 'MGLT': 'unknown', 'starship_class': 'Space cruiser', 'pilots': [], 'films': ['https://swapi.dev/api/films/4/'], 'created': '2014-12-19T17:01:31.488000Z', 'edited': '2014-12-20T21:23:49.912000Z', 'url': 'https://swapi.dev/api/starships/31/'}, {'name': 'Droid control ship', 'model': 'Lucrehulk-class Droid Control Ship', 'manufacturer': 'Hoersch-Kessel Drive, Inc.', 'cost_in_credits': 'unknown', 'length': '3170', 'max_atmosphering_speed': 'n/a', 'crew': '175', 'passengers': '139000', 'cargo_capacity': '4000000000', 'consumables': '500 days', 'hyperdrive_rating': '2.0', 'MGLT': 'unknown', 'starship_class': 'Droid control ship', 'pilots': [], 'films': ['https://swapi.dev/api/films/4/', 'https://swapi.dev/api/films/5/', 'https://swapi.dev/api/films/6/'], 'created': '2014-12-19T17:04:06.323000Z', 'edited': '2014-12-20T21:23:49.915000Z', 'url': 'https://swapi.dev/api/starships/32/'}, {'name': 'Naboo fighter', 'model': 'N-1 starfighter', 'manufacturer': 'Theed Palace Space Vessel Engineering Corps', 'cost_in_credits': '200000', 'length': '11', 'max_atmosphering_speed': '1100', 'crew': '1', 'passengers': '0', 'cargo_capacity': '65', 'consumables': '7 days', 'hyperdrive_rating': '1.0', 'MGLT': 'unknown', 'starship_class': 'Starfighter', 'pilots': ['https://swapi.dev/api/people/11/', 'https://swapi.dev/api/people/35/', 'https://swapi.dev/api/people/60/'], 'films': ['https://swapi.dev/api/films/4/', 'https://swapi.dev/api/films/5/'], 'created': '2014-12-19T17:39:17.582000Z', 'edited': '2014-12-20T21:23:49.917000Z', 'url': 'https://swapi.dev/api/starships/39/'}, {'name': 'Naboo Royal Starship', 'model': 'J-type 327 Nubian royal starship', 'manufacturer': 'Theed Palace Space Vessel Engineering Corps, Nubia Star Drives', 'cost_in_credits': 'unknown', 'length': '76', 'max_atmosphering_speed': '920', 'crew': '8', 'passengers': 'unknown', 'cargo_capacity': 'unknown', 'consumables': 'unknown', 'hyperdrive_rating': '1.8', 'MGLT': 'unknown', 'starship_class': 'yacht', 'pilots': ['https://swapi.dev/api/people/39/'], 'films': ['https://swapi.dev/api/films/4/'], 'created': '2014-12-19T17:45:03.506000Z', 'edited': '2014-12-20T21:23:49.919000Z', 'url': 'https://swapi.dev/api/starships/40/'}, {'name': 'Scimitar', 'model': 'Star Courier', 'manufacturer': 'Republic Sienar Systems', 'cost_in_credits': '55000000', 'length': '26.5', 'max_atmosphering_speed': '1180', 'crew': '1', 'passengers': '6', 'cargo_capacity': '2500000', 'consumables': '30 days', 'hyperdrive_rating': '1.5', 'MGLT': 'unknown', 'starship_class': 'Space Transport', 'pilots': ['https://swapi.dev/api/people/44/'], 'films': ['https://swapi.dev/api/films/4/'], 'created': '2014-12-20T09:39:56.116000Z', 'edited': '2014-12-20T21:23:49.922000Z', 'url': 'https://swapi.dev/api/starships/41/'}, {'name': 'J-type diplomatic barge', 'model': 'J-type diplomatic barge', 'manufacturer': 'Theed Palace Space Vessel Engineering Corps, Nubia Star Drives', 'cost_in_credits': '2000000', 'length': '39', 'max_atmosphering_speed': '2000', 'crew': '5', 'passengers': '10', 'cargo_capacity': 'unknown', 'consumables': '1 year', 'hyperdrive_rating': '0.7', 'MGLT': 'unknown', 'starship_class': 'Diplomatic barge', 'pilots': [], 'films': ['https://swapi.dev/api/films/5/'], 'created': '2014-12-20T11:05:51.237000Z', 'edited': '2014-12-20T21:23:49.925000Z', 'url': 'https://swapi.dev/api/starships/43/'}, {'name': 'AA-9 Coruscant freighter', 'model': 'Botajef AA-9 Freighter-Liner', 'manufacturer': 'Botajef Shipyards', 'cost_in_credits': 'unknown', 'length': '390', 'max_atmosphering_speed': 'unknown', 'crew': 'unknown', 'passengers': '30000', 'cargo_capacity': 'unknown', 'consumables': 'unknown', 'hyperdrive_rating': 'unknown', 'MGLT': 'unknown', 'starship_class': 'freighter', 'pilots': [], 'films': ['https://swapi.dev/api/films/5/'], 'created': '2014-12-20T17:24:23.509000Z', 'edited': '2014-12-20T21:23:49.928000Z', 'url': 'https://swapi.dev/api/starships/47/'}, {'name': 'Jedi starfighter', 'model': 'Delta-7 Aethersprite-class interceptor', 'manufacturer': 'Kuat Systems Engineering', 'cost_in_credits': '180000', 'length': '8', 'max_atmosphering_speed': '1150', 'crew': '1', 'passengers': '0', 'cargo_capacity': '60', 'consumables': '7 days', 'hyperdrive_rating': '1.0', 'MGLT': 'unknown', 'starship_class': 'Starfighter', 'pilots': ['https://swapi.dev/api/people/10/', 'https://swapi.dev/api/people/58/'], 'films': ['https://swapi.dev/api/films/5/', 'https://swapi.dev/api/films/6/'], 'created': '2014-12-20T17:35:23.906000Z', 'edited': '2014-12-20T21:23:49.930000Z', 'url': 'https://swapi.dev/api/starships/48/'}, {'name': 'H-type Nubian yacht', 'model': 'H-type Nubian yacht', 'manufacturer': 'Theed Palace Space Vessel Engineering Corps', 'cost_in_credits': 'unknown', 'length': '47.9', 'max_atmosphering_speed': '8000', 'crew': '4', 'passengers': 'unknown', 'cargo_capacity': 'unknown', 'consumables': 'unknown', 'hyperdrive_rating': '0.9', 'MGLT': 'unknown', 'starship_class': 'yacht', 'pilots': ['https://swapi.dev/api/people/35/'], 'films': ['https://swapi.dev/api/films/5/'], 'created': '2014-12-20T17:46:46.847000Z', 'edited': '2014-12-20T21:23:49.932000Z', 'url': 'https://swapi.dev/api/starships/49/'}, {'name': 'Republic Assault ship', 'model': 'Acclamator I-class assault ship', 'manufacturer': 'Rothana Heavy Engineering', 'cost_in_credits': 'unknown', 'length': '752', 'max_atmosphering_speed': 'unknown', 'crew': '700', 'passengers': '16000', 'cargo_capacity': '11250000', 'consumables': '2 years', 'hyperdrive_rating': '0.6', 'MGLT': 'unknown', 'starship_class': 'assault ship', 'pilots': [], 'films': ['https://swapi.dev/api/films/5/'], 'created': '2014-12-20T18:08:42.926000Z', 'edited': '2014-12-20T21:23:49.935000Z', 'url': 'https://swapi.dev/api/starships/52/'}, {'name': 'Solar Sailer', 'model': 'Punworcca 116-class interstellar sloop', 'manufacturer': 'Huppla Pasa Tisc Shipwrights Collective', 'cost_in_credits': '35700', 'length': '15.2', 'max_atmosphering_speed': '1600', 'crew': '3', 'passengers': '11', 'cargo_capacity': '240', 'consumables': '7 days', 'hyperdrive_rating': '1.5', 'MGLT': 'unknown', 'starship_class': 'yacht', 'pilots': [], 'films': ['https://swapi.dev/api/films/5/'], 'created': '2014-12-20T18:37:56.969000Z', 'edited': '2014-12-20T21:23:49.937000Z', 'url': 'https://swapi.dev/api/starships/58/'}, {'name': 'Trade Federation cruiser', 'model': 'Providence-class carrier/destroyer', 'manufacturer': 'Rendili StarDrive, Free Dac Volunteers Engineering corps.', 'cost_in_credits': '125000000', 'length': '1088', 'max_atmosphering_speed': '1050', 'crew': '600', 'passengers': '48247', 'cargo_capacity': '50000000', 'consumables': '4 years', 'hyperdrive_rating': '1.5', 'MGLT': 'unknown', 'starship_class': 'capital ship', 'pilots': ['https://swapi.dev/api/people/10/', 'https://swapi.dev/api/people/11/'], 'films': ['https://swapi.dev/api/films/6/'], 'created': '2014-12-20T19:40:21.902000Z', 'edited': '2014-12-20T21:23:49.941000Z', 'url': 'https://swapi.dev/api/starships/59/'}, {'name': 'Theta-class T-2c shuttle', 'model': 'Theta-class T-2c shuttle', 'manufacturer': 'Cygnus Spaceworks', 'cost_in_credits': '1000000', 'length': '18.5', 'max_atmosphering_speed': '2000', 'crew': '5', 'passengers': '16', 'cargo_capacity': '50000', 'consumables': '56 days', 'hyperdrive_rating': '1.0', 'MGLT': 'unknown', 'starship_class': 'transport', 'pilots': [], 'films': ['https://swapi.dev/api/films/6/'], 'created': '2014-12-20T19:48:40.409000Z', 'edited': '2014-12-20T21:23:49.944000Z', 'url': 'https://swapi.dev/api/starships/61/'}, {'name': 'Republic attack cruiser', 'model': 'Senator-class Star Destroyer', 'manufacturer': 'Kuat Drive Yards, Allanteen Six shipyards', 'cost_in_credits': '59000000', 'length': '1137', 'max_atmosphering_speed': '975', 'crew': '7400', 'passengers': '2000', 'cargo_capacity': '20000000', 'consumables': '2 years', 'hyperdrive_rating': '1.0', 'MGLT': 'unknown', 'starship_class': 'star destroyer', 'pilots': [], 'films': ['https://swapi.dev/api/films/6/'], 'created': '2014-12-20T19:52:56.232000Z', 'edited': '2014-12-20T21:23:49.946000Z', 'url': 'https://swapi.dev/api/starships/63/'}, {'name': 'Naboo star skiff', 'model': 'J-type star skiff', 'manufacturer': 'Theed Palace Space Vessel Engineering Corps/Nubia Star Drives, Incorporated', 'cost_in_credits': 'unknown', 'length': '29.2', 'max_atmosphering_speed': '1050', 'crew': '3', 'passengers': '3', 'cargo_capacity': 'unknown', 'consumables': 'unknown', 'hyperdrive_rating': '0.5', 'MGLT': 'unknown', 'starship_class': 'yacht', 'pilots': ['https://swapi.dev/api/people/10/', 'https://swapi.dev/api/people/35/'], 'films': ['https://swapi.dev/api/films/6/'], 'created': '2014-12-20T19:55:15.396000Z', 'edited': '2014-12-20T21:23:49.948000Z', 'url': 'https://swapi.dev/api/starships/64/'}, {'name': 'Jedi Interceptor', 'model': 'Eta-2 Actis-class light interceptor', 'manufacturer': 'Kuat Systems Engineering', 'cost_in_credits': '320000', 'length': '5.47', 'max_atmosphering_speed': '1500', 'crew': '1', 'passengers': '0', 'cargo_capacity': '60', 'consumables': '2 days', 'hyperdrive_rating': '1.0', 'MGLT': 'unknown', 'starship_class': 'starfighter', 'pilots': ['https://swapi.dev/api/people/10/', 'https://swapi.dev/api/people/11/'], 'films': ['https://swapi.dev/api/films/6/'], 'created': '2014-12-20T19:56:57.468000Z', 'edited': '2014-12-20T21:23:49.951000Z', 'url': 'https://swapi.dev/api/starships/65/'}, {'name': 'arc-170', 'model': 'Aggressive Reconnaissance-170 starfighte', 'manufacturer': 'Incom Corporation, Subpro Corporation', 'cost_in_credits': '155000', 'length': '14.5', 'max_atmosphering_speed': '1000', 'crew': '3', 'passengers': '0', 'cargo_capacity': '110', 'consumables': '5 days', 'hyperdrive_rating': '1.0', 'MGLT': '100', 'starship_class': 'starfighter', 'pilots': [], 'films': ['https://swapi.dev/api/films/6/'], 'created': '2014-12-20T20:03:48.603000Z', 'edited': '2014-12-20T21:23:49.953000Z', 'url': 'https://swapi.dev/api/starships/66/'}, {'name': 'Banking clan frigte', 'model': 'Munificent-class star frigate', 'manufacturer': 'Hoersch-Kessel Drive, Inc, Gwori Revolutionary Industries', 'cost_in_credits': '57000000', 'length': '825', 'max_atmosphering_speed': 'unknown', 'crew': '200', 'passengers': 'unknown', 'cargo_capacity': '40000000', 'consumables': '2 years', 'hyperdrive_rating': '1.0', 'MGLT': 'unknown', 'starship_class': 'cruiser', 'pilots': [], 'films': ['https://swapi.dev/api/films/6/'], 'created': '2014-12-20T20:07:11.538000Z', 'edited': '2014-12-20T21:23:49.956000Z', 'url': 'https://swapi.dev/api/starships/68/'}, {'name': 'Belbullab-22 starfighter', 'model': 'Belbullab-22 starfighter', 'manufacturer': 'Feethan Ottraw Scalable Assemblies', 'cost_in_credits': '168000', 'length': '6.71', 'max_atmosphering_speed': '1100', 'crew': '1', 'passengers': '0', 'cargo_capacity': '140', 'consumables': '7 days', 'hyperdrive_rating': '6', 'MGLT': 'unknown', 'starship_class': 'starfighter', 'pilots': ['https://swapi.dev/api/people/10/', 'https://swapi.dev/api/people/79/'], 'films': ['https://swapi.dev/api/films/6/'], 'created': '2014-12-20T20:38:05.031000Z', 'edited': '2014-12-20T21:23:49.959000Z', 'url': 'https://swapi.dev/api/starships/74/'}, {'name': 'V-wing', 'model': 'Alpha-3 Nimbus-class V-wing starfighter', 'manufacturer': 'Kuat Systems Engineering', 'cost_in_credits': '102500', 'length': '7.9', 'max_atmosphering_speed': '1050', 'crew': '1', 'passengers': '0', 'cargo_capacity': '60', 'consumables': '15 hours', 'hyperdrive_rating': '1.0', 'MGLT': 'unknown', 'starship_class': 'starfighter', 'pilots': [], 'films': ['https://swapi.dev/api/films/6/'], 'created': '2014-12-20T20:43:04.349000Z', 'edited': '2014-12-20T21:23:49.961000Z', 'url': 'https://swapi.dev/api/starships/75/'}]\n"
          ]
        }
      ]
    },
    {
      "cell_type": "markdown",
      "source": [
        "Define and call a function that returns all of the models of starships."
      ],
      "metadata": {
        "id": "zqYawPTMhnZf"
      }
    },
    {
      "cell_type": "code",
      "source": [
        "def get_models(starships):\n",
        "  models = list()\n",
        "  for ship in starships:\n",
        "    models.append(ship['model'])\n",
        "  print(models)\n",
        "\n",
        "get_models(starships)"
      ],
      "metadata": {
        "id": "3kDs9Wsgi_M_",
        "outputId": "be7b0261-c964-48c2-9731-79ca939a7fa6",
        "colab": {
          "base_uri": "https://localhost:8080/"
        }
      },
      "execution_count": 20,
      "outputs": [
        {
          "output_type": "stream",
          "name": "stdout",
          "text": [
            "['CR90 corvette', 'Imperial I-class Star Destroyer', 'Sentinel-class landing craft', 'DS-1 Orbital Battle Station', 'YT-1300 light freighter', 'BTL Y-wing', 'T-65 X-wing', 'Twin Ion Engine Advanced x1', 'Executor-class star dreadnought', 'GR-75 medium transport', 'Firespray-31-class patrol and attack', 'Lambda-class T-4a shuttle', 'EF76 Nebulon-B escort frigate', 'MC80 Liberty type Star Cruiser', 'RZ-1 A-wing Interceptor', 'A/SF-01 B-wing starfighter', 'Consular-class cruiser', 'Lucrehulk-class Droid Control Ship', 'N-1 starfighter', 'J-type 327 Nubian royal starship', 'Star Courier', 'J-type diplomatic barge', 'Botajef AA-9 Freighter-Liner', 'Delta-7 Aethersprite-class interceptor', 'H-type Nubian yacht', 'Acclamator I-class assault ship', 'Punworcca 116-class interstellar sloop', 'Providence-class carrier/destroyer', 'Theta-class T-2c shuttle', 'Senator-class Star Destroyer', 'J-type star skiff', 'Eta-2 Actis-class light interceptor', 'Aggressive Reconnaissance-170 starfighte', 'Munificent-class star frigate', 'Belbullab-22 starfighter', 'Alpha-3 Nimbus-class V-wing starfighter']\n"
          ]
        }
      ]
    },
    {
      "cell_type": "markdown",
      "source": [
        "Define and call a function that finds the ship that can carry the most cargo."
      ],
      "metadata": {
        "id": "9U5eFZuThvto"
      }
    },
    {
      "cell_type": "code",
      "source": [
        "def find_max_cargo(starships):\n",
        "  cargo = list()\n",
        "  for ship in starships:\n",
        "    cargo.append(ship['cargo_capacity'])\n",
        "  max_cargo = max(cargo)\n",
        "  max_ships = [ship['name'] for ship in starships if ship['cargo_capacity'] == max_cargo]\n",
        "  print(max_ships)\n",
        "find_max_cargo(starships)"
      ],
      "metadata": {
        "id": "kcu3Dsn8jc7V",
        "outputId": "737ea52f-ed3a-4c7e-f939-7f9bcee0a689",
        "colab": {
          "base_uri": "https://localhost:8080/"
        }
      },
      "execution_count": 22,
      "outputs": [
        {
          "output_type": "stream",
          "name": "stdout",
          "text": [
            "['Calamari Cruiser', 'Republic Cruiser', 'Naboo Royal Starship', 'J-type diplomatic barge', 'AA-9 Coruscant freighter', 'H-type Nubian yacht', 'Naboo star skiff']\n"
          ]
        }
      ]
    },
    {
      "cell_type": "markdown",
      "source": [
        "Define a function that returns the number of crew and passengers of a given Starship.\n",
        "\n",
        "Make at least two separate function calls to test the functionality and any edge cases you can think of."
      ],
      "metadata": {
        "id": "_QehoXI3h0kC"
      }
    },
    {
      "cell_type": "markdown",
      "source": [],
      "metadata": {
        "id": "LwVJDxXfH4LX"
      }
    },
    {
      "cell_type": "code",
      "source": [
        "def find_crew(starship_name, starships):\n",
        "  crew = [(\"Crew: \" + ship['crew'], \"Passengers: \" + ship['passengers']) for ship in starships if starship_name == ship['name']]\n",
        "  print(crew)\n",
        "\n",
        "find_crew(\"Calamari Cruiser\", starships)\n",
        "find_crew(\"CR90 corvette\", starships)"
      ],
      "metadata": {
        "id": "hVqkGPJhjeHy",
        "outputId": "5122d266-e79e-4b02-ddc9-f27063587e36",
        "colab": {
          "base_uri": "https://localhost:8080/"
        }
      },
      "execution_count": 29,
      "outputs": [
        {
          "output_type": "stream",
          "name": "stdout",
          "text": [
            "[('Crew: 5400', 'Passengers: 1200')]\n",
            "[('Crew: 30-165', 'Passengers: 600')]\n"
          ]
        }
      ]
    },
    {
      "cell_type": "markdown",
      "source": [],
      "metadata": {
        "id": "3XqJfodkH3V3"
      }
    },
    {
      "cell_type": "markdown",
      "source": [
        "Define and a function to find the starships that have appeared in a given number of films.\n",
        "\n",
        "Make at least two separate function calls to test the functionality and any edge cases you can think of."
      ],
      "metadata": {
        "id": "GhT4clOUioSJ"
      }
    },
    {
      "cell_type": "code",
      "source": [
        "def find_starship_by_appearances(starships, n):\n",
        "  ships = [ship['name'] for ship in starships if len(ship['films']) == n]\n",
        "  print(ships)\n",
        "\n",
        "find_starship_by_appearances(starships, 2)\n",
        "find_starship_by_appearances(starships, 3)\n",
        "find_starship_by_appearances(starships, 4)\n",
        "find_starship_by_appearances(starships, 0)"
      ],
      "metadata": {
        "id": "B6l-bJtFjgev",
        "outputId": "d1ae31fb-80d7-4be0-c42a-c59ea7c347ee",
        "colab": {
          "base_uri": "https://localhost:8080/"
        }
      },
      "execution_count": 38,
      "outputs": [
        {
          "output_type": "stream",
          "name": "stdout",
          "text": [
            "['Executor', 'Rebel transport', 'Slave 1', 'Imperial shuttle', 'EF76 Nebulon-B escort frigate', 'Naboo fighter', 'Jedi starfighter']\n",
            "['CR90 corvette', 'Star Destroyer', 'Millennium Falcon', 'Y-wing', 'X-wing', 'Droid control ship']\n",
            "[]\n",
            "[]\n"
          ]
        }
      ]
    }
  ]
}