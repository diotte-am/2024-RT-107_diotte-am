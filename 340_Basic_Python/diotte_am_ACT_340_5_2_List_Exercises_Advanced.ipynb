{
  "cells": [
    {
      "cell_type": "markdown",
      "metadata": {
        "id": "qK41rEENgA65"
      },
      "source": [
        "# List Excercises- Advanced\n",
        "\n",
        "Complete the following practice excercises below to build up your skills with manipulating lists."
      ]
    },
    {
      "cell_type": "markdown",
      "metadata": {
        "id": "Q2j3l_wyf-UH"
      },
      "source": [
        "**Problem 1**\n",
        "\n",
        "\n",
        "\n",
        "*   Using the list below, use a Class method to add the string \"skirt\" to the end of the list.\n",
        "\n"
      ]
    },
    {
      "cell_type": "markdown",
      "metadata": {},
      "source": [
        "Amare Diotte\n",
        "Data Engineering\n",
        "ACT 340.5.2 \n",
        "Lists Advanced"
      ]
    },
    {
      "cell_type": "code",
      "execution_count": 2,
      "metadata": {
        "id": "hbDcD9R0fiJd"
      },
      "outputs": [
        {
          "name": "stdout",
          "output_type": "stream",
          "text": [
            "['socks', 'pants', 'shirt', 'polo', 'skirt']\n"
          ]
        }
      ],
      "source": [
        "clothing= ['socks', 'pants', 'shirt', 'polo']\n",
        "clothing.append('skirt')\n",
        "print(clothing)"
      ]
    },
    {
      "cell_type": "markdown",
      "metadata": {
        "id": "y356o0Fjf5F_"
      },
      "source": [
        "**Problem 2**\n",
        "\n",
        "\n",
        "\n",
        "*   Using the same list as above, add a list to the 2nd index that includes the following strings:\n",
        "> 'suit jacket', 'suit pants', 'tie', 'button down'\n",
        "\n",
        "\n",
        "\n"
      ]
    },
    {
      "cell_type": "code",
      "execution_count": 3,
      "metadata": {
        "colab": {
          "base_uri": "https://localhost:8080/"
        },
        "id": "nWyQ5oVmghJz",
        "outputId": "35aa02dc-ab3d-4b37-ced2-f88e60c9d642"
      },
      "outputs": [
        {
          "name": "stdout",
          "output_type": "stream",
          "text": [
            "['socks', 'pants', ['suit jacket', 'suit pants', 'tie', 'button down'], 'shirt', 'polo', 'skirt']\n"
          ]
        }
      ],
      "source": [
        "clothing.insert(2,['suit jacket', 'suit pants', 'tie', 'button down'])\n",
        "print(clothing)\n"
      ]
    },
    {
      "cell_type": "markdown",
      "metadata": {
        "id": "ibOLVpd9ghnV"
      },
      "source": [
        "**Problem 3**\n",
        "\n",
        "\n",
        "\n",
        "*   Use the list below and use a Class method to get the total number of times the integer 14 appears in the list.\n",
        "\n"
      ]
    },
    {
      "cell_type": "code",
      "execution_count": 5,
      "metadata": {
        "colab": {
          "base_uri": "https://localhost:8080/"
        },
        "id": "uew5D-NjgzGu",
        "outputId": "2de3ba34-58d5-4e22-bee3-c482b537595d"
      },
      "outputs": [
        {
          "name": "stdout",
          "output_type": "stream",
          "text": [
            "4\n",
            "0\n"
          ]
        }
      ],
      "source": [
        "nums= [2, 150, 14, 36, 78, 81, 14, 1000, 54, 14, 14]\n",
        "print(nums.count(14))\n",
        "\n",
        "print(nums.count(15))"
      ]
    },
    {
      "cell_type": "markdown",
      "metadata": {
        "id": "06UCPuTZhCfh"
      },
      "source": [
        "**Problem 4**\n",
        "\n",
        "\n",
        "*  Use the same list as above\n",
        "*  Use a built-in function to find the total of all the numbers in the list.\n",
        "\n"
      ]
    },
    {
      "cell_type": "code",
      "execution_count": null,
      "metadata": {
        "colab": {
          "base_uri": "https://localhost:8080/"
        },
        "id": "uvbtynLshN7h",
        "outputId": "2004ce15-2a22-4f67-d6c4-143b2e52215d"
      },
      "outputs": [
        {
          "name": "stdout",
          "output_type": "stream",
          "text": [
            "1457\n"
          ]
        }
      ],
      "source": [
        "print(sum(nums))"
      ]
    },
    {
      "cell_type": "markdown",
      "metadata": {
        "id": "2y7Vph1ThSqQ"
      },
      "source": [
        "**Problem 5**\n",
        "\n",
        "\n",
        "\n",
        "*   Use the same list as above\n",
        "*   Slice the list so that it is reversed without using the .reverse() method\n",
        "\n"
      ]
    },
    {
      "cell_type": "code",
      "execution_count": 7,
      "metadata": {
        "id": "jFRwVKvyh6ip"
      },
      "outputs": [
        {
          "name": "stdout",
          "output_type": "stream",
          "text": [
            "[14, 14, 54, 1000, 14, 81, 78, 36, 14, 150, 2]\n"
          ]
        }
      ],
      "source": [
        "reversed_list = nums[::-1]\n",
        "print(reversed_list)"
      ]
    },
    {
      "cell_type": "markdown",
      "metadata": {
        "id": "UV5mw3sXh7AL"
      },
      "source": [
        "**Problem 6**\n",
        "\n",
        "\n",
        "\n",
        "*   Use the list below.\n",
        "*   Slice the list so only the last two elements are included in the slice.\n",
        "\n"
      ]
    },
    {
      "cell_type": "code",
      "execution_count": 14,
      "metadata": {
        "colab": {
          "base_uri": "https://localhost:8080/"
        },
        "id": "1gj4O32HiLg7",
        "outputId": "198400d4-cd93-424e-b9f3-4bf878e1e751"
      },
      "outputs": [
        {
          "name": "stdout",
          "output_type": "stream",
          "text": [
            "[4, 5]\n",
            "[4, 5]\n"
          ]
        }
      ],
      "source": [
        "one_to_five= [1, 2, 3, 4, 5]\n",
        "print(one_to_five[-2:])\n",
        "print(one_to_five[len(one_to_five)-2:])"
      ]
    },
    {
      "cell_type": "markdown",
      "metadata": {
        "id": "eO_HnwfUic9F"
      },
      "source": [
        "**Problem 7**\n",
        "\n",
        "*   Use the list below\n",
        "*   Write a for loop so that every item in the list is printed\n",
        "\n"
      ]
    },
    {
      "cell_type": "code",
      "execution_count": 9,
      "metadata": {
        "id": "oJdo3DfcisLP"
      },
      "outputs": [
        {
          "name": "stdout",
          "output_type": "stream",
          "text": [
            "koala\n",
            "cat\n",
            "fox\n",
            "panda\n",
            "chipmunk\n",
            "sloth\n"
          ]
        }
      ],
      "source": [
        "animals= [\"koala\", \"cat\", \"fox\", \"panda\", \"chipmunk\", \"sloth\"]\n",
        "for animal in animals:\n",
        "    print(animal)"
      ]
    },
    {
      "cell_type": "markdown",
      "metadata": {
        "id": "gmEVvlB5jG7m"
      },
      "source": [
        "**Problem 8**\n",
        "\n",
        "\n",
        "\n",
        "* Use the list below\n",
        "* Create a function that accepts a list as an argument\n",
        "*   Check if the data type at each index is a list\n",
        "*   If it is a list, check the length of the list. If it is greater than 3, add the second element to a new list.\n",
        "*   Return the new list\n",
        "\n",
        "\n",
        "\n",
        "\n",
        "\n"
      ]
    },
    {
      "cell_type": "code",
      "execution_count": 20,
      "metadata": {
        "id": "RDlz_hkCj08s"
      },
      "outputs": [
        {
          "data": {
            "text/plain": [
              "['you', 'win']"
            ]
          },
          "execution_count": 20,
          "metadata": {},
          "output_type": "execute_result"
        }
      ],
      "source": [
        "random_things= ['hello', ['breakfast', 'you', 'pencil', 2], 22, ['burrito', 'taco'],\n",
        "                [22, 'win', 33, [5], 'laptop']]\n",
        "\n",
        "def list_check(my_list):\n",
        "    new_list = []\n",
        "    for item in my_list:\n",
        "        if type(item) == list:\n",
        "            if len(item) > 3:\n",
        "                new_list.append(item[1])\n",
        "    return new_list\n",
        "\n",
        "list_check(random_things)"
      ]
    },
    {
      "cell_type": "markdown",
      "metadata": {
        "id": "WdAG983lk4yc"
      },
      "source": [
        "**Problem 9**\n",
        "\n",
        "\n",
        "\n",
        "*   Use the list below\n",
        "*   Create a new list\n",
        "*   Use a for loop and the append() method to append each item with a Dr. prefix to the new list.\n",
        "\n",
        "\n",
        "\n",
        "\n"
      ]
    },
    {
      "cell_type": "code",
      "execution_count": 21,
      "metadata": {
        "colab": {
          "base_uri": "https://localhost:8080/"
        },
        "id": "jRp_K6kOlTDx",
        "outputId": "f903c2e9-bfe8-4555-eca1-c7bb059cb73d"
      },
      "outputs": [
        {
          "name": "stdout",
          "output_type": "stream",
          "text": [
            "['Dr. Dre', 'Dr. Seuss', 'Dr. Who', 'Dr. McCoy']\n"
          ]
        }
      ],
      "source": [
        "names= ['Dre', 'Seuss', 'Who', 'McCoy']\n",
        "Doctors = []\n",
        "for name in names:\n",
        "  Doctors.append(\"Dr. \"+name)\n",
        "print(Doctors)"
      ]
    },
    {
      "cell_type": "markdown",
      "metadata": {
        "id": "aHfC8mXulwEl"
      },
      "source": [
        "**Problem 10**\n",
        "\n",
        "\n",
        "\n",
        "*   Use the list below\n",
        "*   Use a while loop, iterate through the list and if there is an integer 100, print a message that says what index the 100 is at\n",
        "*   Example: \"There is a 100 at index no: 5\"\n",
        "\n",
        "\n",
        "\n",
        "\n",
        "\n"
      ]
    },
    {
      "cell_type": "code",
      "execution_count": 26,
      "metadata": {
        "id": "psW443glmlVe"
      },
      "outputs": [
        {
          "name": "stdout",
          "output_type": "stream",
          "text": [
            "There is a 100 at index no: 7\n"
          ]
        }
      ],
      "source": [
        "num2= [10, 99, 85, 76, 43, 2, 77, 100, 13, 12, 42, 99, -1, -100]\n",
        "itr = 0\n",
        "while itr < len(num2) - 1:\n",
        "    if num2[itr] == 100:\n",
        "        print(\"There is a 100 at index no:\", itr)\n",
        "    itr += 1"
      ]
    },
    {
      "cell_type": "markdown",
      "metadata": {
        "id": "zV4_y6n8mzL9"
      },
      "source": [
        "**Problem 11**\n",
        "\n",
        "\n",
        "\n",
        "\n",
        "*   Use the list below\n",
        "*   Create a new list\n",
        "*   Use a for loop or a whole loop to iterate through the list and append all the elements in the old list, to the new list UNLESS the element is an empty string\n",
        "\n",
        "\n"
      ]
    },
    {
      "cell_type": "code",
      "execution_count": 30,
      "metadata": {
        "colab": {
          "base_uri": "https://localhost:8080/"
        },
        "id": "vCGbxhKXnKjM",
        "outputId": "312b9673-5ee6-4ead-b8d1-ee1751fc79c6"
      },
      "outputs": [
        {
          "name": "stdout",
          "output_type": "stream",
          "text": [
            "[\"McDonald's\", \"Wendy's\", 'Burger King', 'Taco Bell', \"Dunkin' Donuts\"]\n"
          ]
        }
      ],
      "source": [
        "list1= [\"McDonald's\", \"Wendy's\", \"\", \"Burger King\", \"\", \"Taco Bell\", \"\", \"Dunkin' Donuts\"]\n",
        "new_list = []\n",
        "for i in list1:\n",
        "  if i:\n",
        "    new_list.append(i)\n",
        "print(new_list)\n"
      ]
    },
    {
      "cell_type": "code",
      "execution_count": 37,
      "metadata": {
        "colab": {
          "base_uri": "https://localhost:8080/"
        },
        "id": "gYZOUFbprwPQ",
        "outputId": "e82cc7ec-b820-4886-e684-fa7445b89043"
      },
      "outputs": [
        {
          "name": "stdout",
          "output_type": "stream",
          "text": [
            "[1, 2, 3, [4, 5, 6]]\n",
            "[1, 2, 3, 4, 5, 6] [4, 5, 6, 7]\n",
            "{1: 4, 2: 5, 3: 6}\n"
          ]
        }
      ],
      "source": [
        "\n",
        "my_list = [1, 2, 3]\n",
        "another_list = [4, 5, 6]\n",
        "my_list.append(another_list)\n",
        "print(my_list)  # Output: [1, 2, 3, [4, 5, 6]]\n",
        "\n",
        "my_list = [1, 2, 3]\n",
        "another_list = [4, 5, 6]\n",
        "my_list.extend(another_list)\n",
        "  # Output: [1, 2, 3, 4, 5, 6]\n",
        "another_list.append(7)\n",
        "print(my_list,another_list)\n",
        "\n",
        "my_list = [1, 2, 3]\n",
        "another_list = [4, 5, 6]\n",
        "object_list = dict(zip(my_list, another_list))\n",
        "print(object_list)\n"
      ]
    },
    {
      "cell_type": "markdown",
      "metadata": {
        "id": "yPurohASnUVy"
      },
      "source": []
    }
  ],
  "metadata": {
    "colab": {
      "provenance": []
    },
    "kernelspec": {
      "display_name": "Python 3",
      "name": "python3"
    },
    "language_info": {
      "codemirror_mode": {
        "name": "ipython",
        "version": 3
      },
      "file_extension": ".py",
      "mimetype": "text/x-python",
      "name": "python",
      "nbconvert_exporter": "python",
      "pygments_lexer": "ipython3",
      "version": "3.10.13"
    }
  },
  "nbformat": 4,
  "nbformat_minor": 0
}
