{
  "nbformat": 4,
  "nbformat_minor": 0,
  "metadata": {
    "colab": {
      "provenance": [],
      "include_colab_link": true
    },
    "kernelspec": {
      "name": "python3",
      "display_name": "Python 3"
    },
    "language_info": {
      "name": "python"
    }
  },
  "cells": [
    {
      "cell_type": "markdown",
      "metadata": {
        "id": "view-in-github",
        "colab_type": "text"
      },
      "source": [
        "<a href=\"https://colab.research.google.com/github/diotte-am/2024-RT-107_diotte-am/blob/main/ACT_343_3_2_Pandas_Dataframe_Exercises_Movie_Data_Analysis_with_Pandas_diotte_am.ipynb\" target=\"_parent\"><img src=\"https://colab.research.google.com/assets/colab-badge.svg\" alt=\"Open In Colab\"/></a>"
      ]
    },
    {
      "cell_type": "markdown",
      "source": [
        "#**ACT - 343.3.2 Pandas Dataframe Exercises: Movie Data Analysis with Pandas**"
      ],
      "metadata": {
        "id": "IKvodnQvMfEu"
      }
    },
    {
      "cell_type": "markdown",
      "source": [
        "##**Assignment Overview:**\n",
        "\n",
        "In this assignment, you will be working with simple and easy questions for practicing with the Pandas library using the provided movie dataset:\n",
        "\n"
      ],
      "metadata": {
        "id": "3iouXN50L-Kk"
      }
    },
    {
      "cell_type": "markdown",
      "source": [
        "\n",
        "**Scenario:**\n",
        "You are a movie analyst and you have a dataset containing information about movies, including their titles, genres, release years, and IMDB ratings. Your task is to use Pandas to analyze this data and answer some interesting questions."
      ],
      "metadata": {
        "id": "kQuA1GA0McFT"
      }
    },
    {
      "cell_type": "markdown",
      "source": [
        "**Common methods used with Pandas Series**\n",
        "\n",
        ".head(), .mean(), .sort_values(), .info(), .describe(), .value_counts(), .groupby()\n",
        "\n",
        "Please refer to the P[andas Dataframe](https://pandas.pydata.org/docs/reference/frame.html) Documentation for a full list of methods and how to implement them.\n",
        "\n",
        "##**Instructions:**"
      ],
      "metadata": {
        "id": "sRbbAqA9LA36"
      }
    },
    {
      "cell_type": "markdown",
      "source": [
        "\n",
        "**Task 1: Here we have a sample movie dataset. Using the pandas library, convert the list of dictionaries into a Pandas DataFrame.**\n",
        "\n",
        "Dataset contains the following columns:\n",
        "\n",
        "- title (string): The title of the movie.\n",
        "\n",
        "- genre (string): The genre of the movie (e.g., comedy, drama, action).\n",
        "\n",
        "- release_year (int): The year the movie was released\n",
        "-imdb_rating (float): The IMDB rating of the movie (on a scale of 1 to 10)"
      ],
      "metadata": {
        "id": "oltF3tqRGFpA"
      }
    },
    {
      "cell_type": "code",
      "source": [
        "# Sample movie data with 50 entries\n",
        "movie_data = [\n",
        "    {\"title\": \"The Shawshank Redemption\", \"genre\": \"Drama\", \"release_year\": 1994, \"imdb_rating\": 9.3},\n",
        "    {\"title\": \"The Godfather\", \"genre\": \"Crime\", \"release_year\": 1972, \"imdb_rating\": 9.2},\n",
        "    {\"title\": \"The Dark Knight\", \"genre\": \"Action\", \"release_year\": 2008, \"imdb_rating\": 9.0},\n",
        "    {\"title\": \"12 Angry Men\", \"genre\": \"Drama\", \"release_year\": 1957, \"imdb_rating\": 8.9},\n",
        "    {\"title\": \"Schindler's List\", \"genre\": \"Biography\", \"release_year\": 1993, \"imdb_rating\": 8.9},\n",
        "    {\"title\": \"Pulp Fiction\", \"genre\": \"Crime\", \"release_year\": 1994, \"imdb_rating\": 8.9},\n",
        "    {\"title\": \"The Lord of the Rings: The Return of the King\", \"genre\": \"Adventure\", \"release_year\": 2003, \"imdb_rating\": 8.9},\n",
        "    {\"title\": \"The Good, the Bad and the Ugly\", \"genre\": \"Western\", \"release_year\": 1966, \"imdb_rating\": 8.8},\n",
        "    {\"title\": \"Fight Club\", \"genre\": \"Drama\", \"release_year\": 1999, \"imdb_rating\": 8.8},\n",
        "    {\"title\": \"Forrest Gump\", \"genre\": \"Drama\", \"release_year\": 1994, \"imdb_rating\": 8.8},\n",
        "    {\"title\": \"Inception\", \"genre\": \"Action\", \"release_year\": 2010, \"imdb_rating\": 8.8},\n",
        "    {\"title\": \"The Matrix\", \"genre\": \"Sci-Fi\", \"release_year\": 1999, \"imdb_rating\": 8.7},\n",
        "    {\"title\": \"Goodfellas\", \"genre\": \"Biography\", \"release_year\": 1990, \"imdb_rating\": 8.7},\n",
        "    {\"title\": \"One Flew Over the Cuckoo's Nest\", \"genre\": \"Drama\", \"release_year\": 1975, \"imdb_rating\": 8.7},\n",
        "    {\"title\": \"Se7en\", \"genre\": \"Crime\", \"release_year\": 1995, \"imdb_rating\": 8.6},\n",
        "    {\"title\": \"The Silence of the Lambs\", \"genre\": \"Thriller\", \"release_year\": 1991, \"imdb_rating\": 8.6},\n",
        "    {\"title\": \"Saving Private Ryan\", \"genre\": \"Drama\", \"release_year\": 1998, \"imdb_rating\": 8.6},\n",
        "    {\"title\": \"City of God\", \"genre\": \"Crime\", \"release_year\": 2002, \"imdb_rating\": 8.6},\n",
        "    {\"title\": \"Life Is Beautiful\", \"genre\": \"Comedy\", \"release_year\": 1997, \"imdb_rating\": 8.6},\n",
        "    {\"title\": \"The Usual Suspects\", \"genre\": \"Crime\", \"release_year\": 1995, \"imdb_rating\": 8.5},\n",
        "    {\"title\": \"Léon: The Professional\", \"genre\": \"Action\", \"release_year\": 1994, \"imdb_rating\": 8.5},\n",
        "    {\"title\": \"Interstellar\", \"genre\": \"Adventure\", \"release_year\": 2014, \"imdb_rating\": 8.6},\n",
        "    {\"title\": \"Spirited Away\", \"genre\": \"Animation\", \"release_year\": 2001, \"imdb_rating\": 8.6},\n",
        "    {\"title\": \"Parasite\", \"genre\": \"Drama\", \"release_year\": 2019, \"imdb_rating\": 8.6},\n",
        "    {\"title\": \"The Green Mile\", \"genre\": \"Crime\", \"release_year\": 1999, \"imdb_rating\": 8.6},\n",
        "    {\"title\": \"Star Wars: Episode V - The Empire Strikes Back\", \"genre\": \"Action\", \"release_year\": 1980, \"imdb_rating\": 8.7},\n",
        "    {\"title\": \"The Pianist\", \"genre\": \"Biography\", \"release_year\": 2002, \"imdb_rating\": 8.5},\n",
        "    {\"title\": \"The Intouchables\", \"genre\": \"Biography\", \"release_year\": 2011, \"imdb_rating\": 8.5},\n",
        "    {\"title\": \"The Departed\", \"genre\": \"Crime\", \"release_year\": 2006, \"imdb_rating\": 8.5},\n",
        "    {\"title\": \"Terminator 2: Judgment Day\", \"genre\": \"Action\", \"release_year\": 1991, \"imdb_rating\": 8.5},\n",
        "    {\"title\": \"Back to the Future\", \"genre\": \"Adventure\", \"release_year\": 1985, \"imdb_rating\": 8.5},\n",
        "    {\"title\": \"Whiplash\", \"genre\": \"Drama\", \"release_year\": 2014, \"imdb_rating\": 8.5},\n",
        "    {\"title\": \"Gladiator\", \"genre\": \"Action\", \"release_year\": 2000, \"imdb_rating\": 8.5},\n",
        "    {\"title\": \"The Prestige\", \"genre\": \"Drama\", \"release_year\": 2006, \"imdb_rating\": 8.5},\n",
        "    {\"title\": \"The Lion King\", \"genre\": \"Animation\", \"release_year\": 1994, \"imdb_rating\": 8.5},\n",
        "    {\"title\": \"Memento\", \"genre\": \"Mystery\", \"release_year\": 2000, \"imdb_rating\": 8.4},\n",
        "    {\"title\": \"Apocalypse Now\", \"genre\": \"Drama\", \"release_year\": 1979, \"imdb_rating\": 8.4},\n",
        "    {\"title\": \"Alien\", \"genre\": \"Horror\", \"release_year\": 1979, \"imdb_rating\": 8.4},\n",
        "    {\"title\": \"Sunset Blvd.\", \"genre\": \"Drama\", \"release_year\": 1950, \"imdb_rating\": 8.4},\n",
        "    {\"title\": \"Dr. Strangelove or: How I Learned to Stop Worrying and Love the Bomb\", \"genre\": \"Comedy\", \"release_year\": 1964, \"imdb_rating\": 8.4},\n",
        "    {\"title\": \"The Great Dictator\", \"genre\": \"Comedy\", \"release_year\": 1940, \"imdb_rating\": 8.4},\n",
        "    {\"title\": \"Cinema Paradiso\", \"genre\": \"Drama\", \"release_year\": 1988, \"imdb_rating\": 8.4},\n",
        "    {\"title\": \"The Lives of Others\", \"genre\": \"Drama\", \"release_year\": 2006, \"imdb_rating\": 8.4},\n",
        "    {\"title\": \"Grave of the Fireflies\", \"genre\": \"Animation\", \"release_year\": 1988, \"imdb_rating\": 8.5},\n",
        "    {\"title\": \"Paths of Glory\", \"genre\": \"Drama\", \"release_year\": 1957, \"imdb_rating\": 8.4},\n",
        "    {\"title\": \"Django Unchained\", \"genre\": \"Drama\", \"release_year\": 2012, \"imdb_rating\": 8.4},\n",
        "    {\"title\": \"WALL·E\", \"genre\": \"Animation\", \"release_year\": 2008, \"imdb_rating\": 8.4},\n",
        "    {\"title\": \"American Beauty\", \"genre\": \"Drama\", \"release_year\": 1999, \"imdb_rating\": 8.4},\n",
        "    {\"title\": \"The Dark Knight Rises\", \"genre\": \"Action\", \"release_year\": 2012, \"imdb_rating\": 8.4}\n",
        "]\n"
      ],
      "metadata": {
        "id": "B9nWVeVAGaHh"
      },
      "execution_count": null,
      "outputs": []
    },
    {
      "cell_type": "code",
      "execution_count": null,
      "metadata": {
        "id": "60Y9mUV4FBL4"
      },
      "outputs": [],
      "source": [
        "#Load the data into a pandas DataFrame"
      ]
    },
    {
      "cell_type": "markdown",
      "source": [
        "**Task 2: Basic Information:**\n",
        "\n",
        "How do you get a concise summary of the DataFrame, including the number of non-null entries for each column?"
      ],
      "metadata": {
        "id": "TdVTG-IHJJES"
      }
    },
    {
      "cell_type": "markdown",
      "source": [
        "**Task 3: Check the DataFrame:**\n",
        "Print the first few rows of the DataFrame using the `head()` method to get an idea of the data."
      ],
      "metadata": {
        "id": "3PzDWMRlGFFg"
      }
    },
    {
      "cell_type": "markdown",
      "source": [
        "**Task 4: Selecting Columns:**\n",
        "\n",
        "How can you select and display only the title and imdb_rating columns?\n"
      ],
      "metadata": {
        "id": "k4-sac41JdbZ"
      }
    },
    {
      "cell_type": "markdown",
      "source": [
        "**Task 5: Filtering Rows:**\n",
        "\n",
        "How do you filter the DataFrame to show only movies with an IMDb rating greater than 9.0?\n"
      ],
      "metadata": {
        "id": "9Waj6-5hJxKb"
      }
    },
    {
      "cell_type": "markdown",
      "source": [
        "**Task 6: Sorting Data:**\n",
        "\n",
        "How can you sort the DataFrame by `release_year` in ascending order?"
      ],
      "metadata": {
        "id": "Yiho0_p0JzqC"
      }
    },
    {
      "cell_type": "markdown",
      "source": [
        "**Task 7: Average IMDb Rating:**\n",
        "\n",
        "How do you calculate the average IMDb rating of all movies in the DataFrame?\n",
        "\n",
        "\n",
        "\n"
      ],
      "metadata": {
        "id": "dMbdyx2bKZ1S"
      }
    },
    {
      "cell_type": "markdown",
      "source": [
        "**Task 8: Specific Year Filter:**\n",
        "\n",
        "How can you filter the DataFrame to show only movies released in the year 1994?"
      ],
      "metadata": {
        "id": "8HctGN-VKdcx"
      }
    },
    {
      "cell_type": "markdown",
      "source": [
        "**Task 9:Average rating by genre**:\n",
        "Group the DataFrame by genre and calculate the average IMDB rating for each genre using the `groupby()` and `mean()` methods."
      ],
      "metadata": {
        "id": "hMRvvXOoG-9w"
      }
    },
    {
      "cell_type": "markdown",
      "source": [
        "**Task 10:Top 10 rated movies:**\n",
        "\n",
        "Sort the DataFrame by IMDB rating in descending order and select the top 10 movies using `sort_values()` and `head()` methods"
      ],
      "metadata": {
        "id": "1DKmuy0uIWeq"
      }
    },
    {
      "cell_type": "markdown",
      "source": [
        "**Task 11: Number of movies by release decade:**\n",
        "Create new groups based on decades using integer division (//) and calculate the number of movies released in each decade using the groupby and size methods."
      ],
      "metadata": {
        "id": "qrTAS3cOIhEw"
      }
    }
  ]
}