{
 "cells": [
  {
   "cell_type": "markdown",
   "metadata": {},
   "source": [
    "Amare Diotte\n",
    "GLAB 343.3.1\n",
    "Handling Missing Data"
   ]
  },
  {
   "cell_type": "markdown",
   "metadata": {},
   "source": [
    "# Example 1: Dropping or Cleaning the Missing Data Using df.dropna() Method"
   ]
  },
  {
   "cell_type": "code",
   "execution_count": 2,
   "metadata": {},
   "outputs": [
    {
     "name": "stdout",
     "output_type": "stream",
     "text": [
      "        Name   Age  Weight     Salary\n",
      "0      James  36.0    75.0  5428000.0\n",
      "1    Villers  38.0    74.0  3428000.0\n",
      "2      VKole  31.0    70.0  8428000.0\n",
      "3      Smith  34.0    80.0  4428000.0\n",
      "4      Gayle  40.0   100.0  4528000.0\n",
      "5       Adam  40.0     NaN  4528000.0\n",
      "6     Rooter  33.0    72.0  7028000.0\n",
      "7   Peterson  42.0    85.0  2528000.0\n",
      "8      lynda  42.0    85.0        NaN\n",
      "9        NaN  42.0    85.0        NaN\n",
      "10     Jenny   NaN   100.0    25632.0\n",
      "11      Kenn   NaN   110.0    25632.0\n",
      "12       Aly   NaN    90.0    25582.0\n",
      "13      John  41.0    85.0  1528000.0\n",
      "---- after dropping or cleaning the missing data ---\n",
      "        Name   Age  Weight     Salary\n",
      "0      James  36.0    75.0  5428000.0\n",
      "1    Villers  38.0    74.0  3428000.0\n",
      "2      VKole  31.0    70.0  8428000.0\n",
      "3      Smith  34.0    80.0  4428000.0\n",
      "4      Gayle  40.0   100.0  4528000.0\n",
      "5       Adam  40.0     NaN  4528000.0\n",
      "6     Rooter  33.0    72.0  7028000.0\n",
      "7   Peterson  42.0    85.0  2528000.0\n",
      "8      lynda  42.0    85.0        NaN\n",
      "9        NaN  42.0    85.0        NaN\n",
      "10     Jenny   NaN   100.0    25632.0\n",
      "11      Kenn   NaN   110.0    25632.0\n",
      "12       Aly   NaN    90.0    25582.0\n",
      "13      John  41.0    85.0  1528000.0\n"
     ]
    }
   ],
   "source": [
    "# Initializing the nested list with Data set\n",
    "import numpy as np\n",
    "import pandas as pd\n",
    "employee_list = [['James', 36, 75, 5428000],\n",
    "['Villers', 38, 74, 3428000],\n",
    "['VKole', 31, 70, 8428000],\n",
    "['Smith', 34, 80, 4428000],\n",
    "['Gayle', 40, 100, 4528000],\n",
    "['Adam', 40, np.nan, 4528000],\n",
    "['Rooter', 33, 72, 7028000],\n",
    "['Peterson', 42, 85, 2528000],\n",
    "['lynda', 42, 85, np.nan],\n",
    "[np.nan, 42, 85, np.nan],\n",
    "['Jenny', np.nan, 100, 25632],\n",
    "['Kenn', np.nan, 110, 25632],\n",
    "['Aly', np.nan, 90, 25582],\n",
    "['John', 41, 85, 1528000]]\n",
    "# creating a pandas dataframe\n",
    "df = pd.DataFrame(employee_list, columns=['Name', 'Age', 'Weight', 'Salary'])\n",
    "print(df)\n",
    "print('---- after dropping or cleaning the missing data ---')\n",
    "df_cleaned = df.dropna()"
   ]
  },
  {
   "cell_type": "code",
   "execution_count": 3,
   "metadata": {},
   "outputs": [
    {
     "name": "stdout",
     "output_type": "stream",
     "text": [
      "\n",
      "Dropped rows:\n",
      "     Name   Age  Weight     Salary\n",
      "5    Adam  40.0     NaN  4528000.0\n",
      "8   lynda  42.0    85.0        NaN\n",
      "9     NaN  42.0    85.0        NaN\n",
      "10  Jenny   NaN   100.0    25632.0\n",
      "11   Kenn   NaN   110.0    25632.0\n",
      "12    Aly   NaN    90.0    25582.0\n"
     ]
    }
   ],
   "source": [
    "# Identify dropped rows\n",
    "dropped_rows = df.index.difference(df_cleaned.index)\n",
    "print(\"\\nDropped rows:\")\n",
    "print(df.loc[dropped_rows])"
   ]
  },
  {
   "cell_type": "markdown",
   "metadata": {},
   "source": [
    "# Pros and Cons of dropna()\n",
    "\n",
    "## Pros\n",
    "● Straightforward and simple to use.\n",
    "● Beneficial when missing values have no importance.\n",
    "\n",
    "## Cons\n",
    "● Using this approach can lead to information loss, which can introduce bias to the final\n",
    "dataset.\n",
    "● This is not appropriate when the data is not missing completely at random.\n",
    "● Data set with a large proportion of missing value can be significantly decreased, which\n",
    "can impact the result of all statistical analysis on that data set."
   ]
  },
  {
   "cell_type": "markdown",
   "metadata": {},
   "source": [
    "# Example 2: Filling Missing Data Using df.fillna()\n",
    "You can replace missing values with:\n",
    "● Specified values.\n",
    "● The values above the missing value.\n",
    "● The values below the missing value.\n",
    "\n",
    "Syntax:\n",
    "*DataFrame.fillna(value=None, method=None, axis=None,*\n",
    "*inplace=False, limit=None, downcast=None, \\*\\*kwargs)*\n",
    "\n",
    "Parameters:\n",
    "● value: static, dictionary, array, series, or dataframe to fill instead of NaN.\n",
    "● method: Method is used if the user does not pass any value. Pandas has\n",
    "different methods like bfill(), backfill(), or ffill(), which fills the place with value in\n",
    "the Forward index or Previous/Back, respectively.\n",
    "● axis: axis takes int or string value for rows/columns. Input can be 0 or 1 for\n",
    "Integer and ‘index’ or ‘columns’ for String.\n",
    "● inplace: a boolean, which makes the changes in the data frame itself if True.\n",
    "limit: an integer value, which specifies the maximum number of consecutive\n",
    "forward/backward NaN value fills.\n",
    "● downcast: takes a dict, which specifies what dtype to downcast to which one\n",
    "such as float64 to int64.\n",
    "● **kwargs: any other keyword arguments.\n"
   ]
  },
  {
   "cell_type": "code",
   "execution_count": 5,
   "metadata": {},
   "outputs": [
    {
     "name": "stdout",
     "output_type": "stream",
     "text": [
      "---------------Before Cleaning NaN values--------------\n",
      "        Name   Age  Weight     Salary\n",
      "0      James  36.0    75.0  5428000.0\n",
      "1    Villers  38.0    74.0  3428000.0\n",
      "2       Kole  31.0    70.0  8428000.0\n",
      "3      Smith  34.0    80.0  4428000.0\n",
      "4      Gayle  40.0   100.0  4528000.0\n",
      "5       Adam  40.0     NaN  4528000.0\n",
      "6     Rooter  33.0    72.0  7028000.0\n",
      "7   Peterson  42.0    85.0  2528000.0\n",
      "8      lynda  42.0    85.0        NaN\n",
      "9        NaN  42.0    85.0        NaN\n",
      "10     Jenny   NaN   100.0    25632.0\n",
      "11      Kenn   NaN   110.0    25632.0\n",
      "12       Aly   NaN    90.0    25582.0\n",
      "13      John  41.0    85.0  1528000.0\n",
      "---------------after filling all columns------------\n",
      "        Name   Age Weight     Salary\n",
      "0      James  36.0   75.0  5428000.0\n",
      "1    Villers  38.0   74.0  3428000.0\n",
      "2       Kole  31.0   70.0  8428000.0\n",
      "3      Smith  34.0   80.0  4428000.0\n",
      "4      Gayle  40.0  100.0  4528000.0\n",
      "5       Adam  40.0   None  4528000.0\n",
      "6     Rooter  33.0   72.0  7028000.0\n",
      "7   Peterson  42.0   85.0  2528000.0\n",
      "8      lynda  42.0   85.0       None\n",
      "9       None  42.0   85.0       None\n",
      "10     Jenny  None  100.0    25632.0\n",
      "11      Kenn  None  110.0    25632.0\n",
      "12       Aly  None   90.0    25582.0\n",
      "13      John  41.0   85.0  1528000.0\n"
     ]
    }
   ],
   "source": [
    "# fillna() on all columns\n",
    "# Initializing the nested list with Data set\n",
    "employee_list = [['James', 36, 75, 5428000],\n",
    "['Villers', 38, 74, 3428000],\n",
    "['Kole', 31, 70, 8428000],\n",
    "['Smith', 34, 80, 4428000],\n",
    "['Gayle', 40, 100, 4528000],\n",
    "['Adam', 40, np.nan, 4528000],\n",
    "['Rooter', 33, 72, 7028000],\n",
    "['Peterson', 42, 85, 2528000],\n",
    "['lynda', 42, 85, np.nan],\n",
    "[np.nan, 42, 85, np.nan],\n",
    "['Jenny', np.nan, 100, 25632],\n",
    "['Kenn', np.nan, 110, 25632],\n",
    "['Aly', np.nan, 90, 25582],\n",
    "['John', 41, 85, 1528000],]\n",
    "# creating a pandas dataframe\n",
    "df = pd.DataFrame(employee_list, columns=['Name', 'Age', 'Weight', 'Salary'])\n",
    "print(\"---------------Before Cleaning NaN values--------------\")\n",
    "print(df)\n",
    "print('---------------after filling all columns------------')\n",
    "print(df.fillna('None'))"
   ]
  },
  {
   "cell_type": "code",
   "execution_count": 6,
   "metadata": {},
   "outputs": [
    {
     "name": "stdout",
     "output_type": "stream",
     "text": [
      "---------------Before Cleaning NaN values--------------\n",
      "        Name   Age  Weight     Salary\n",
      "0      James  36.0    75.0  5428000.0\n",
      "1    Villers  38.0    74.0  3428000.0\n",
      "2      VKole  31.0    70.0  8428000.0\n",
      "3      Smith  34.0    80.0  4428000.0\n",
      "4      Gayle  40.0   100.0  4528000.0\n",
      "5       Adam  40.0     NaN  4528000.0\n",
      "6     Rooter  33.0    72.0  7028000.0\n",
      "7   Peterson  42.0    85.0  2528000.0\n",
      "8      lynda  42.0    85.0        NaN\n",
      "9        NaN  42.0    85.0        NaN\n",
      "10     Jenny   NaN   100.0    25632.0\n",
      "11      Kenn   NaN   110.0    25632.0\n",
      "12       Aly   NaN    90.0    25582.0\n",
      "13      John  41.0    85.0  1528000.0\n",
      "---------------after Cleaning NaN values from multiple columns--------------\n",
      "     Weight      Age\n",
      "0      75.0     36.0\n",
      "1      74.0     38.0\n",
      "2      70.0     31.0\n",
      "3      80.0     34.0\n",
      "4     100.0     40.0\n",
      "5   pending     40.0\n",
      "6      72.0     33.0\n",
      "7      85.0     42.0\n",
      "8      85.0     42.0\n",
      "9      85.0     42.0\n",
      "10    100.0  pending\n",
      "11    110.0  pending\n",
      "12     90.0  pending\n",
      "13     85.0     41.0\n"
     ]
    }
   ],
   "source": [
    "employee_list = [['James', 36, 75, 5428000],\n",
    "['Villers', 38, 74, 3428000],\n",
    "['VKole', 31, 70, 8428000],\n",
    "['Smith', 34, 80, 4428000],\n",
    "['Gayle', 40, 100, 4528000],\n",
    "['Adam', 40, np.nan, 4528000],\n",
    "['Rooter', 33, 72, 7028000],\n",
    "['Peterson', 42, 85, 2528000],\n",
    "['lynda', 42, 85, np.nan],\n",
    "[np.nan, 42, 85, np.nan],\n",
    "['Jenny', np.nan, 100, 25632],\n",
    "['Kenn', np.nan, 110, 25632],\n",
    "['Aly', np.nan, 90, 25582],\n",
    "['John', 41, 85, 1528000],]\n",
    "# creating a pandas dataframe\n",
    "df = pd.DataFrame(employee_list, columns=['Name', 'Age', 'Weight', 'Salary'])\n",
    "print(\"---------------Before Cleaning NaN values--------------\")\n",
    "print(df)\n",
    "print(\"---------------after Cleaning NaN values from multiple columns--------------\")\n",
    "df =df[['Weight','Age']].fillna('pending')\n",
    "print(df)"
   ]
  },
  {
   "cell_type": "code",
   "execution_count": 8,
   "metadata": {},
   "outputs": [
    {
     "name": "stdout",
     "output_type": "stream",
     "text": [
      "---------------Before Cleaning NaN values--------------\n",
      "        Name   Age  Weight     Salary\n",
      "0      James  36.0    75.0  5428000.0\n",
      "1    Villers  38.0    74.0  3428000.0\n",
      "2      VKole  31.0    70.0  8428000.0\n",
      "3      Smith  34.0    80.0  4428000.0\n",
      "4      Gayle  40.0   100.0  4528000.0\n",
      "5       Adam  40.0     NaN  4528000.0\n",
      "6     Rooter  33.0    72.0  7028000.0\n",
      "7   Peterson  42.0    85.0  2528000.0\n",
      "8      lynda  42.0    85.0        NaN\n",
      "9        NaN  42.0    85.0        NaN\n",
      "10     Jenny   NaN   100.0    25632.0\n",
      "11      Kenn   NaN   110.0    25632.0\n",
      "12       Aly   NaN    90.0    25582.0\n",
      "13      John  41.0    85.0  1528000.0\n",
      "-----after Cleaning NaN values from multiple columns--------------\n",
      "                    Name      Age   Weight     Salary\n",
      "0                  James     36.0     75.0  5428000.0\n",
      "1                Villers     38.0     74.0  3428000.0\n",
      "2                  VKole     31.0     70.0  8428000.0\n",
      "3                  Smith     34.0     80.0  4428000.0\n",
      "4                  Gayle     40.0    100.0  4528000.0\n",
      "5                   Adam     40.0  Pending  4528000.0\n",
      "6                 Rooter     33.0     72.0  7028000.0\n",
      "7               Peterson     42.0     85.0  2528000.0\n",
      "8                  lynda     42.0     85.0        0.0\n",
      "9   Verification pending     42.0     85.0        0.0\n",
      "10                 Jenny  Unknown    100.0    25632.0\n",
      "11                  Kenn  Unknown    110.0    25632.0\n",
      "12                   Aly  Unknown     90.0    25582.0\n",
      "13                  John     41.0     85.0  1528000.0\n"
     ]
    }
   ],
   "source": [
    "employee_list = [['James', 36, 75, 5428000],\n",
    "['Villers', 38, 74, 3428000],\n",
    "['VKole', 31, 70, 8428000],\n",
    "['Smith', 34, 80, 4428000],\n",
    "['Gayle', 40, 100, 4528000],\n",
    "['Adam', 40, np.nan, 4528000],\n",
    "['Rooter', 33, 72, 7028000],\n",
    "['Peterson', 42, 85, 2528000],\n",
    "['lynda', 42, 85, np.nan],\n",
    "[np.nan, 42, 85, np.nan],\n",
    "['Jenny', np.nan, 100, 25632],\n",
    "['Kenn', np.nan, 110, 25632],\n",
    "['Aly', np.nan, 90, 25582],\n",
    "['John', 41, 85, 1528000],]\n",
    "# creating a pandas dataframe\n",
    "df = pd.DataFrame(employee_list, columns=['Name', 'Age', 'Weight', 'Salary'])\n",
    "print(\"---------------Before Cleaning NaN values--------------\")\n",
    "print(df)\n",
    "print(\"-----after Cleaning NaN values from multiple columns--------------\")\n",
    "df2 = df.fillna(value={'Weight':'Pending','Age':\"Unknown\", 'Salary': \"0.0\", 'Name': \"Verification pending\"})\n",
    "print(df2)"
   ]
  },
  {
   "cell_type": "markdown",
   "metadata": {},
   "source": [
    "# Pandas Replace NaN with Blank/Empty String"
   ]
  },
  {
   "cell_type": "code",
   "execution_count": 10,
   "metadata": {},
   "outputs": [
    {
     "name": "stdout",
     "output_type": "stream",
     "text": [
      "  Courses      Fee Duration Discount\n",
      "0   Spark  20000.0            1000.0\n",
      "1          25000.0   40days         \n",
      "2  Hadoop            35days   1500.0\n",
      "3  Python  22000.0                  \n",
      "4  pandas  24000.0   60days   2500.0\n",
      "5                    50days   2100.0\n",
      "6    Java  22000.0   55days         \n"
     ]
    }
   ],
   "source": [
    "import pandas as pd\n",
    "import numpy as np\n",
    "technologies = {\n",
    "'Courses':[\"Spark\",np.nan,\"Hadoop\",\"Python\",\"pandas\",np.nan,\"Java\"],\n",
    "'Fee' :[20000,25000, np.nan,22000,24000,np.nan,22000],\n",
    "'Duration':[np.nan,'40days','35days',\n",
    "np.nan,'60days','50days','55days'],\n",
    "'Discount':[1000,np.nan,1500,np.nan,2500,2100,np.nan]\n",
    "}\n",
    "df = pd.DataFrame(technologies)\n",
    "df2 = df.replace(np.nan, '', regex=True)\n",
    "print(df2)"
   ]
  },
  {
   "cell_type": "code",
   "execution_count": 11,
   "metadata": {},
   "outputs": [
    {
     "name": "stdout",
     "output_type": "stream",
     "text": [
      "   Courses      Fee\n",
      "0    Spark  20000.0\n",
      "1  PENDING  25000.0\n",
      "2   Hadoop  PENDING\n",
      "3   Python  22000.0\n",
      "4   pandas  24000.0\n",
      "5  PENDING  PENDING\n",
      "6     Java  22000.0\n"
     ]
    }
   ],
   "source": [
    "import pandas as pd\n",
    "import numpy as np\n",
    "technologies = {\n",
    "'Courses':[\"Spark\",np.nan,\"Hadoop\",\"Python\",\"pandas\",np.nan,\"Java\"],\n",
    "'Fee' :[20000,25000, np.nan,22000,24000,np.nan,22000],\n",
    "'Duration':[np.nan,'40days','35days', np.nan,'60days','50days','55days'],\n",
    "'Discount':[1000,np.nan,1500,np.nan,2500,2100,np.nan]\n",
    "}\n",
    "df = pd.DataFrame(technologies)\n",
    "# Using multiple columns\n",
    "df2 = df[['Courses','Fee' ]] = df[['Courses','Fee' ]].fillna('PENDING')\n",
    "print(df2)"
   ]
  },
  {
   "cell_type": "code",
   "execution_count": 12,
   "metadata": {},
   "outputs": [
    {
     "name": "stdout",
     "output_type": "stream",
     "text": [
      "None\n"
     ]
    },
    {
     "name": "stderr",
     "output_type": "stream",
     "text": [
      "/var/folders/94/j790bdv14q96b_9354dhwgdc0000gn/T/ipykernel_72074/2991909771.py:12: FutureWarning: Setting an item of incompatible dtype is deprecated and will raise an error in a future version of pandas. Value '' has dtype incompatible with float64, please explicitly cast to a compatible dtype first.\n",
      "  df2 = df.fillna('', inplace=True)\n"
     ]
    }
   ],
   "source": [
    "#fillna() with inplace=True\n",
    "# no new DF is created, so it returns null\n",
    "import pandas as pd\n",
    "import numpy as np\n",
    "technologies = {\n",
    "'Courses':[\"Spark\",np.nan,\"Hadoop\",\"Python\",\"pandas\",np.nan,\"Java\"],\n",
    "'Fee' :[20000,25000, np.nan,22000,24000,np.nan,22000],\n",
    "'Duration':[np.nan,'40days','35days', np.nan,'60days','50days','55days'],\n",
    "'Discount':[1000,np.nan,1500,np.nan,2500,2100,np.nan]\n",
    "}\n",
    "df = pd.DataFrame(technologies)\n",
    "# Using pandas replace nan with null\n",
    "df2 = df.fillna('', inplace=True)\n",
    "print(df2)"
   ]
  },
  {
   "cell_type": "code",
   "execution_count": 1,
   "metadata": {},
   "outputs": [
    {
     "name": "stdout",
     "output_type": "stream",
     "text": [
      "============Before Handling missing values=====\n",
      "        Name   Age  Weight     Salary\n",
      "0      James  36.0    75.0  5428000.0\n",
      "1    Villers  38.0    74.0  3428000.0\n",
      "2      VKole  31.0    70.0  8428000.0\n",
      "3      Smith  34.0    80.0  4428000.0\n",
      "4      Gayle  40.0   100.0  4528000.0\n",
      "5       Adam  40.0     NaN  4528000.0\n",
      "6     Rooter  33.0    72.0  7028000.0\n",
      "7   Peterson  42.0    85.0  2528000.0\n",
      "8      lynda  42.0    85.0        NaN\n",
      "9       <NA>  42.0    85.0        NaN\n",
      "10     Jenny   NaN   100.0    25632.0\n",
      "11      Kenn   NaN   110.0    25632.0\n",
      "12       Aly   NaN    90.0    25582.0\n",
      "13      John  41.0    85.0  1528000.0\n",
      "14       Ali  26.0    69.0        NaN\n",
      "===========After Handling missing values using fillna()=====\n",
      "                    Name      Age   Weight     Salary\n",
      "0                  James     36.0     75.0  5428000.0\n",
      "1                Villers     38.0     74.0  3428000.0\n",
      "2                  VKole     31.0     70.0  8428000.0\n",
      "3                  Smith     34.0     80.0  4428000.0\n",
      "4                  Gayle     40.0    100.0  4528000.0\n",
      "5                   Adam     40.0  pending  4528000.0\n",
      "6                 Rooter     33.0     72.0  7028000.0\n",
      "7               Peterson     42.0     85.0  2528000.0\n",
      "8                  lynda     42.0     85.0        0.0\n",
      "9   Verification Pending     42.0     85.0        0.0\n",
      "10                 Jenny  Unknown    100.0    25632.0\n",
      "11                  Kenn  Unknown    110.0    25632.0\n",
      "12                   Aly  Unknown     90.0    25582.0\n",
      "13                  John     41.0     85.0  1528000.0\n",
      "14                   Ali     26.0     69.0        0.0\n"
     ]
    }
   ],
   "source": [
    "import pandas as pd\n",
    "df = pd.read_csv('employee.csv', dtype={'Name':'string' })\n",
    "print('============Before Handling missing values=====')\n",
    "print(df)\n",
    "print('===========After Handling missing values using fillna()=====')\n",
    "df2 = df.fillna(value={'Name':'Verification Pending','Age':\"Unknown\", 'Weight': \"pending\", 'Salary': 0.0})\n",
    "print(df2)"
   ]
  }
 ],
 "metadata": {
  "kernelspec": {
   "display_name": "Python 3",
   "language": "python",
   "name": "python3"
  },
  "language_info": {
   "codemirror_mode": {
    "name": "ipython",
    "version": 3
   },
   "file_extension": ".py",
   "mimetype": "text/x-python",
   "name": "python",
   "nbconvert_exporter": "python",
   "pygments_lexer": "ipython3",
   "version": "3.12.0"
  }
 },
 "nbformat": 4,
 "nbformat_minor": 2
}
